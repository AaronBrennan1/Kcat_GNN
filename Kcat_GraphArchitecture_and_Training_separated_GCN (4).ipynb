{
  "cells": [
    {
      "cell_type": "code",
      "execution_count": null,
      "metadata": {
        "colab": {
          "base_uri": "https://localhost:8080/"
        },
        "id": "XSoKRi4mQSpb",
        "outputId": "0eaddb32-900a-40fe-c473-2df6afcedb72"
      },
      "outputs": [
        {
          "output_type": "stream",
          "name": "stdout",
          "text": [
            "Collecting rdkit\n",
            "  Downloading rdkit-2024.3.5-cp310-cp310-manylinux_2_28_x86_64.whl.metadata (3.9 kB)\n",
            "Requirement already satisfied: numpy in /usr/local/lib/python3.10/dist-packages (from rdkit) (1.26.4)\n",
            "Requirement already satisfied: Pillow in /usr/local/lib/python3.10/dist-packages (from rdkit) (9.4.0)\n",
            "Downloading rdkit-2024.3.5-cp310-cp310-manylinux_2_28_x86_64.whl (33.1 MB)\n",
            "\u001b[2K   \u001b[90m━━━━━━━━━━━━━━━━━━━━━━━━━━━━━━━━━━━━━━━━\u001b[0m \u001b[32m33.1/33.1 MB\u001b[0m \u001b[31m19.9 MB/s\u001b[0m eta \u001b[36m0:00:00\u001b[0m\n",
            "\u001b[?25hInstalling collected packages: rdkit\n",
            "Successfully installed rdkit-2024.3.5\n",
            "Collecting torch_geometric\n",
            "  Downloading torch_geometric-2.5.3-py3-none-any.whl.metadata (64 kB)\n",
            "\u001b[2K     \u001b[90m━━━━━━━━━━━━━━━━━━━━━━━━━━━━━━━━━━━━━━━━\u001b[0m \u001b[32m64.2/64.2 kB\u001b[0m \u001b[31m3.0 MB/s\u001b[0m eta \u001b[36m0:00:00\u001b[0m\n",
            "\u001b[?25hRequirement already satisfied: tqdm in /usr/local/lib/python3.10/dist-packages (from torch_geometric) (4.66.5)\n",
            "Requirement already satisfied: numpy in /usr/local/lib/python3.10/dist-packages (from torch_geometric) (1.26.4)\n",
            "Requirement already satisfied: scipy in /usr/local/lib/python3.10/dist-packages (from torch_geometric) (1.13.1)\n",
            "Requirement already satisfied: fsspec in /usr/local/lib/python3.10/dist-packages (from torch_geometric) (2024.6.1)\n",
            "Requirement already satisfied: jinja2 in /usr/local/lib/python3.10/dist-packages (from torch_geometric) (3.1.4)\n",
            "Requirement already satisfied: aiohttp in /usr/local/lib/python3.10/dist-packages (from torch_geometric) (3.10.3)\n",
            "Requirement already satisfied: requests in /usr/local/lib/python3.10/dist-packages (from torch_geometric) (2.32.3)\n",
            "Requirement already satisfied: pyparsing in /usr/local/lib/python3.10/dist-packages (from torch_geometric) (3.1.2)\n",
            "Requirement already satisfied: scikit-learn in /usr/local/lib/python3.10/dist-packages (from torch_geometric) (1.3.2)\n",
            "Requirement already satisfied: psutil>=5.8.0 in /usr/local/lib/python3.10/dist-packages (from torch_geometric) (5.9.5)\n",
            "Requirement already satisfied: aiohappyeyeballs>=2.3.0 in /usr/local/lib/python3.10/dist-packages (from aiohttp->torch_geometric) (2.3.5)\n",
            "Requirement already satisfied: aiosignal>=1.1.2 in /usr/local/lib/python3.10/dist-packages (from aiohttp->torch_geometric) (1.3.1)\n",
            "Requirement already satisfied: attrs>=17.3.0 in /usr/local/lib/python3.10/dist-packages (from aiohttp->torch_geometric) (24.2.0)\n",
            "Requirement already satisfied: frozenlist>=1.1.1 in /usr/local/lib/python3.10/dist-packages (from aiohttp->torch_geometric) (1.4.1)\n",
            "Requirement already satisfied: multidict<7.0,>=4.5 in /usr/local/lib/python3.10/dist-packages (from aiohttp->torch_geometric) (6.0.5)\n",
            "Requirement already satisfied: yarl<2.0,>=1.0 in /usr/local/lib/python3.10/dist-packages (from aiohttp->torch_geometric) (1.9.4)\n",
            "Requirement already satisfied: async-timeout<5.0,>=4.0 in /usr/local/lib/python3.10/dist-packages (from aiohttp->torch_geometric) (4.0.3)\n",
            "Requirement already satisfied: MarkupSafe>=2.0 in /usr/local/lib/python3.10/dist-packages (from jinja2->torch_geometric) (2.1.5)\n",
            "Requirement already satisfied: charset-normalizer<4,>=2 in /usr/local/lib/python3.10/dist-packages (from requests->torch_geometric) (3.3.2)\n",
            "Requirement already satisfied: idna<4,>=2.5 in /usr/local/lib/python3.10/dist-packages (from requests->torch_geometric) (3.7)\n",
            "Requirement already satisfied: urllib3<3,>=1.21.1 in /usr/local/lib/python3.10/dist-packages (from requests->torch_geometric) (2.0.7)\n",
            "Requirement already satisfied: certifi>=2017.4.17 in /usr/local/lib/python3.10/dist-packages (from requests->torch_geometric) (2024.7.4)\n",
            "Requirement already satisfied: joblib>=1.1.1 in /usr/local/lib/python3.10/dist-packages (from scikit-learn->torch_geometric) (1.4.2)\n",
            "Requirement already satisfied: threadpoolctl>=2.0.0 in /usr/local/lib/python3.10/dist-packages (from scikit-learn->torch_geometric) (3.5.0)\n",
            "Downloading torch_geometric-2.5.3-py3-none-any.whl (1.1 MB)\n",
            "\u001b[2K   \u001b[90m━━━━━━━━━━━━━━━━━━━━━━━━━━━━━━━━━━━━━━━━\u001b[0m \u001b[32m1.1/1.1 MB\u001b[0m \u001b[31m19.4 MB/s\u001b[0m eta \u001b[36m0:00:00\u001b[0m\n",
            "\u001b[?25hInstalling collected packages: torch_geometric\n",
            "Successfully installed torch_geometric-2.5.3\n",
            "Requirement already satisfied: transformers in /usr/local/lib/python3.10/dist-packages (4.42.4)\n",
            "Requirement already satisfied: filelock in /usr/local/lib/python3.10/dist-packages (from transformers) (3.15.4)\n",
            "Requirement already satisfied: huggingface-hub<1.0,>=0.23.2 in /usr/local/lib/python3.10/dist-packages (from transformers) (0.23.5)\n",
            "Requirement already satisfied: numpy<2.0,>=1.17 in /usr/local/lib/python3.10/dist-packages (from transformers) (1.26.4)\n",
            "Requirement already satisfied: packaging>=20.0 in /usr/local/lib/python3.10/dist-packages (from transformers) (24.1)\n",
            "Requirement already satisfied: pyyaml>=5.1 in /usr/local/lib/python3.10/dist-packages (from transformers) (6.0.2)\n",
            "Requirement already satisfied: regex!=2019.12.17 in /usr/local/lib/python3.10/dist-packages (from transformers) (2024.5.15)\n",
            "Requirement already satisfied: requests in /usr/local/lib/python3.10/dist-packages (from transformers) (2.32.3)\n",
            "Requirement already satisfied: safetensors>=0.4.1 in /usr/local/lib/python3.10/dist-packages (from transformers) (0.4.4)\n",
            "Requirement already satisfied: tokenizers<0.20,>=0.19 in /usr/local/lib/python3.10/dist-packages (from transformers) (0.19.1)\n",
            "Requirement already satisfied: tqdm>=4.27 in /usr/local/lib/python3.10/dist-packages (from transformers) (4.66.5)\n",
            "Requirement already satisfied: fsspec>=2023.5.0 in /usr/local/lib/python3.10/dist-packages (from huggingface-hub<1.0,>=0.23.2->transformers) (2024.6.1)\n",
            "Requirement already satisfied: typing-extensions>=3.7.4.3 in /usr/local/lib/python3.10/dist-packages (from huggingface-hub<1.0,>=0.23.2->transformers) (4.12.2)\n",
            "Requirement already satisfied: charset-normalizer<4,>=2 in /usr/local/lib/python3.10/dist-packages (from requests->transformers) (3.3.2)\n",
            "Requirement already satisfied: idna<4,>=2.5 in /usr/local/lib/python3.10/dist-packages (from requests->transformers) (3.7)\n",
            "Requirement already satisfied: urllib3<3,>=1.21.1 in /usr/local/lib/python3.10/dist-packages (from requests->transformers) (2.0.7)\n",
            "Requirement already satisfied: certifi>=2017.4.17 in /usr/local/lib/python3.10/dist-packages (from requests->transformers) (2024.7.4)\n",
            "Collecting biopython\n",
            "  Downloading biopython-1.84-cp310-cp310-manylinux_2_17_x86_64.manylinux2014_x86_64.whl.metadata (12 kB)\n",
            "Requirement already satisfied: numpy in /usr/local/lib/python3.10/dist-packages (from biopython) (1.26.4)\n",
            "Downloading biopython-1.84-cp310-cp310-manylinux_2_17_x86_64.manylinux2014_x86_64.whl (3.2 MB)\n",
            "\u001b[2K   \u001b[90m━━━━━━━━━━━━━━━━━━━━━━━━━━━━━━━━━━━━━━━━\u001b[0m \u001b[32m3.2/3.2 MB\u001b[0m \u001b[31m36.7 MB/s\u001b[0m eta \u001b[36m0:00:00\u001b[0m\n",
            "\u001b[?25hInstalling collected packages: biopython\n",
            "Successfully installed biopython-1.84\n",
            "Requirement already satisfied: numpy in /usr/local/lib/python3.10/dist-packages (1.26.4)\n",
            "Collecting suds\n",
            "  Downloading suds-1.1.2-py3-none-any.whl.metadata (1.7 kB)\n",
            "Downloading suds-1.1.2-py3-none-any.whl (144 kB)\n",
            "\u001b[2K   \u001b[90m━━━━━━━━━━━━━━━━━━━━━━━━━━━━━━━━━━━━━━━━\u001b[0m \u001b[32m144.8/144.8 kB\u001b[0m \u001b[31m13.1 MB/s\u001b[0m eta \u001b[36m0:00:00\u001b[0m\n",
            "\u001b[?25hInstalling collected packages: suds\n",
            "Successfully installed suds-1.1.2\n"
          ]
        }
      ],
      "source": [
        "! pip install rdkit\n",
        "! pip install torch_geometric\n",
        "! pip install transformers\n",
        "! pip install biopython\n",
        "! pip install numpy\n",
        "! pip install suds"
      ]
    },
    {
      "cell_type": "markdown",
      "source": [
        "# Imports"
      ],
      "metadata": {
        "id": "gSnhQN3tf_FZ"
      }
    },
    {
      "cell_type": "code",
      "execution_count": null,
      "metadata": {
        "id": "R9Hq4v56QZIy"
      },
      "outputs": [],
      "source": [
        "import pandas as pd\n",
        "from os.path import join\n",
        "import torch\n",
        "import torch.nn.functional as F\n",
        "from torch_geometric.nn import GCNConv, global_mean_pool\n",
        "from torch_geometric.nn import GATConv, global_mean_pool\n",
        "from torch_geometric.data import Data, DataLoader\n",
        "from rdkit import Chem\n",
        "import rdkit\n",
        "from rdkit.Chem import AllChem\n",
        "from Bio.PDB import PDBList, PDBParser\n",
        "import numpy as np\n",
        "import requests\n",
        "from sklearn.metrics import r2_score\n",
        "import pickle\n",
        "import torch\n",
        "import networkx as nx\n",
        "import numpy as np\n",
        "from Bio.PDB import PDBParser, PDBList, NeighborSearch\n",
        "from torch_geometric.data import Data\n",
        "from scipy.spatial import KDTree\n",
        "import logging\n",
        "import torch\n",
        "import torch.nn.functional as F\n",
        "from torch_geometric.nn import GCNConv, global_mean_pool\n",
        "from torch_geometric.data import DataLoader, Data\n",
        "from torch_geometric.utils import to_networkx\n",
        "import networkx as nx\n",
        "from sklearn.metrics import r2_score\n",
        "import matplotlib.pyplot as plt\n",
        "# Define your inchi_to_graph function here\n",
        "# and any other necessary functions or imports\n"
      ]
    },
    {
      "cell_type": "code",
      "execution_count": null,
      "metadata": {
        "id": "DWrehcMXKo1E"
      },
      "outputs": [],
      "source": [
        "import warnings\n",
        "warnings.filterwarnings('ignore')"
      ]
    },
    {
      "cell_type": "code",
      "execution_count": null,
      "metadata": {
        "colab": {
          "base_uri": "https://localhost:8080/"
        },
        "id": "N5SIGKnuQeh_",
        "outputId": "b578b811-1118-4621-ab6f-8266a4a8ea09"
      },
      "outputs": [
        {
          "output_type": "stream",
          "name": "stdout",
          "text": [
            "Mounted at /content/drive\n"
          ]
        }
      ],
      "source": [
        "from google.colab import drive\n",
        "drive.mount('/content/drive')"
      ]
    },
    {
      "cell_type": "markdown",
      "source": [
        "# Load the data from Google Drive"
      ],
      "metadata": {
        "id": "nKFcabOCgg5E"
      }
    },
    {
      "cell_type": "code",
      "execution_count": null,
      "metadata": {
        "id": "jtINTAASRCun"
      },
      "outputs": [],
      "source": [
        "# Generate numbers from 200 to 3400 with a step of 200\n",
        "data_train = []\n",
        "# numbers = list(range(200, 3401, 200))\n",
        "numbers = list(range(200, 3401, 200))\n",
        "for number in numbers:\n",
        "\n",
        "  file_path = '/content/drive/My Drive/kcat_minidatasets/trainNew' + str(number) + '.pkl'\n",
        "  # Load the list from the specified file\n",
        "  with open(file_path, 'rb') as file:\n",
        "      data= pickle.load(file)\n",
        "\n",
        "  data_train = data_train + data"
      ]
    },
    {
      "cell_type": "code",
      "execution_count": null,
      "metadata": {
        "colab": {
          "base_uri": "https://localhost:8080/"
        },
        "id": "LhsL0HblDoPK",
        "outputId": "912b9276-bf9e-4b3e-972c-259c0a9c3991"
      },
      "outputs": [
        {
          "output_type": "execute_result",
          "data": {
            "text/plain": [
              "Data(x=[4, 26], edge_index=[2, 8], edge_attr=[8, 1])"
            ]
          },
          "metadata": {},
          "execution_count": 6
        }
      ],
      "source": [
        "def create_default_protein_graph():\n",
        "    \"\"\"Create a default protein graph with predefined nodes and edges.\"\"\"\n",
        "    graph = nx.Graph()\n",
        "    # Define a few nodes with arbitrary features\n",
        "    default_features = [\n",
        "        [1] * 20 + [1.8, 8.1, 0, 0, 0, 0],  # Node 0 (ALA)\n",
        "        [0] * 20 + [2.5, 5.5, 0, 1, 1, 1],  # Node 1 (CYS)\n",
        "        [0] * 20 + [-3.5, 13.0, -1, 2, 2, 2],  # Node 2 (ASP)\n",
        "        [0] * 20 + [4.5, 5.2, 0, 3, 3, 3]  # Node 3 (ILE)\n",
        "    ]\n",
        "    for idx, features in enumerate(default_features):\n",
        "        graph.add_node(idx, feature=features)\n",
        "\n",
        "    # Add some edges with arbitrary distances\n",
        "    graph.add_edge(0, 1, weight=4.0)\n",
        "    graph.add_edge(1, 2, weight=5.0)\n",
        "    graph.add_edge(2, 3, weight=6.0)\n",
        "    graph.add_edge(3, 0, weight=4.5)\n",
        "\n",
        "    return graph_to_pyg_data(graph)\n",
        "\n",
        "def graph_to_pyg_data(graph):\n",
        "    try:\n",
        "        node_features = [data['feature'] for _, data in graph.nodes(data=True)]\n",
        "        x = torch.tensor(node_features, dtype=torch.float)\n",
        "\n",
        "        edge_index = []\n",
        "        edge_attr = []\n",
        "        for edge in graph.edges(data=True):\n",
        "            edge_index.append([edge[0], edge[1]])\n",
        "            edge_index.append([edge[1], edge[0]])\n",
        "            edge_attr.append([edge[2]['weight']])\n",
        "            edge_attr.append([edge[2]['weight']])\n",
        "\n",
        "        edge_index = torch.tensor(edge_index, dtype=torch.long).t().contiguous()\n",
        "        edge_attr = torch.tensor(edge_attr, dtype=torch.float)\n",
        "\n",
        "        data = Data(x=x, edge_index=edge_index, edge_attr=edge_attr)\n",
        "        return data\n",
        "\n",
        "    except Exception as e:\n",
        "        logging.error(f\"Error converting graph to PyG data: {e}\")\n",
        "        return None\n",
        "x = create_default_protein_graph()\n",
        "x"
      ]
    },
    {
      "cell_type": "markdown",
      "source": [
        "# Default Graph when there is no matching graph in PDB"
      ],
      "metadata": {
        "id": "qnSB1zxfgm36"
      }
    },
    {
      "cell_type": "code",
      "execution_count": null,
      "metadata": {
        "id": "4yvU3qnRVSWr"
      },
      "outputs": [],
      "source": [
        "cleaned_data = []\n",
        "for item in data_train:\n",
        "\n",
        "  if item['protein_graph'] is None:\n",
        "    # print(item['aggregated_substrate_graph'], item['aggregated_product_graph'], item['protein_graph'])\n",
        "    item['protein_graph'] = create_default_protein_graph()\n",
        "    cleaned_data.append(item)\n",
        "\n",
        "  else:\n",
        "    cleaned_data.append(item)\n",
        "\n",
        "cleaned_complete_data_train = []\n",
        "for item in cleaned_data:\n",
        "  # if item['aggregated_substrate_graph'].edge_index.shape[1] == 12:\n",
        "  if item['protein_graph'].edge_index.shape == torch.Size([0]):\n",
        "    item['protein_graph'] = create_default_protein_graph()\n",
        "    cleaned_data.append(item)\n",
        "\n",
        "  else:\n",
        "    cleaned_complete_data_train.append(item)"
      ]
    },
    {
      "cell_type": "code",
      "execution_count": null,
      "metadata": {
        "colab": {
          "base_uri": "https://localhost:8080/"
        },
        "id": "Nyrxtwt0VUnp",
        "outputId": "9242d732-5d1d-408e-d274-9c661760015f"
      },
      "outputs": [
        {
          "output_type": "execute_result",
          "data": {
            "text/plain": [
              "3417"
            ]
          },
          "metadata": {},
          "execution_count": 9
        }
      ],
      "source": [
        "len(cleaned_complete_data_train)"
      ]
    },
    {
      "cell_type": "code",
      "execution_count": null,
      "metadata": {
        "id": "TsXAoPmBFwWz"
      },
      "outputs": [],
      "source": [
        "# Generate numbers from 200 to 3400 with a step of 200\n",
        "data_test = []\n",
        "# numbers = list(range(200, 3401, 200))\n",
        "numbers = list(range(200, 801, 200))\n",
        "for number in numbers:\n",
        "\n",
        "  file_path = '/content/drive/My Drive/kcat_minidatasets/testNew' + str(number) + '.pkl'\n",
        "  # Load the list from the specified file\n",
        "  with open(file_path, 'rb') as file:\n",
        "      data= pickle.load(file)\n",
        "\n",
        "  data_test = data_test + data\n",
        "\n",
        "file_path = '/content/drive/My Drive/kcat_minidatasets/testNew849.pkl'\n",
        "  # Load the list from the specified file\n",
        "with open(file_path, 'rb') as file:\n",
        "    data= pickle.load(file)\n",
        "\n",
        "data_test = data_test + data\n",
        "\n",
        "cleaned_data = []\n",
        "for item in data_test:\n",
        "\n",
        "  if item['protein_graph'] is None:\n",
        "    # print(item['aggregated_substrate_graph'], item['aggregated_product_graph'], item['protein_graph'])\n",
        "    item['protein_graph'] = create_default_protein_graph()\n",
        "    cleaned_data.append(item)\n",
        "\n",
        "  else:\n",
        "    cleaned_data.append(item)\n",
        "\n",
        "cleaned_complete_data_test = []\n",
        "for item in cleaned_data:\n",
        "  # if item['aggregated_substrate_graph'].edge_index.shape[1] == 12:\n",
        "  if item['protein_graph'].edge_index.shape == torch.Size([0]):\n",
        "    item['protein_graph'] = create_default_protein_graph()\n",
        "    cleaned_data.append(item)\n",
        "\n",
        "  else:\n",
        "    cleaned_complete_data_test.append(item)"
      ]
    },
    {
      "cell_type": "code",
      "execution_count": null,
      "metadata": {
        "id": "ZzpTe3ReVfu5"
      },
      "outputs": [],
      "source": [
        "# Check if GPU is available\n",
        "\n",
        "device = torch.device('cuda' if torch.cuda.is_available() else 'cpu')"
      ]
    },
    {
      "cell_type": "markdown",
      "source": [
        "# Creating PyTorch datasets"
      ],
      "metadata": {
        "id": "cWcl1hPVgzBi"
      }
    },
    {
      "cell_type": "code",
      "execution_count": null,
      "metadata": {
        "id": "IZL6Vkl5VOHb"
      },
      "outputs": [],
      "source": [
        "import torch\n",
        "from torch_geometric.data import Data, Batch\n",
        "from torch_geometric.loader import DataLoader\n",
        "from torch.utils.data import Dataset\n",
        "from sklearn.model_selection import train_test_split\n",
        "\n",
        "class KcatDataset(Dataset):\n",
        "    def __init__(self, data_list, device):\n",
        "        self.data_list = data_list\n",
        "        self.device = device\n",
        "\n",
        "    def __len__(self):\n",
        "        return len(self.data_list)\n",
        "\n",
        "    def __getitem__(self, idx):\n",
        "        # combined_data = self.data_list[idx]['combined']\n",
        "        combined_data = self.data_list[idx]['aggregated_substrate_graph']\n",
        "        protein_data = self.data_list[idx]['protein_graph']\n",
        "        log10_kcat = self.data_list[idx]['log10_kcat']\n",
        "        protein_embedding = self.data_list[idx]['esm_embedding']\n",
        "        fingerprint = self.data_list[idx]['fingerprint'][0]\n",
        "\n",
        "        # Move data to the device\n",
        "        combined_data = combined_data.to(self.device)\n",
        "        protein_data = protein_data.to(self.device)\n",
        "        protein_embedding = torch.tensor(protein_embedding).to(self.device)\n",
        "        fingerprint = torch.tensor(fingerprint).to(self.device)\n",
        "\n",
        "        return combined_data, protein_data, protein_embedding, fingerprint, log10_kcat\n",
        "\n",
        "\n",
        "# data = cleaned_complete_data_train + cleaned_complete_data_test\n",
        "# data_train, data_test = train_test_split(data, test_size=0.1,)\n",
        "\n",
        "train_kcat_dataset = KcatDataset(cleaned_complete_data_train, device)\n",
        "test_kcat_dataset = KcatDataset(cleaned_complete_data_test, device)\n",
        "\n",
        "train_data_loader = DataLoader(train_kcat_dataset, batch_size=64, shuffle=True)\n",
        "test_data_loader = DataLoader(test_kcat_dataset, batch_size=64)\n",
        "test_data_loader_big = DataLoader(test_kcat_dataset, batch_size=854)\n",
        "\n"
      ]
    },
    {
      "cell_type": "markdown",
      "source": [
        "# GCN Combined Architecture"
      ],
      "metadata": {
        "id": "nXFpk78Eg43g"
      }
    },
    {
      "cell_type": "code",
      "execution_count": null,
      "metadata": {
        "id": "DoxArgt43_AJ"
      },
      "outputs": [],
      "source": [
        "import torch\n",
        "import torch.nn as nn\n",
        "import torch.nn.functional as F\n",
        "from torch_geometric.nn import GCNConv\n",
        "from torch_geometric.nn import global_mean_pool\n",
        "from torch_geometric.data import Batch\n",
        "\n",
        "class GCNSection(nn.Module):\n",
        "    def __init__(self, in_channels, out_channels):\n",
        "        super(GCNSection, self).__init__()\n",
        "        self.gcn1 = GCNConv(in_channels, out_channels)\n",
        "        self.gcn2 = GCNConv(out_channels, out_channels)\n",
        "        self.gcn3 = GCNConv(out_channels, out_channels)\n",
        "\n",
        "    def forward(self, x, edge_index, batch):\n",
        "        x = F.elu(self.gcn1(x, edge_index))\n",
        "        x = F.dropout(x, p=0.3, training=self.training)\n",
        "        x = F.elu(self.gcn2(x, edge_index))\n",
        "        x = F.dropout(x, p=0.3, training=self.training)\n",
        "        x = self.gcn3(x, edge_index)\n",
        "        x = global_mean_pool(x, batch)  # Pooling to get batch-wise embeddings\n",
        "        return x\n",
        "\n",
        "class ProteinGCNModel(nn.Module):\n",
        "    def __init__(self, in_channels, out_channels, esm_embedding_dim, hidden_dim, final_out_dim):\n",
        "        super(ProteinGCNModel, self).__init__()\n",
        "        self.protein_gcn = GCNSection(in_channels, out_channels)\n",
        "\n",
        "        # Linear layers after concatenation of GCN and ESM embeddings\n",
        "        combined_dim = out_channels + esm_embedding_dim\n",
        "        self.fc1 = nn.Linear(combined_dim, hidden_dim)\n",
        "        self.fc2 = nn.Linear(hidden_dim, hidden_dim)\n",
        "        self.fc3 = nn.Linear(hidden_dim, final_out_dim)\n",
        "\n",
        "    def forward(self, protein_data, esm_embeddings):\n",
        "        # GCN for protein section\n",
        "        protein_x, protein_edge_index, protein_batch = protein_data.x, protein_data.edge_index, protein_data.batch\n",
        "\n",
        "        protein_embedding = self.protein_gcn(protein_x, protein_edge_index, protein_batch)\n",
        "\n",
        "        # Ensure esm_embeddings is batch-wise\n",
        "        if esm_embeddings.dim() == 2 and esm_embeddings.size(0) == protein_embedding.size(0):\n",
        "            combined_embedding = torch.cat([protein_embedding, esm_embeddings], dim=-1)\n",
        "        else:\n",
        "            raise ValueError(\"Mismatch in batch size between embeddings and data\")\n",
        "\n",
        "        x = F.relu(self.fc1(combined_embedding))\n",
        "        x = F.relu(self.fc2(x))\n",
        "        x = self.fc3(x)\n",
        "        return x\n",
        "\n",
        "class SubstrateGCNModel(nn.Module):\n",
        "    def __init__(self, in_channels, out_channels, substrate_embedding_dim, hidden_dim, final_out_dim):\n",
        "        super(SubstrateGCNModel, self).__init__()\n",
        "        self.substrate_gcn = GCNSection(in_channels, out_channels)\n",
        "\n",
        "        # Linear layers after concatenation of GCN and substrate embeddings\n",
        "        combined_dim = out_channels + substrate_embedding_dim\n",
        "        self.fc1 = nn.Linear(combined_dim, 32)\n",
        "        self.fc2 = nn.Linear(32, hidden_dim)\n",
        "        self.fc3 = nn.Linear(hidden_dim, final_out_dim)\n",
        "        self.dropout = nn.Dropout(0.2)\n",
        "\n",
        "    def forward(self, substrate_data, substrate_embeddings):\n",
        "        # GCN for substrate section\n",
        "        substrate_x, substrate_edge_index, substrate_batch = substrate_data.x, substrate_data.edge_index, substrate_data.batch\n",
        "        substrate_embedding = self.substrate_gcn(substrate_x, substrate_edge_index, substrate_batch)\n",
        "\n",
        "        # Ensure substrate_embeddings is batch-wise\n",
        "        if substrate_embeddings.dim() == 2 and substrate_embeddings.size(0) == substrate_embedding.size(0):\n",
        "            combined_embedding = torch.cat([substrate_embedding, substrate_embeddings], dim=-1)\n",
        "        else:\n",
        "            raise ValueError(\"Mismatch in batch size between embeddings and data\")\n",
        "\n",
        "        # Pass through linear layers\n",
        "        x = F.relu(self.fc1(combined_embedding))\n",
        "        x = F.relu(self.fc2(x))\n",
        "\n",
        "        x = self.fc3(x)\n",
        "        return x\n",
        "\n",
        "# Define input parameters\n",
        "protein_in_channels = 26  # Example input channel size for proteins\n",
        "substrate_in_channels = 6  # Example input channel size for substrates\n",
        "out_channels = 128  # Output channels for GCN layers\n",
        "esm_embedding_dim = 1280  # ESM embedding dimension for proteins\n",
        "substrate_embedding_dim = 2048  # Embedding dimension for substrates\n",
        "protein_hidden_dim = 16  # Hidden dimension for the linear layer\n",
        "molecule_hidden_dim=8\n",
        "final_out_dim = 1  # Final output dimension\n",
        "\n",
        "# Create instances of the models\n",
        "protein_model = ProteinGCNModel(\n",
        "    in_channels=protein_in_channels,\n",
        "    out_channels=out_channels,\n",
        "    esm_embedding_dim=esm_embedding_dim,\n",
        "    hidden_dim=protein_hidden_dim,\n",
        "    final_out_dim=final_out_dim\n",
        ")\n",
        "\n",
        "substrate_model = SubstrateGCNModel(\n",
        "    in_channels=substrate_in_channels,\n",
        "    out_channels=out_channels,\n",
        "    substrate_embedding_dim=substrate_embedding_dim,\n",
        "    hidden_dim=molecule_hidden_dim,\n",
        "    final_out_dim=final_out_dim\n",
        ")\n",
        "\n",
        "protein_model = protein_model.to(device)\n",
        "substrate_model = substrate_model.to(device)\n",
        "\n",
        "optimizer_protein = torch.optim.Adam(protein_model.parameters(), lr=0.0005, weight_decay=0.003)\n",
        "optimizer_substrate = torch.optim.Adam(substrate_model.parameters(), lr=0.0005, weight_decay=0.003)\n"
      ]
    },
    {
      "cell_type": "markdown",
      "source": [
        "# Functions to print loss and R2"
      ],
      "metadata": {
        "id": "e119OjvshAcN"
      }
    },
    {
      "cell_type": "code",
      "execution_count": null,
      "metadata": {
        "id": "r9Vyy6S0Gqik"
      },
      "outputs": [],
      "source": [
        "\n",
        "# Example instantiation of the model\n",
        "device = torch.device('cuda' if torch.cuda.is_available() else 'cpu')\n",
        "\n",
        "\n",
        "def plot_loss(train_scores, test_scores):\n",
        "    plt.figure()\n",
        "    plt.plot(train_scores, label='Train Loss')\n",
        "    plt.plot(test_scores, label='Test Loss')\n",
        "    plt.title('Separated GCN - Protein model train and test loss')\n",
        "    plt.xlabel('Epochs')\n",
        "    plt.ylabel('Loss')\n",
        "    plt.legend()\n",
        "    plt.show()\n",
        "\n",
        "def plot_r2(train_r2, test_r2):\n",
        "    plt.figure()\n",
        "    plt.plot(train_r2, label='Train R2 Score')\n",
        "    plt.plot(test_r2, label='Test R2 Score')\n",
        "    plt.title('Separated GCN - Protein model R2 Score')\n",
        "    plt.xlabel('Epochs')\n",
        "    plt.ylabel('R2 Score')\n",
        "    plt.legend()\n",
        "    plt.show()\n",
        "\n",
        "\n"
      ]
    },
    {
      "cell_type": "markdown",
      "source": [
        "# Training function"
      ],
      "metadata": {
        "id": "PE8r3rCyhExG"
      }
    },
    {
      "cell_type": "code",
      "execution_count": null,
      "metadata": {
        "id": "kyXdFBLO5Y4P"
      },
      "outputs": [],
      "source": [
        "import torch\n",
        "import torch.nn.functional as F\n",
        "from sklearn.metrics import r2_score\n",
        "import copy\n",
        "\n",
        "def train_model(train_data_loader, test_data_loader, device, model, optimizer, model_type, epochs, print_out=True):\n",
        "    train_scores = []\n",
        "    test_scores = []\n",
        "    test_r2_score = []\n",
        "    train_r2_score = []\n",
        "    best_test_r2 = -1000\n",
        "    best_model_state = None\n",
        "\n",
        "    for epoch in range(epochs):\n",
        "        model.train()\n",
        "        train_total_loss = 0\n",
        "        all_outputs = []\n",
        "        all_targets = []\n",
        "\n",
        "        for mol_batch, prot_batch, esm_embedding, fingerprint, targets in train_data_loader:\n",
        "            targets = torch.tensor(targets).float().unsqueeze(1).to(device)\n",
        "\n",
        "            optimizer.zero_grad()\n",
        "            if model_type == 'protein':\n",
        "                output = model(prot_batch, esm_embedding)\n",
        "            elif model_type == 'substrate':\n",
        "                output = model(mol_batch, fingerprint.float())\n",
        "\n",
        "            if output is not None:\n",
        "                loss = F.mse_loss(output, targets)\n",
        "                loss.backward()\n",
        "                optimizer.step()\n",
        "                train_total_loss += loss.item()\n",
        "                all_outputs.extend(output.detach().cpu().numpy())\n",
        "                all_targets.extend(targets.detach().cpu().numpy())\n",
        "\n",
        "        r2 = r2_score(all_targets, all_outputs)\n",
        "        train_r2_score.append(r2)\n",
        "        if print_out:\n",
        "            print(f\"Epoch {epoch}, Train Loss: {train_total_loss / len(train_data_loader)}, Train R2: {r2}\")\n",
        "\n",
        "        model.eval()\n",
        "        total_test_loss = 0\n",
        "        all_outputs = []\n",
        "        all_targets = []\n",
        "\n",
        "        with torch.no_grad():\n",
        "            for mol_batch, prot_batch, esm_embedding, fingerprint, targets in test_data_loader:\n",
        "                targets = torch.tensor(targets).float().unsqueeze(1).to(device)\n",
        "\n",
        "                if model_type == 'protein':\n",
        "                    output = model(prot_batch, esm_embedding)\n",
        "                elif model_type == 'substrate':\n",
        "                    output = model(mol_batch, fingerprint.float())\n",
        "\n",
        "                if output is not None:\n",
        "                    loss = F.mse_loss(output, targets)\n",
        "                    total_test_loss += loss.item()\n",
        "                    all_outputs.extend(output.cpu().numpy())\n",
        "                    all_targets.extend(targets.cpu().numpy())\n",
        "\n",
        "        average_test_loss = total_test_loss / len(test_data_loader)\n",
        "        test_scores.append(average_test_loss)\n",
        "        if print_out:\n",
        "            print(f\"Epoch {epoch}, Test Loss: {average_test_loss}\")\n",
        "\n",
        "        r2 = r2_score(all_targets, all_outputs)\n",
        "        test_r2_score.append(r2)\n",
        "        if print_out:\n",
        "            print(f\"Epoch {epoch}, Test R2: {r2}\")\n",
        "\n",
        "        # Save the model if it has the best test loss so far\n",
        "        if r2 > best_test_r2:\n",
        "            best_test_r2 = r2\n",
        "            best_model_state = copy.deepcopy(model.state_dict())\n",
        "\n",
        "        train_scores.append(train_total_loss / len(train_data_loader))\n",
        "    if print_out:\n",
        "      print(\"best r2\", best_test_r2)\n",
        "    # Load the best model state before returning\n",
        "    if best_model_state is not None:\n",
        "        model.load_state_dict(best_model_state)\n",
        "\n",
        "    if print_out:\n",
        "        plot_loss(train_scores, test_scores)\n",
        "        plot_r2(train_r2_score, test_r2_score)\n",
        "\n",
        "    return model\n",
        "\n",
        "\n"
      ]
    },
    {
      "cell_type": "code",
      "execution_count": null,
      "metadata": {
        "colab": {
          "base_uri": "https://localhost:8080/"
        },
        "id": "kih-jWmfYYOh",
        "outputId": "c7966aa9-92da-4054-f4b2-88f777ff5551"
      },
      "outputs": [
        {
          "output_type": "stream",
          "name": "stdout",
          "text": [
            "Epoch 0, Train Loss: 1.6627349698985066, Train R2: -0.1930792136497259\n",
            "Epoch 0, Test Loss: 1.4611682466098241\n",
            "Epoch 0, Test R2: -0.01561944910031321\n",
            "Epoch 1, Train Loss: 1.349870687281644, Train R2: 0.032320018043495935\n",
            "Epoch 1, Test Loss: 1.3805386509214128\n",
            "Epoch 1, Test R2: 0.045765452938973494\n",
            "Epoch 2, Train Loss: 1.2850758775516793, Train R2: 0.07651780579402123\n",
            "Epoch 2, Test Loss: 1.3356547823974065\n",
            "Epoch 2, Test R2: 0.07873759640216627\n",
            "Epoch 3, Train Loss: 1.1925556383751057, Train R2: 0.14151282092100637\n",
            "Epoch 3, Test Loss: 1.2469488893236433\n",
            "Epoch 3, Test R2: 0.13863417308340886\n",
            "Epoch 4, Train Loss: 1.0973321199417114, Train R2: 0.20987676931742327\n",
            "Epoch 4, Test Loss: 1.1905913821288518\n",
            "Epoch 4, Test R2: 0.17850888877602733\n",
            "Epoch 5, Train Loss: 1.0490231425673873, Train R2: 0.25021010614309636\n",
            "Epoch 5, Test Loss: 1.1472798671041216\n",
            "Epoch 5, Test R2: 0.20828429551280225\n",
            "Epoch 6, Train Loss: 1.0048153400421143, Train R2: 0.27961397230603924\n",
            "Epoch 6, Test Loss: 1.1207860112190247\n",
            "Epoch 6, Test R2: 0.22678043663580472\n",
            "Epoch 7, Train Loss: 0.9473969252021225, Train R2: 0.3214131264815906\n",
            "Epoch 7, Test Loss: 1.1139393406254905\n",
            "Epoch 7, Test R2: 0.22858355986272938\n",
            "Epoch 8, Train Loss: 0.9048039041183613, Train R2: 0.3522494779036711\n",
            "Epoch 8, Test Loss: 1.0856547227927618\n",
            "Epoch 8, Test R2: 0.25054379539190363\n",
            "Epoch 9, Train Loss: 0.8729290057111669, Train R2: 0.37503973823646897\n",
            "Epoch 9, Test Loss: 1.0810627000672477\n",
            "Epoch 9, Test R2: 0.2526896615738402\n",
            "Epoch 10, Train Loss: 0.8350621384603006, Train R2: 0.4019929281623208\n",
            "Epoch 10, Test Loss: 1.0840771113123213\n",
            "Epoch 10, Test R2: 0.2553919226752769\n",
            "Epoch 11, Train Loss: 0.8167726739689156, Train R2: 0.41344273967381184\n",
            "Epoch 11, Test Loss: 1.0828020572662354\n",
            "Epoch 11, Test R2: 0.25107671007590526\n",
            "Epoch 12, Train Loss: 0.7941665969513081, Train R2: 0.4311735680498878\n",
            "Epoch 12, Test Loss: 1.0582573115825653\n",
            "Epoch 12, Test R2: 0.27247876539220783\n",
            "Epoch 13, Train Loss: 0.7804269663713597, Train R2: 0.4377114020064762\n",
            "Epoch 13, Test Loss: 1.0599555117743356\n",
            "Epoch 13, Test R2: 0.27048423131165056\n",
            "Epoch 14, Train Loss: 0.7489015437938549, Train R2: 0.4608164558711819\n",
            "Epoch 14, Test Loss: 1.0870155096054077\n",
            "Epoch 14, Test R2: 0.2468854310663614\n",
            "Epoch 15, Train Loss: 0.7259782414745402, Train R2: 0.47659558656236756\n",
            "Epoch 15, Test Loss: 1.0666720569133759\n",
            "Epoch 15, Test R2: 0.26915230128076595\n",
            "Epoch 16, Train Loss: 0.7146014493924601, Train R2: 0.491169209496359\n",
            "Epoch 16, Test Loss: 1.0798160476343972\n",
            "Epoch 16, Test R2: 0.25512926389984303\n",
            "Epoch 17, Train Loss: 0.7030216047057399, Train R2: 0.49701027641477347\n",
            "Epoch 17, Test Loss: 1.0442380394254411\n",
            "Epoch 17, Test R2: 0.28263915722303234\n",
            "Epoch 18, Train Loss: 0.6858492355655741, Train R2: 0.5072725771150342\n",
            "Epoch 18, Test Loss: 1.0777804042611803\n",
            "Epoch 18, Test R2: 0.25757167877450227\n",
            "Epoch 19, Train Loss: 0.6674310708487475, Train R2: 0.519141625326791\n",
            "Epoch 19, Test Loss: 1.0462067212377275\n",
            "Epoch 19, Test R2: 0.28238882414298605\n",
            "Epoch 20, Train Loss: 0.6564369670770787, Train R2: 0.5321046864836182\n",
            "Epoch 20, Test Loss: 1.0467934267861503\n",
            "Epoch 20, Test R2: 0.28110858139814365\n",
            "Epoch 21, Train Loss: 0.6370793343694122, Train R2: 0.5424666064783573\n",
            "Epoch 21, Test Loss: 1.0779908512319838\n",
            "Epoch 21, Test R2: 0.2589879643336913\n",
            "Epoch 22, Train Loss: 0.6247715514015268, Train R2: 0.5514949091752273\n",
            "Epoch 22, Test Loss: 1.0870306491851807\n",
            "Epoch 22, Test R2: 0.25235618459271436\n",
            "Epoch 23, Train Loss: 0.614710843121564, Train R2: 0.5576153506786428\n",
            "Epoch 23, Test Loss: 1.0567550574030196\n",
            "Epoch 23, Test R2: 0.2740166718090844\n",
            "Epoch 24, Train Loss: 0.5944796789575506, Train R2: 0.573833547486766\n",
            "Epoch 24, Test Loss: 1.101554994072233\n",
            "Epoch 24, Test R2: 0.24120467532846102\n",
            "best r2 0.28263915722303234\n"
          ]
        },
        {
          "output_type": "display_data",
          "data": {
            "text/plain": [
              "<Figure size 640x480 with 1 Axes>"
            ],
            "image/png": "[encoded data removed]"
          },
          "metadata": {}
        },
        {
          "output_type": "display_data",
          "data": {
            "text/plain": [
              "<Figure size 640x480 with 1 Axes>"
            ],
            "image/png": "[encoded data removed]"
          },
          "metadata": {}
        }
      ],
      "source": [
        "# Train protein model\n",
        "trained_protein_model = train_model(train_data_loader, test_data_loader, device, protein_model, optimizer_protein, model_type='protein', epochs=25, print_out=True)\n"
      ]
    },
    {
      "cell_type": "code",
      "source": [
        "\n",
        "# Example instantiation of the model\n",
        "device = torch.device('cuda' if torch.cuda.is_available() else 'cpu')\n",
        "\n",
        "\n",
        "def plot_loss(train_scores, test_scores):\n",
        "    plt.figure()\n",
        "    plt.plot(train_scores, label='Train Loss')\n",
        "    plt.plot(test_scores, label='Test Loss')\n",
        "    plt.title('Separated GCN - Molecule model train and test loss')\n",
        "    plt.xlabel('Epochs')\n",
        "    plt.ylabel('Loss')\n",
        "    plt.legend()\n",
        "    plt.show()\n",
        "\n",
        "def plot_r2(train_r2, test_r2):\n",
        "    plt.figure()\n",
        "    plt.plot(train_r2, label='Train R2 Score')\n",
        "    plt.plot(test_r2, label='Test R2 Score')\n",
        "    plt.title('Separated GCN - Molecule model R2 Score')\n",
        "    plt.xlabel('Epochs')\n",
        "    plt.ylabel('R2 Score')\n",
        "    plt.legend()\n",
        "    plt.show()\n",
        "\n",
        "\n"
      ],
      "metadata": {
        "id": "lCMl8ZJrWL5I"
      },
      "execution_count": null,
      "outputs": []
    },
    {
      "cell_type": "code",
      "execution_count": null,
      "metadata": {
        "colab": {
          "base_uri": "https://localhost:8080/",
          "height": 1000
        },
        "id": "UFNNp27bYfS_",
        "outputId": "0e5c6b84-11eb-4982-c5e5-f7c2a65630e1"
      },
      "outputs": [
        {
          "output_type": "stream",
          "name": "stdout",
          "text": [
            "Epoch 0, Train Loss: 2.2637150044794434, Train R2: -0.6318152059254916\n",
            "Epoch 0, Test Loss: 1.368739596435002\n",
            "Epoch 0, Test R2: 0.03851772648930074\n",
            "Epoch 1, Train Loss: 1.0986247923639085, Train R2: 0.2145375529553386\n",
            "Epoch 1, Test Loss: 1.2080131386007582\n",
            "Epoch 1, Test R2: 0.1571152838404548\n",
            "Epoch 2, Train Loss: 1.0150688643808718, Train R2: 0.27404210356865044\n",
            "Epoch 2, Test Loss: 1.1239943589482988\n",
            "Epoch 2, Test R2: 0.21987607448134627\n",
            "Epoch 3, Train Loss: 0.8798765871259902, Train R2: 0.3705051185934287\n",
            "Epoch 3, Test Loss: 1.09283424275262\n",
            "Epoch 3, Test R2: 0.24090947954049713\n",
            "Epoch 4, Train Loss: 0.8090894702408049, Train R2: 0.4224154842154878\n",
            "Epoch 4, Test Loss: 1.0457478208201272\n",
            "Epoch 4, Test R2: 0.27485796767718484\n",
            "Epoch 5, Train Loss: 0.7760615933824468, Train R2: 0.44205968635559245\n",
            "Epoch 5, Test Loss: 1.053416324513299\n",
            "Epoch 5, Test R2: 0.2695312209298406\n",
            "Epoch 6, Train Loss: 0.7559211977102138, Train R2: 0.4554731968925777\n",
            "Epoch 6, Test Loss: 1.0081127882003784\n",
            "Epoch 6, Test R2: 0.3066633855309191\n",
            "Epoch 7, Train Loss: 0.7107208017949704, Train R2: 0.4905054638292262\n",
            "Epoch 7, Test Loss: 1.0393271701676505\n",
            "Epoch 7, Test R2: 0.2791789959910732\n",
            "Epoch 8, Train Loss: 0.6678662559500447, Train R2: 0.5208241698263674\n",
            "Epoch 8, Test Loss: 1.1186811242784773\n",
            "Epoch 8, Test R2: 0.22407817780097838\n",
            "Epoch 9, Train Loss: 0.6831348450095566, Train R2: 0.5108837222416738\n",
            "Epoch 9, Test Loss: 1.132046959229878\n",
            "Epoch 9, Test R2: 0.21062560551290221\n",
            "Epoch 10, Train Loss: 0.6678387384723734, Train R2: 0.5228350749250323\n",
            "Epoch 10, Test Loss: 1.096195182629994\n",
            "Epoch 10, Test R2: 0.24026023205101077\n",
            "Epoch 11, Train Loss: 0.6445956020443527, Train R2: 0.5354591332396903\n",
            "Epoch 11, Test Loss: 1.1222708012376512\n",
            "Epoch 11, Test R2: 0.21859117021093066\n",
            "Epoch 12, Train Loss: 0.6946071756106836, Train R2: 0.5000674036496812\n",
            "Epoch 12, Test Loss: 1.0310569150107247\n",
            "Epoch 12, Test R2: 0.28414505232555654\n",
            "Epoch 13, Train Loss: 0.587893252019529, Train R2: 0.5771860534823283\n",
            "Epoch 13, Test Loss: 1.0930172417845045\n",
            "Epoch 13, Test R2: 0.24598214918693573\n",
            "best r2 0.3066633855309191\n"
          ]
        },
        {
          "output_type": "display_data",
          "data": {
            "text/plain": [
              "<Figure size 640x480 with 1 Axes>"
            ],
            "image/png": "[encoded data removed]"
          },
          "metadata": {}
        },
        {
          "output_type": "display_data",
          "data": {
            "text/plain": [
              "<Figure size 640x480 with 1 Axes>"
            ],
            "image/png": "[encoded data removed]"
          },
          "metadata": {}
        }
      ],
      "source": [
        "# Train substrate model\n",
        "trained_substrate_model = train_model(train_data_loader, test_data_loader, device, substrate_model, optimizer_substrate, model_type='substrate', epochs=14, print_out=True)"
      ]
    },
    {
      "cell_type": "code",
      "execution_count": null,
      "metadata": {
        "colab": {
          "base_uri": "https://localhost:8080/"
        },
        "id": "q9O03rSqZ8Sm",
        "outputId": "21cbad9a-d130-4b9a-bccc-cb44494ba584"
      },
      "outputs": [
        {
          "output_type": "stream",
          "name": "stdout",
          "text": [
            "Protein Model Parameters: 59313\n",
            "Molecule Model Parameters: 103857\n"
          ]
        }
      ],
      "source": [
        "protein_params = sum(p.numel() for p in protein_model.parameters() if p.requires_grad)\n",
        "molecule_params = sum(p.numel() for p in substrate_model.parameters() if p.requires_grad)\n",
        "\n",
        "print(f\"Protein Model Parameters: {protein_params}\")\n",
        "print(f\"Molecule Model Parameters: {molecule_params}\")"
      ]
    },
    {
      "cell_type": "markdown",
      "source": [
        "# Ensemble model"
      ],
      "metadata": {
        "id": "RIBjTfg8hKD3"
      }
    },
    {
      "cell_type": "code",
      "execution_count": null,
      "metadata": {
        "colab": {
          "base_uri": "https://localhost:8080/"
        },
        "id": "vEJtHec-bofL",
        "outputId": "e6570498-39a1-44a1-c60f-94356b791dc7"
      },
      "outputs": [
        {
          "output_type": "stream",
          "name": "stdout",
          "text": [
            "R2 Score: 0.37868834918713146\n"
          ]
        }
      ],
      "source": [
        "import torch\n",
        "import torch.nn.functional as F\n",
        "from sklearn.metrics import r2_score\n",
        "\n",
        "def evaluate_ensemble(model1, model2, test_data_loader):\n",
        "    model1.eval()\n",
        "    model2.eval()\n",
        "\n",
        "    total_test_loss = 0\n",
        "    all_outputs = []\n",
        "    all_targets = []\n",
        "\n",
        "    with torch.no_grad():\n",
        "        for mol_batch, prot_batch, esm_embedding, fingerprint, targets in test_data_loader_big:\n",
        "            targets = torch.tensor(targets).float().unsqueeze(1).to(device)\n",
        "\n",
        "            output1 = model1(prot_batch, esm_embedding)\n",
        "\n",
        "            output2 = model2(mol_batch, fingerprint.float())\n",
        "\n",
        "            # Ensemble prediction by averaging outputs\n",
        "            output = (output1 + output2) / 2\n",
        "\n",
        "            if output is not None:\n",
        "                loss = F.mse_loss(output, targets)\n",
        "                total_test_loss += loss.item()\n",
        "                all_outputs.extend(output.cpu().numpy())\n",
        "                all_targets.extend(targets.cpu().numpy())\n",
        "\n",
        "    average_test_loss = total_test_loss / len(test_data_loader_big)\n",
        "\n",
        "\n",
        "    # Calculate R2 score\n",
        "    r2 = r2_score(all_targets, all_outputs)\n",
        "\n",
        "    # print(f\"Ensemble Test Loss: {average_test_loss}\")\n",
        "    # print(f\"R2 Score: {r2}\")\n",
        "    return r2\n",
        "\n",
        "# Example usage\n",
        "r2= evaluate_ensemble(trained_protein_model, trained_substrate_model, test_data_loader)\n",
        "print(f\"R2 Score: {r2}\")"
      ]
    },
    {
      "cell_type": "code",
      "execution_count": null,
      "metadata": {
        "id": "rRqKH7-U7-_i"
      },
      "outputs": [],
      "source": [
        "def get_default_models():\n",
        "\n",
        "  # Create instances of the models\n",
        "  protein_model = ProteinGCNModel(\n",
        "      in_channels=protein_in_channels,\n",
        "      out_channels=out_channels,\n",
        "      esm_embedding_dim=esm_embedding_dim,\n",
        "      hidden_dim=protein_hidden_dim,\n",
        "      final_out_dim=final_out_dim\n",
        "  )\n",
        "\n",
        "  substrate_model = SubstrateGCNModel(\n",
        "      in_channels=substrate_in_channels,\n",
        "      out_channels=out_channels,\n",
        "      substrate_embedding_dim=substrate_embedding_dim,\n",
        "      hidden_dim=molecule_hidden_dim,\n",
        "      final_out_dim=final_out_dim\n",
        "  )\n",
        "\n",
        "  protein_model = protein_model.to(device)\n",
        "  substrate_model = substrate_model.to(device)\n",
        "\n",
        "  optimizer_protein = torch.optim.Adam(protein_model.parameters(), lr=0.0005, weight_decay=0.003)\n",
        "  optimizer_substrate = torch.optim.Adam(substrate_model.parameters(), lr=0.0005, weight_decay=0.003)\n",
        "\n",
        "  return protein_model, substrate_model, optimizer_protein, optimizer_substrate"
      ]
    },
    {
      "cell_type": "markdown",
      "source": [
        "# Testing performance 10 times"
      ],
      "metadata": {
        "id": "VQzYC4y9hNpS"
      }
    },
    {
      "cell_type": "code",
      "execution_count": null,
      "metadata": {
        "id": "nB0gk_fE8J8o"
      },
      "outputs": [],
      "source": [
        "results = []\n",
        "for i in range(10):\n",
        "  protein_model, substrate_model, optimizer_protein, optimizer_substrate = get_default_models()\n",
        "  trained_protein_model = train_model(train_data_loader, test_data_loader, device, protein_model, optimizer_protein, model_type='protein', epochs=25, print_out=False)\n",
        "  trained_substrate_model = train_model(train_data_loader, test_data_loader, device, substrate_model, optimizer_substrate, model_type='substrate', epochs=12, print_out=False)\n",
        "  results.append(evaluate_ensemble(trained_protein_model, trained_substrate_model, test_data_loader))"
      ]
    },
    {
      "cell_type": "code",
      "execution_count": null,
      "metadata": {
        "colab": {
          "base_uri": "https://localhost:8080/"
        },
        "id": "4SpYcbhm-MIl",
        "outputId": "4d298cd3-5b0d-4a11-d5aa-fdfcc0e13bc6"
      },
      "outputs": [
        {
          "output_type": "stream",
          "name": "stdout",
          "text": [
            "10 times avg test results\n",
            "Mean: 0.3960636076605954\n",
            "Standard Deviation:  0.009511520860613427\n"
          ]
        }
      ],
      "source": [
        "import statistics\n",
        "print(\"10 times avg test results\")\n",
        "print(\"Mean:\", statistics.mean(results))\n",
        "print(\"Standard Deviation: \", statistics.stdev(results))"
      ]
    },
    {
      "cell_type": "code",
      "source": [
        "import xgboost as xgb\n",
        "from sklearn.datasets import load_iris\n",
        "from sklearn.model_selection import train_test_split\n",
        "from sklearn.metrics import accuracy_score, mean_squared_error, r2_score\n",
        "\n",
        "\n",
        "X_train = []\n",
        "y_train = []\n",
        "for item in cleaned_complete_data_train:\n",
        "  # print(item['esm_embedding'], item['fingerprint'][0])\n",
        "  combined = np.concatenate((item['esm_embedding'], item['fingerprint'][0]))\n",
        "  X_train.append(combined)\n",
        "  y_train.append(item['log10_kcat'])\n",
        "\n",
        "# for item in cleaned_complete_data_test[0:400]:\n",
        "#   combined = np.concatenate((item['esm_embedding'], item['fingerprint'][0]))\n",
        "#   X_train.append(combined)\n",
        "#   y_train.append(item['log10_kcat'])\n",
        "\n",
        "X_test = []\n",
        "y_test = []\n",
        "for item in cleaned_complete_data_test:\n",
        "  combined = np.concatenate((item['esm_embedding'], item['fingerprint'][0]))\n",
        "  X_test.append(combined)\n",
        "  y_test.append(item['log10_kcat'])\n",
        "\n",
        "\n",
        "\n",
        "# Convert the dataset into DMatrix format\n",
        "dtrain = xgb.DMatrix(X_train, label=y_train)\n",
        "dtest = xgb.DMatrix(X_test, label=y_test)\n",
        "\n",
        "# Set the parameters for the XGBoost model\n",
        "params = {\n",
        "    'objective': 'reg:squarederror',  # regression objective\n",
        "    'max_depth': 9,  # maximum depth of the trees\n",
        "    'eta': 0.1,  # learning rate\n",
        "    'eval_metric': 'rmse'  # evaluation metric\n",
        "}\n",
        "\n",
        "# Train the XGBoost model\n",
        "num_rounds = 100\n",
        "xgb_model = xgb.train(params, dtrain, num_rounds)\n",
        "\n",
        "# Make predictions on the test set\n",
        "y_pred = xgb_model.predict(dtest)\n",
        "\n",
        "# Evaluate the model\n",
        "rmse = mean_squared_error(y_test, y_pred, squared=False)\n",
        "print(f'RMSE: {rmse:.2f}')\n",
        "r2_scoring = r2_score(y_test, y_pred)\n",
        "print(f'R2 Score: {r2_scoring:.2f}')"
      ],
      "metadata": {
        "colab": {
          "base_uri": "https://localhost:8080/"
        },
        "id": "6ntDHX9qMFjI",
        "outputId": "cc840f07-04f0-4f23-f736-30c7e6f952c7"
      },
      "execution_count": null,
      "outputs": [
        {
          "output_type": "stream",
          "name": "stdout",
          "text": [
            "RMSE: 0.95\n",
            "R2 Score: 0.37\n"
          ]
        }
      ]
    },
    {
      "cell_type": "markdown",
      "source": [
        "# 3 way ensemble with XGBoost"
      ],
      "metadata": {
        "id": "oWCKH4z9hUmM"
      }
    },
    {
      "cell_type": "code",
      "source": [
        "import torch\n",
        "import torch.nn.functional as F\n",
        "from sklearn.metrics import r2_score\n",
        "import xgboost as xgb\n",
        "import numpy as np\n",
        "\n",
        "def evaluate_three_way_ensemble(model1, model2, xgb_model, test_data_loader, device):\n",
        "    model1.eval()\n",
        "    model2.eval()\n",
        "\n",
        "    total_test_loss = 0\n",
        "    all_outputs = []\n",
        "    all_targets = []\n",
        "\n",
        "    with torch.no_grad():\n",
        "        for mol_batch, prot_batch, esm_embedding, fingerprint, targets in test_data_loader_big:\n",
        "            targets = torch.tensor(targets).float().unsqueeze(1).to(device)\n",
        "\n",
        "            # Get outputs from the PyTorch models\n",
        "            output1 = model1(prot_batch, esm_embedding)\n",
        "            output2 = model2(mol_batch, fingerprint.float())\n",
        "\n",
        "            # Prepare data for XGBoost\n",
        "            combined_features = np.concatenate((esm_embedding.cpu().numpy(), fingerprint.cpu().numpy()), axis=1)\n",
        "            xgb_input = xgb.DMatrix(combined_features)\n",
        "            output3 = xgb_model.predict(xgb_input)\n",
        "            output3 = torch.tensor(output3).float().unsqueeze(1).to(device)\n",
        "\n",
        "            # Ensemble prediction by averaging outputs\n",
        "            output = ((output1 + output2)/2 + output3) / 2\n",
        "\n",
        "            if output is not None:\n",
        "                loss = F.mse_loss(output, targets)\n",
        "                total_test_loss += loss.item()\n",
        "                all_outputs.extend(output.cpu().numpy())\n",
        "                all_targets.extend(targets.cpu().numpy())\n",
        "\n",
        "    average_test_loss = total_test_loss / len(test_data_loader)\n",
        "\n",
        "    # Calculate R2 score\n",
        "    r2 = r2_score(all_targets, all_outputs)\n",
        "\n",
        "    # print(f\"Three-Way Ensemble R2 Score: {r2}\")\n",
        "    return r2\n",
        "# Example usage\n",
        "evaluate_three_way_ensemble(trained_protein_model, trained_substrate_model, xgb_model, test_data_loader, device)\n"
      ],
      "metadata": {
        "colab": {
          "base_uri": "https://localhost:8080/"
        },
        "id": "Ixgf1daaMG5Y",
        "outputId": "041cb14d-7425-469d-b40f-913777f53939"
      },
      "execution_count": null,
      "outputs": [
        {
          "output_type": "execute_result",
          "data": {
            "text/plain": [
              "0.422089807764536"
            ]
          },
          "metadata": {},
          "execution_count": 26
        }
      ]
    },
    {
      "cell_type": "markdown",
      "source": [
        "# 10 time avg test run"
      ],
      "metadata": {
        "id": "ofKR3wEiMcZM"
      }
    },
    {
      "cell_type": "code",
      "source": [
        "def get_default_models():\n",
        "  protein_model = ProteinGCNModel(\n",
        "      in_channels=protein_in_channels,\n",
        "      out_channels=out_channels,\n",
        "      esm_embedding_dim=esm_embedding_dim,\n",
        "      hidden_dim=protein_hidden_dim,\n",
        "      final_out_dim=final_out_dim\n",
        "  )\n",
        "\n",
        "  substrate_model = SubstrateGCNModel(\n",
        "      in_channels=substrate_in_channels,\n",
        "      out_channels=out_channels,\n",
        "      substrate_embedding_dim=substrate_embedding_dim,\n",
        "      hidden_dim=molecule_hidden_dim,\n",
        "      final_out_dim=final_out_dim\n",
        "  )\n",
        "\n",
        "  protein_model = protein_model.to(device)\n",
        "  substrate_model = substrate_model.to(device)\n",
        "\n",
        "  optimizer_protein = torch.optim.Adam(protein_model.parameters(), lr=0.0005, weight_decay=0.003)\n",
        "  optimizer_substrate = torch.optim.Adam(substrate_model.parameters(), lr=0.0005, weight_decay=0.003)\n",
        "  return protein_model, substrate_model, optimizer_protein, optimizer_substrate"
      ],
      "metadata": {
        "id": "ybnu5ih7MfkB"
      },
      "execution_count": null,
      "outputs": []
    },
    {
      "cell_type": "code",
      "source": [
        "results = []\n",
        "for i in range(10):\n",
        "  protein_model, substrate_model, optimizer_protein, optimizer_substrate = get_default_models()\n",
        "  trained_protein_model = train_model(train_data_loader, test_data_loader, device, protein_model, optimizer_protein, model_type='protein', epochs=25, print_out=False)\n",
        "  trained_substrate_model = train_model(train_data_loader, test_data_loader, device, substrate_model, optimizer_substrate, model_type='substrate', epochs=12, print_out=False)\n",
        "  results.append(evaluate_three_way_ensemble(trained_protein_model, trained_substrate_model, xgb_model, test_data_loader, device))"
      ],
      "metadata": {
        "id": "GQNwfPa9Mr0H"
      },
      "execution_count": null,
      "outputs": []
    },
    {
      "cell_type": "code",
      "source": [
        "import statistics\n",
        "print(\"10 times avg test results\")\n",
        "print(\"Mean:\", statistics.mean(results))\n",
        "print(\"Standard Deviation: \", statistics.stdev(results))"
      ],
      "metadata": {
        "colab": {
          "base_uri": "https://localhost:8080/"
        },
        "id": "nCWXlfkJMyLF",
        "outputId": "b6348785-ac85-4ea8-dd35-314952fd3831"
      },
      "execution_count": null,
      "outputs": [
        {
          "output_type": "stream",
          "name": "stdout",
          "text": [
            "10 times avg test results\n",
            "Mean: 0.4186258619101851\n",
            "Standard Deviation:  0.006363569361157912\n"
          ]
        }
      ]
    }
  ],
  "metadata": {
    "accelerator": "GPU",
    "colab": {
      "gpuType": "T4",
      "provenance": []
    },
    "kernelspec": {
      "display_name": "Python 3",
      "name": "python3"
    },
    "language_info": {
      "name": "python"
    }
  },
  "nbformat": 4,
  "nbformat_minor": 0
}