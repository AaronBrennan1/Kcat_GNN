{
  "cells": [
    {
      "cell_type": "code",
      "execution_count": null,
      "metadata": {
        "colab": {
          "base_uri": "https://localhost:8080/"
        },
        "id": "XSoKRi4mQSpb",
        "outputId": "e894d55c-1f95-4940-f77d-be195c7607d3"
      },
      "outputs": [
        {
          "output_type": "stream",
          "name": "stdout",
          "text": [
            "Collecting rdkit\n",
            "  Downloading rdkit-2024.3.5-cp310-cp310-manylinux_2_28_x86_64.whl.metadata (3.9 kB)\n",
            "Requirement already satisfied: numpy in /usr/local/lib/python3.10/dist-packages (from rdkit) (1.26.4)\n",
            "Requirement already satisfied: Pillow in /usr/local/lib/python3.10/dist-packages (from rdkit) (9.4.0)\n",
            "Downloading rdkit-2024.3.5-cp310-cp310-manylinux_2_28_x86_64.whl (33.1 MB)\n",
            "\u001b[2K   \u001b[90m━━━━━━━━━━━━━━━━━━━━━━━━━━━━━━━━━━━━━━━━\u001b[0m \u001b[32m33.1/33.1 MB\u001b[0m \u001b[31m15.2 MB/s\u001b[0m eta \u001b[36m0:00:00\u001b[0m\n",
            "\u001b[?25hInstalling collected packages: rdkit\n",
            "Successfully installed rdkit-2024.3.5\n",
            "Collecting torch_geometric\n",
            "  Downloading torch_geometric-2.5.3-py3-none-any.whl.metadata (64 kB)\n",
            "\u001b[2K     \u001b[90m━━━━━━━━━━━━━━━━━━━━━━━━━━━━━━━━━━━━━━━━\u001b[0m \u001b[32m64.2/64.2 kB\u001b[0m \u001b[31m2.8 MB/s\u001b[0m eta \u001b[36m0:00:00\u001b[0m\n",
            "\u001b[?25hRequirement already satisfied: tqdm in /usr/local/lib/python3.10/dist-packages (from torch_geometric) (4.66.5)\n",
            "Requirement already satisfied: numpy in /usr/local/lib/python3.10/dist-packages (from torch_geometric) (1.26.4)\n",
            "Requirement already satisfied: scipy in /usr/local/lib/python3.10/dist-packages (from torch_geometric) (1.13.1)\n",
            "Requirement already satisfied: fsspec in /usr/local/lib/python3.10/dist-packages (from torch_geometric) (2024.6.1)\n",
            "Requirement already satisfied: jinja2 in /usr/local/lib/python3.10/dist-packages (from torch_geometric) (3.1.4)\n",
            "Requirement already satisfied: aiohttp in /usr/local/lib/python3.10/dist-packages (from torch_geometric) (3.10.2)\n",
            "Requirement already satisfied: requests in /usr/local/lib/python3.10/dist-packages (from torch_geometric) (2.32.3)\n",
            "Requirement already satisfied: pyparsing in /usr/local/lib/python3.10/dist-packages (from torch_geometric) (3.1.2)\n",
            "Requirement already satisfied: scikit-learn in /usr/local/lib/python3.10/dist-packages (from torch_geometric) (1.3.2)\n",
            "Requirement already satisfied: psutil>=5.8.0 in /usr/local/lib/python3.10/dist-packages (from torch_geometric) (5.9.5)\n",
            "Requirement already satisfied: aiohappyeyeballs>=2.3.0 in /usr/local/lib/python3.10/dist-packages (from aiohttp->torch_geometric) (2.3.5)\n",
            "Requirement already satisfied: aiosignal>=1.1.2 in /usr/local/lib/python3.10/dist-packages (from aiohttp->torch_geometric) (1.3.1)\n",
            "Requirement already satisfied: attrs>=17.3.0 in /usr/local/lib/python3.10/dist-packages (from aiohttp->torch_geometric) (24.2.0)\n",
            "Requirement already satisfied: frozenlist>=1.1.1 in /usr/local/lib/python3.10/dist-packages (from aiohttp->torch_geometric) (1.4.1)\n",
            "Requirement already satisfied: multidict<7.0,>=4.5 in /usr/local/lib/python3.10/dist-packages (from aiohttp->torch_geometric) (6.0.5)\n",
            "Requirement already satisfied: yarl<2.0,>=1.0 in /usr/local/lib/python3.10/dist-packages (from aiohttp->torch_geometric) (1.9.4)\n",
            "Requirement already satisfied: async-timeout<5.0,>=4.0 in /usr/local/lib/python3.10/dist-packages (from aiohttp->torch_geometric) (4.0.3)\n",
            "Requirement already satisfied: MarkupSafe>=2.0 in /usr/local/lib/python3.10/dist-packages (from jinja2->torch_geometric) (2.1.5)\n",
            "Requirement already satisfied: charset-normalizer<4,>=2 in /usr/local/lib/python3.10/dist-packages (from requests->torch_geometric) (3.3.2)\n",
            "Requirement already satisfied: idna<4,>=2.5 in /usr/local/lib/python3.10/dist-packages (from requests->torch_geometric) (3.7)\n",
            "Requirement already satisfied: urllib3<3,>=1.21.1 in /usr/local/lib/python3.10/dist-packages (from requests->torch_geometric) (2.0.7)\n",
            "Requirement already satisfied: certifi>=2017.4.17 in /usr/local/lib/python3.10/dist-packages (from requests->torch_geometric) (2024.7.4)\n",
            "Requirement already satisfied: joblib>=1.1.1 in /usr/local/lib/python3.10/dist-packages (from scikit-learn->torch_geometric) (1.4.2)\n",
            "Requirement already satisfied: threadpoolctl>=2.0.0 in /usr/local/lib/python3.10/dist-packages (from scikit-learn->torch_geometric) (3.5.0)\n",
            "Downloading torch_geometric-2.5.3-py3-none-any.whl (1.1 MB)\n",
            "\u001b[2K   \u001b[90m━━━━━━━━━━━━━━━━━━━━━━━━━━━━━━━━━━━━━━━━\u001b[0m \u001b[32m1.1/1.1 MB\u001b[0m \u001b[31m21.2 MB/s\u001b[0m eta \u001b[36m0:00:00\u001b[0m\n",
            "\u001b[?25hInstalling collected packages: torch_geometric\n",
            "Successfully installed torch_geometric-2.5.3\n",
            "Requirement already satisfied: transformers in /usr/local/lib/python3.10/dist-packages (4.42.4)\n",
            "Requirement already satisfied: filelock in /usr/local/lib/python3.10/dist-packages (from transformers) (3.15.4)\n",
            "Requirement already satisfied: huggingface-hub<1.0,>=0.23.2 in /usr/local/lib/python3.10/dist-packages (from transformers) (0.23.5)\n",
            "Requirement already satisfied: numpy<2.0,>=1.17 in /usr/local/lib/python3.10/dist-packages (from transformers) (1.26.4)\n",
            "Requirement already satisfied: packaging>=20.0 in /usr/local/lib/python3.10/dist-packages (from transformers) (24.1)\n",
            "Requirement already satisfied: pyyaml>=5.1 in /usr/local/lib/python3.10/dist-packages (from transformers) (6.0.2)\n",
            "Requirement already satisfied: regex!=2019.12.17 in /usr/local/lib/python3.10/dist-packages (from transformers) (2024.5.15)\n",
            "Requirement already satisfied: requests in /usr/local/lib/python3.10/dist-packages (from transformers) (2.32.3)\n",
            "Requirement already satisfied: safetensors>=0.4.1 in /usr/local/lib/python3.10/dist-packages (from transformers) (0.4.4)\n",
            "Requirement already satisfied: tokenizers<0.20,>=0.19 in /usr/local/lib/python3.10/dist-packages (from transformers) (0.19.1)\n",
            "Requirement already satisfied: tqdm>=4.27 in /usr/local/lib/python3.10/dist-packages (from transformers) (4.66.5)\n",
            "Requirement already satisfied: fsspec>=2023.5.0 in /usr/local/lib/python3.10/dist-packages (from huggingface-hub<1.0,>=0.23.2->transformers) (2024.6.1)\n",
            "Requirement already satisfied: typing-extensions>=3.7.4.3 in /usr/local/lib/python3.10/dist-packages (from huggingface-hub<1.0,>=0.23.2->transformers) (4.12.2)\n",
            "Requirement already satisfied: charset-normalizer<4,>=2 in /usr/local/lib/python3.10/dist-packages (from requests->transformers) (3.3.2)\n",
            "Requirement already satisfied: idna<4,>=2.5 in /usr/local/lib/python3.10/dist-packages (from requests->transformers) (3.7)\n",
            "Requirement already satisfied: urllib3<3,>=1.21.1 in /usr/local/lib/python3.10/dist-packages (from requests->transformers) (2.0.7)\n",
            "Requirement already satisfied: certifi>=2017.4.17 in /usr/local/lib/python3.10/dist-packages (from requests->transformers) (2024.7.4)\n",
            "Collecting biopython\n",
            "  Downloading biopython-1.84-cp310-cp310-manylinux_2_17_x86_64.manylinux2014_x86_64.whl.metadata (12 kB)\n",
            "Requirement already satisfied: numpy in /usr/local/lib/python3.10/dist-packages (from biopython) (1.26.4)\n",
            "Downloading biopython-1.84-cp310-cp310-manylinux_2_17_x86_64.manylinux2014_x86_64.whl (3.2 MB)\n",
            "\u001b[2K   \u001b[90m━━━━━━━━━━━━━━━━━━━━━━━━━━━━━━━━━━━━━━━━\u001b[0m \u001b[32m3.2/3.2 MB\u001b[0m \u001b[31m14.7 MB/s\u001b[0m eta \u001b[36m0:00:00\u001b[0m\n",
            "\u001b[?25hInstalling collected packages: biopython\n",
            "Successfully installed biopython-1.84\n",
            "Requirement already satisfied: numpy in /usr/local/lib/python3.10/dist-packages (1.26.4)\n",
            "Collecting suds\n",
            "  Downloading suds-1.1.2-py3-none-any.whl.metadata (1.7 kB)\n",
            "Downloading suds-1.1.2-py3-none-any.whl (144 kB)\n",
            "\u001b[2K   \u001b[90m━━━━━━━━━━━━━━━━━━━━━━━━━━━━━━━━━━━━━━━━\u001b[0m \u001b[32m144.8/144.8 kB\u001b[0m \u001b[31m4.5 MB/s\u001b[0m eta \u001b[36m0:00:00\u001b[0m\n",
            "\u001b[?25hInstalling collected packages: suds\n",
            "Successfully installed suds-1.1.2\n"
          ]
        }
      ],
      "source": [
        "! pip install rdkit\n",
        "! pip install torch_geometric\n",
        "! pip install transformers\n",
        "! pip install biopython\n",
        "! pip install numpy\n",
        "! pip install suds"
      ]
    },
    {
      "cell_type": "code",
      "execution_count": null,
      "metadata": {
        "id": "R9Hq4v56QZIy"
      },
      "outputs": [],
      "source": [
        "import pandas as pd\n",
        "from os.path import join\n",
        "import torch\n",
        "import torch.nn.functional as F\n",
        "from torch_geometric.nn import GCNConv, global_mean_pool\n",
        "from torch_geometric.nn import GATConv, global_mean_pool\n",
        "\n",
        "from torch_geometric.data import Data, DataLoader\n",
        "from rdkit import Chem\n",
        "import rdkit\n",
        "from rdkit.Chem import AllChem\n",
        "from Bio.PDB import PDBList, PDBParser\n",
        "import numpy as np\n",
        "import requests\n",
        "from sklearn.metrics import r2_score\n",
        "import pickle\n",
        "import torch\n",
        "import networkx as nx\n",
        "import numpy as np\n",
        "from Bio.PDB import PDBParser, PDBList, NeighborSearch\n",
        "from torch_geometric.data import Data\n",
        "from scipy.spatial import KDTree\n",
        "import logging\n",
        "import torch\n",
        "import torch.nn.functional as F\n",
        "from torch_geometric.nn import GCNConv, global_mean_pool\n",
        "from torch_geometric.data import DataLoader, Data\n",
        "from torch_geometric.utils import to_networkx\n",
        "import networkx as nx\n",
        "from sklearn.metrics import r2_score\n",
        "import matplotlib.pyplot as plt\n",
        "# Define your inchi_to_graph function here\n",
        "# and any other necessary functions or imports\n"
      ]
    },
    {
      "cell_type": "code",
      "execution_count": null,
      "metadata": {
        "id": "DWrehcMXKo1E"
      },
      "outputs": [],
      "source": [
        "import warnings\n",
        "warnings.filterwarnings('ignore')"
      ]
    },
    {
      "cell_type": "code",
      "execution_count": null,
      "metadata": {
        "colab": {
          "base_uri": "https://localhost:8080/"
        },
        "id": "N5SIGKnuQeh_",
        "outputId": "346f765f-f874-4225-b567-961bdd5d3952"
      },
      "outputs": [
        {
          "output_type": "stream",
          "name": "stdout",
          "text": [
            "Mounted at /content/drive\n"
          ]
        }
      ],
      "source": [
        "from google.colab import drive\n",
        "drive.mount('/content/drive')"
      ]
    },
    {
      "cell_type": "code",
      "execution_count": null,
      "metadata": {
        "id": "jtINTAASRCun"
      },
      "outputs": [],
      "source": [
        "# Generate numbers from 200 to 3400 with a step of 200\n",
        "data_train = []\n",
        "# numbers = list(range(200, 3401, 200))\n",
        "numbers = list(range(200, 3401, 200))\n",
        "for number in numbers:\n",
        "\n",
        "  file_path = '/content/drive/My Drive/kcat_minidatasets/trainNew' + str(number) + '.pkl'\n",
        "  # Load the list from the specified file\n",
        "  with open(file_path, 'rb') as file:\n",
        "      data= pickle.load(file)\n",
        "\n",
        "  data_train = data_train + data"
      ]
    },
    {
      "cell_type": "code",
      "execution_count": null,
      "metadata": {
        "colab": {
          "base_uri": "https://localhost:8080/"
        },
        "id": "4eb_f7sfRsZg",
        "outputId": "4a966b47-8f52-48b6-b3d1-c9c8d8dd8bbb"
      },
      "outputs": [
        {
          "output_type": "execute_result",
          "data": {
            "text/plain": [
              "3417"
            ]
          },
          "metadata": {},
          "execution_count": 6
        }
      ],
      "source": [
        "len(data_train)"
      ]
    },
    {
      "cell_type": "code",
      "source": [
        "def create_default_protein_graph():\n",
        "    \"\"\"Create a default protein graph with predefined nodes and edges.\"\"\"\n",
        "    graph = nx.Graph()\n",
        "    # Define a few nodes with arbitrary features\n",
        "    default_features = [\n",
        "        [1] * 20 + [1.8, 8.1, 0, 0, 0, 0],  # Node 0 (ALA)\n",
        "        [0] * 20 + [2.5, 5.5, 0, 1, 1, 1],  # Node 1 (CYS)\n",
        "        [0] * 20 + [-3.5, 13.0, -1, 2, 2, 2],  # Node 2 (ASP)\n",
        "        [0] * 20 + [4.5, 5.2, 0, 3, 3, 3]  # Node 3 (ILE)\n",
        "    ]\n",
        "    for idx, features in enumerate(default_features):\n",
        "        graph.add_node(idx, feature=features)\n",
        "\n",
        "    # Add some edges with arbitrary distances\n",
        "    graph.add_edge(0, 1, weight=4.0)\n",
        "    graph.add_edge(1, 2, weight=5.0)\n",
        "    graph.add_edge(2, 3, weight=6.0)\n",
        "    graph.add_edge(3, 0, weight=4.5)\n",
        "\n",
        "    return graph_to_pyg_data(graph)\n",
        "\n",
        "def graph_to_pyg_data(graph):\n",
        "    try:\n",
        "        node_features = [data['feature'] for _, data in graph.nodes(data=True)]\n",
        "        x = torch.tensor(node_features, dtype=torch.float)\n",
        "\n",
        "        edge_index = []\n",
        "        edge_attr = []\n",
        "        for edge in graph.edges(data=True):\n",
        "            edge_index.append([edge[0], edge[1]])\n",
        "            edge_index.append([edge[1], edge[0]])\n",
        "            edge_attr.append([edge[2]['weight']])\n",
        "            edge_attr.append([edge[2]['weight']])\n",
        "\n",
        "        edge_index = torch.tensor(edge_index, dtype=torch.long).t().contiguous()\n",
        "        edge_attr = torch.tensor(edge_attr, dtype=torch.float)\n",
        "\n",
        "        data = Data(x=x, edge_index=edge_index, edge_attr=edge_attr)\n",
        "        return data\n",
        "\n",
        "    except Exception as e:\n",
        "        logging.error(f\"Error converting graph to PyG data: {e}\")\n",
        "        return None\n",
        "x = create_default_protein_graph()\n",
        "x"
      ],
      "metadata": {
        "colab": {
          "base_uri": "https://localhost:8080/"
        },
        "id": "LhsL0HblDoPK",
        "outputId": "2ddceb46-b385-4a0f-bbfd-5218a38b6273"
      },
      "execution_count": null,
      "outputs": [
        {
          "output_type": "execute_result",
          "data": {
            "text/plain": [
              "Data(x=[4, 26], edge_index=[2, 8], edge_attr=[8, 1])"
            ]
          },
          "metadata": {},
          "execution_count": 7
        }
      ]
    },
    {
      "cell_type": "code",
      "execution_count": null,
      "metadata": {
        "id": "4yvU3qnRVSWr"
      },
      "outputs": [],
      "source": [
        "cleaned_data = []\n",
        "for item in data_train:\n",
        "\n",
        "  if item['protein_graph'] is None:\n",
        "    # print(item['aggregated_substrate_graph'], item['aggregated_product_graph'], item['protein_graph'])\n",
        "    item['protein_graph'] = create_default_protein_graph()\n",
        "    cleaned_data.append(item)\n",
        "\n",
        "  else:\n",
        "    cleaned_data.append(item)\n",
        "\n",
        "cleaned_complete_data_train = []\n",
        "for item in cleaned_data:\n",
        "  # if item['aggregated_substrate_graph'].edge_index.shape[1] == 12:\n",
        "  if item['protein_graph'].edge_index.shape == torch.Size([0]):\n",
        "    item['protein_graph'] = create_default_protein_graph()\n",
        "    cleaned_data.append(item)\n",
        "\n",
        "  else:\n",
        "    cleaned_complete_data_train.append(item)"
      ]
    },
    {
      "cell_type": "code",
      "execution_count": null,
      "metadata": {
        "colab": {
          "base_uri": "https://localhost:8080/"
        },
        "id": "Nyrxtwt0VUnp",
        "outputId": "5e8fee33-5f08-4327-8411-f08fa80a697b"
      },
      "outputs": [
        {
          "output_type": "execute_result",
          "data": {
            "text/plain": [
              "3417"
            ]
          },
          "metadata": {},
          "execution_count": 9
        }
      ],
      "source": [
        "len(cleaned_complete_data_train)"
      ]
    },
    {
      "cell_type": "code",
      "source": [
        "# Generate numbers from 200 to 3400 with a step of 200\n",
        "data_test = []\n",
        "# numbers = list(range(200, 3401, 200))\n",
        "numbers = list(range(200, 801, 200))\n",
        "for number in numbers:\n",
        "\n",
        "  file_path = '/content/drive/My Drive/kcat_minidatasets/testNew' + str(number) + '.pkl'\n",
        "  # Load the list from the specified file\n",
        "  with open(file_path, 'rb') as file:\n",
        "      data= pickle.load(file)\n",
        "\n",
        "  data_test = data_test + data\n",
        "\n",
        "file_path = '/content/drive/My Drive/kcat_minidatasets/testNew849.pkl'\n",
        "  # Load the list from the specified file\n",
        "with open(file_path, 'rb') as file:\n",
        "    data= pickle.load(file)\n",
        "\n",
        "data_test = data_test + data\n",
        "\n",
        "cleaned_data = []\n",
        "for item in data_test:\n",
        "\n",
        "  if item['protein_graph'] is None:\n",
        "    # print(item['aggregated_substrate_graph'], item['aggregated_product_graph'], item['protein_graph'])\n",
        "    item['protein_graph'] = create_default_protein_graph()\n",
        "    cleaned_data.append(item)\n",
        "\n",
        "  else:\n",
        "    cleaned_data.append(item)\n",
        "\n",
        "cleaned_complete_data_test = []\n",
        "for item in cleaned_data:\n",
        "  # if item['aggregated_substrate_graph'].edge_index.shape[1] == 12:\n",
        "  if item['protein_graph'].edge_index.shape == torch.Size([0]):\n",
        "    item['protein_graph'] = create_default_protein_graph()\n",
        "    cleaned_data.append(item)\n",
        "\n",
        "  else:\n",
        "    cleaned_complete_data_test.append(item)"
      ],
      "metadata": {
        "id": "TsXAoPmBFwWz"
      },
      "execution_count": null,
      "outputs": []
    },
    {
      "cell_type": "code",
      "execution_count": null,
      "metadata": {
        "id": "ZzpTe3ReVfu5"
      },
      "outputs": [],
      "source": [
        "# Check if GPU is available\n",
        "\n",
        "device = torch.device('cuda' if torch.cuda.is_available() else 'cpu')"
      ]
    },
    {
      "cell_type": "code",
      "execution_count": null,
      "metadata": {
        "id": "IZL6Vkl5VOHb"
      },
      "outputs": [],
      "source": [
        "import torch\n",
        "from torch_geometric.data import Data, Batch\n",
        "from torch_geometric.loader import DataLoader\n",
        "from torch.utils.data import Dataset\n",
        "from sklearn.model_selection import train_test_split\n",
        "\n",
        "class KcatDataset(Dataset):\n",
        "    def __init__(self, data_list, device):\n",
        "        self.data_list = data_list\n",
        "        self.device = device\n",
        "\n",
        "    def __len__(self):\n",
        "        return len(self.data_list)\n",
        "\n",
        "    def __getitem__(self, idx):\n",
        "        # combined_data = self.data_list[idx]['combined']\n",
        "        combined_data = self.data_list[idx]['aggregated_substrate_graph']\n",
        "        protein_data = self.data_list[idx]['protein_graph']\n",
        "        log10_kcat = self.data_list[idx]['log10_kcat']\n",
        "        protein_embedding = self.data_list[idx]['esm_embedding']\n",
        "        fingerprint = self.data_list[idx]['fingerprint'][0]\n",
        "\n",
        "        # Move data to the device\n",
        "        combined_data = combined_data.to(self.device)\n",
        "        protein_data = protein_data.to(self.device)\n",
        "        protein_embedding = torch.tensor(protein_embedding).to(self.device)\n",
        "        fingerprint = torch.tensor(fingerprint).to(self.device)\n",
        "\n",
        "        return combined_data, protein_data, protein_embedding, fingerprint, log10_kcat\n",
        "\n",
        "\n",
        "# data = cleaned_complete_data_train + cleaned_complete_data_test\n",
        "# data_train, data_test = train_test_split(data, test_size=0.1,)\n",
        "\n",
        "train_kcat_dataset = KcatDataset(cleaned_complete_data_train, device)\n",
        "test_kcat_dataset = KcatDataset(cleaned_complete_data_test, device)\n",
        "\n",
        "train_data_loader = DataLoader(train_kcat_dataset, batch_size=64, shuffle=True)\n",
        "test_data_loader = DataLoader(test_kcat_dataset, batch_size=64)\n",
        "test_data_loader_big = DataLoader(test_kcat_dataset, batch_size=854)\n",
        "\n"
      ]
    },
    {
      "cell_type": "code",
      "source": [
        "cleaned_complete_data_train[100]['esm_embedding'].shape"
      ],
      "metadata": {
        "colab": {
          "base_uri": "https://localhost:8080/"
        },
        "id": "aViqollWNrjb",
        "outputId": "4841830d-517f-4ea1-9831-fef9b7bbee0a"
      },
      "execution_count": null,
      "outputs": [
        {
          "output_type": "execute_result",
          "data": {
            "text/plain": [
              "(1280,)"
            ]
          },
          "metadata": {},
          "execution_count": 13
        }
      ]
    },
    {
      "cell_type": "code",
      "source": [
        "import torch\n",
        "import torch.nn as nn\n",
        "import torch.nn.functional as F\n",
        "from torch_geometric.nn import GATConv\n",
        "from torch_geometric.nn import global_mean_pool\n",
        "from torch_geometric.data import Batch\n",
        "\n",
        "class GATSection(nn.Module):\n",
        "    def __init__(self, in_channels, out_channels, heads=1, dropout=0.0):\n",
        "        super(GATSection, self).__init__()\n",
        "        self.gat1 = GATConv(in_channels, out_channels, heads=heads, dropout=dropout)\n",
        "        self.gat2 = GATConv(out_channels * heads, out_channels, heads=heads, dropout=dropout)\n",
        "        self.gat3 = GATConv(out_channels * heads, out_channels, heads=heads, dropout=dropout)\n",
        "    def forward(self, x, edge_index, batch):\n",
        "\n",
        "        x = F.elu(self.gat1(x, edge_index))\n",
        "        x = F.dropout(x, p=0.3, training=self.training)\n",
        "        x = F.elu(self.gat2(x, edge_index))\n",
        "        x = F.dropout(x, p=0.3, training=self.training)\n",
        "        x = self.gat3(x, edge_index)\n",
        "        x = global_mean_pool(x, batch)  # Pooling to get batch-wise embeddings\n",
        "        return x\n",
        "\n",
        "\n",
        "class ProteinGATModel(nn.Module):\n",
        "    def __init__(self, in_channels, out_channels, esm_embedding_dim, hidden_dim, final_out_dim):\n",
        "        super(ProteinGATModel, self).__init__()\n",
        "        self.protein_gat = GATSection(in_channels, out_channels)\n",
        "\n",
        "        # Linear layers after concatenation of GAT and ESM embeddings\n",
        "        combined_dim = out_channels + esm_embedding_dim\n",
        "        self.fc1 = nn.Linear(combined_dim, hidden_dim)\n",
        "        self.fc2 = nn.Linear(hidden_dim, hidden_dim)\n",
        "        self.fc3 = nn.Linear(hidden_dim, final_out_dim)\n",
        "\n",
        "    def forward(self, protein_data, esm_embeddings):\n",
        "        # GAT for protein section\n",
        "        protein_x, protein_edge_index, protein_batch = protein_data.x, protein_data.edge_index, protein_data.batch\n",
        "\n",
        "        protein_embedding = self.protein_gat(protein_x, protein_edge_index, protein_batch)\n",
        "\n",
        "        # Ensure esm_embeddings is batch-wise\n",
        "        if esm_embeddings.dim() == 2 and esm_embeddings.size(0) == protein_embedding.size(0):\n",
        "            combined_embedding = torch.cat([protein_embedding, esm_embeddings], dim=-1)\n",
        "        else:\n",
        "            raise ValueError(\"Mismatch in batch size between embeddings and data\")\n",
        "\n",
        "        x = F.relu(self.fc1(combined_embedding))\n",
        "        x = F.relu(self.fc2(x))\n",
        "        x = self.fc3(x)\n",
        "        return x\n",
        "\n",
        "class SubstrateGATModel(nn.Module):\n",
        "    def __init__(self, in_channels, out_channels, substrate_embedding_dim, hidden_dim, final_out_dim):\n",
        "        super(SubstrateGATModel, self).__init__()\n",
        "        self.substrate_gat = GATSection(in_channels, out_channels)\n",
        "\n",
        "        # Linear layers after concatenation of GAT and substrate embeddings\n",
        "        combined_dim = out_channels + substrate_embedding_dim\n",
        "        self.fc1 = nn.Linear(combined_dim, 32)\n",
        "        self.fc2 = nn.Linear(32, hidden_dim)\n",
        "        self.fc3 = nn.Linear(hidden_dim, final_out_dim)\n",
        "        self.dropout = nn.Dropout(0.2)\n",
        "\n",
        "    def forward(self, substrate_data, substrate_embeddings):\n",
        "        # GAT for substrate section\n",
        "        substrate_x, substrate_edge_index, substrate_batch = substrate_data.x, substrate_data.edge_index, substrate_data.batch\n",
        "        substrate_embedding = self.substrate_gat(substrate_x, substrate_edge_index, substrate_batch)\n",
        "\n",
        "        # Ensure substrate_embeddings is batch-wise\n",
        "        if substrate_embeddings.dim() == 2 and substrate_embeddings.size(0) == substrate_embedding.size(0):\n",
        "            combined_embedding = torch.cat([substrate_embedding, substrate_embeddings], dim=-1)\n",
        "        else:\n",
        "            raise ValueError(\"Mismatch in batch size between embeddings and data\")\n",
        "\n",
        "        # Pass through linear layers\n",
        "        x = F.relu(self.fc1(combined_embedding))\n",
        "        x = F.relu(self.fc2(x))\n",
        "\n",
        "        x = self.fc3(x)\n",
        "        return x\n",
        "\n",
        "# Define input parameters\n",
        "protein_in_channels = 26  # Example input channel size for proteins\n",
        "substrate_in_channels = 6  # Example input channel size for substrates\n",
        "out_channels = 128  # Output channels for GAT layers\n",
        "esm_embedding_dim = 1280  # ESM embedding dimension for proteins\n",
        "substrate_embedding_dim = 2048  # Embedding dimension for substrates\n",
        "protein_hidden_dim = 16  # Hidden dimension for the linear layer\n",
        "molecule_hidden_dim=8\n",
        "final_out_dim = 1  # Final output dimension\n",
        "\n",
        "# Create instances of the models\n",
        "protein_model = ProteinGATModel(\n",
        "    in_channels=protein_in_channels,\n",
        "    out_channels=out_channels,\n",
        "    esm_embedding_dim=esm_embedding_dim,\n",
        "    hidden_dim=protein_hidden_dim,\n",
        "    final_out_dim=final_out_dim\n",
        ")\n",
        "\n",
        "substrate_model = SubstrateGATModel(\n",
        "    in_channels=substrate_in_channels,\n",
        "    out_channels=out_channels,\n",
        "    substrate_embedding_dim=substrate_embedding_dim,\n",
        "    hidden_dim=molecule_hidden_dim,\n",
        "    final_out_dim=final_out_dim\n",
        ")\n",
        "\n",
        "protein_model = protein_model.to(device)\n",
        "substrate_model = substrate_model.to(device)\n",
        "\n",
        "optimizer_protein = torch.optim.Adam(protein_model.parameters(), lr=0.0005, weight_decay=0.003)\n",
        "optimizer_substrate = torch.optim.Adam(substrate_model.parameters(), lr=0.0005, weight_decay=0.003)"
      ],
      "metadata": {
        "id": "DoxArgt43_AJ"
      },
      "execution_count": null,
      "outputs": []
    },
    {
      "cell_type": "code",
      "source": [
        "len(cleaned_complete_data_train), len(cleaned_complete_data_test)"
      ],
      "metadata": {
        "colab": {
          "base_uri": "https://localhost:8080/"
        },
        "id": "QTT9Iqpn9z7m",
        "outputId": "ca8121ca-9f99-4393-fd52-50fe9f9bde71"
      },
      "execution_count": null,
      "outputs": [
        {
          "output_type": "execute_result",
          "data": {
            "text/plain": [
              "(3417, 854)"
            ]
          },
          "metadata": {},
          "execution_count": 15
        }
      ]
    },
    {
      "cell_type": "code",
      "source": [
        "\n",
        "# Example instantiation of the model\n",
        "device = torch.device('cuda' if torch.cuda.is_available() else 'cpu')\n",
        "\n",
        "\n",
        "def plot_loss(train_scores, test_scores):\n",
        "    plt.figure()\n",
        "    plt.plot(train_scores, label='Train Loss')\n",
        "    plt.plot(test_scores, label='Test Loss')\n",
        "    plt.xlabel('Epochs')\n",
        "    plt.ylabel('Loss')\n",
        "    plt.legend()\n",
        "    plt.show()\n",
        "\n",
        "def plot_r2(train_r2, test_r2):\n",
        "    plt.figure()\n",
        "    plt.plot(train_r2, label='Train R2 Score')\n",
        "    plt.plot(test_r2, label='Test R2 Score')\n",
        "    plt.xlabel('Epochs')\n",
        "    plt.ylabel('R2 Score')\n",
        "    plt.legend()\n",
        "    plt.show()\n",
        "\n",
        "\n"
      ],
      "metadata": {
        "id": "r9Vyy6S0Gqik"
      },
      "execution_count": null,
      "outputs": []
    },
    {
      "cell_type": "code",
      "execution_count": null,
      "metadata": {
        "id": "kyXdFBLO5Y4P"
      },
      "outputs": [],
      "source": [
        "def train_model(train_data_loader, test_data_loader, device, model, optimizer, model_type, epochs):\n",
        "    train_scores = []\n",
        "    test_scores = []\n",
        "    test_r2_score = []\n",
        "    train_r2_score = []\n",
        "    best_test_loss = float('inf')\n",
        "\n",
        "    for epoch in range(epochs):\n",
        "        model.train()\n",
        "        train_total_loss = 0\n",
        "        all_outputs = []\n",
        "        all_targets = []\n",
        "\n",
        "        for mol_batch, prot_batch, esm_embedding, fingerprint, targets in train_data_loader:\n",
        "\n",
        "\n",
        "            targets = torch.tensor(targets).float().unsqueeze(1).to(device)\n",
        "\n",
        "            optimizer.zero_grad()\n",
        "            if model_type == 'protein':\n",
        "                output = model(prot_batch, esm_embedding)\n",
        "            elif model_type == 'substrate':\n",
        "                output = model(mol_batch, fingerprint.float())\n",
        "\n",
        "            if output is not None:\n",
        "                loss = F.mse_loss(output, targets)\n",
        "                loss.backward()\n",
        "                optimizer.step()\n",
        "                train_total_loss += loss.item()\n",
        "                all_outputs.extend(output.detach().cpu().numpy())\n",
        "                all_targets.extend(targets.detach().cpu().numpy())\n",
        "\n",
        "        r2 = r2_score(all_targets, all_outputs)\n",
        "        train_r2_score.append(r2)\n",
        "        print(f\"Epoch {epoch}, Train Loss: {train_total_loss / len(train_data_loader)}, Train R2: {r2}\")\n",
        "\n",
        "        model.eval()\n",
        "        total_test_loss = 0\n",
        "        all_outputs = []\n",
        "        all_targets = []\n",
        "\n",
        "        with torch.no_grad():\n",
        "            for mol_batch, prot_batch, esm_embedding, fingerprint, targets in test_data_loader:\n",
        "\n",
        "\n",
        "                targets = torch.tensor(targets).float().unsqueeze(1).to(device)\n",
        "\n",
        "                if model_type == 'protein':\n",
        "                    output = model(prot_batch, esm_embedding)\n",
        "                elif model_type == 'substrate':\n",
        "                    output = model(mol_batch, fingerprint.float())\n",
        "\n",
        "                if output is not None:\n",
        "                    loss = F.mse_loss(output, targets)\n",
        "                    total_test_loss += loss.item()\n",
        "                    all_outputs.extend(output.cpu().numpy())\n",
        "                    all_targets.extend(targets.cpu().numpy())\n",
        "\n",
        "        average_test_loss = total_test_loss / len(test_data_loader)\n",
        "        test_scores.append(average_test_loss)\n",
        "        print(f\"Epoch {epoch}, Test Loss: {average_test_loss}\")\n",
        "\n",
        "        r2 = r2_score(all_targets, all_outputs)\n",
        "        test_r2_score.append(r2)\n",
        "        print(f\"Epoch {epoch}, Test R2: {r2}\")\n",
        "\n",
        "        if average_test_loss < best_test_loss:\n",
        "            best_test_loss = average_test_loss\n",
        "\n",
        "        train_scores.append(train_total_loss / len(train_data_loader))\n",
        "\n",
        "    plot_loss(train_scores, test_scores)\n",
        "    plot_r2(train_r2_score, test_r2_score)\n",
        "    return model\n",
        "\n"
      ]
    },
    {
      "cell_type": "code",
      "source": [
        "# Train protein model\n",
        "trained_protein_model = train_model(train_data_loader, test_data_loader, device, protein_model, optimizer_protein, model_type='protein', epochs=25)\n"
      ],
      "metadata": {
        "colab": {
          "base_uri": "https://localhost:8080/",
          "height": 1000
        },
        "id": "kih-jWmfYYOh",
        "outputId": "05f75221-1909-4564-d238-ce196d59f7dc"
      },
      "execution_count": null,
      "outputs": [
        {
          "output_type": "stream",
          "name": "stdout",
          "text": [
            "Epoch 0, Train Loss: 1.4180575642320845, Train R2: -0.018081716842460738\n",
            "Epoch 0, Test Loss: 1.3943216289792741\n",
            "Epoch 0, Test R2: 0.0339032731816844\n",
            "Epoch 1, Train Loss: 1.2845994896358914, Train R2: 0.07655594893332585\n",
            "Epoch 1, Test Loss: 1.3131110157285417\n",
            "Epoch 1, Test R2: 0.09232742155499163\n",
            "Epoch 2, Train Loss: 1.2149258101427998, Train R2: 0.13145427661306253\n",
            "Epoch 2, Test Loss: 1.2743403826441084\n",
            "Epoch 2, Test R2: 0.11808374621511375\n",
            "Epoch 3, Train Loss: 1.1554027773715831, Train R2: 0.1736817759932736\n",
            "Epoch 3, Test Loss: 1.2188355454376765\n",
            "Epoch 3, Test R2: 0.15684971282456317\n",
            "Epoch 4, Train Loss: 1.0922300009815782, Train R2: 0.2155383307620793\n",
            "Epoch 4, Test Loss: 1.1787260813372475\n",
            "Epoch 4, Test R2: 0.18492762930177387\n",
            "Epoch 5, Train Loss: 1.0432221955723233, Train R2: 0.24908823842119387\n",
            "Epoch 5, Test Loss: 1.146976181438991\n",
            "Epoch 5, Test R2: 0.20621829571946781\n",
            "Epoch 6, Train Loss: 1.0067258333718334, Train R2: 0.28126612716633037\n",
            "Epoch 6, Test Loss: 1.1312276039804732\n",
            "Epoch 6, Test R2: 0.21622576794806836\n",
            "Epoch 7, Train Loss: 0.9549743334452311, Train R2: 0.31384860276932847\n",
            "Epoch 7, Test Loss: 1.1344008914061956\n",
            "Epoch 7, Test R2: 0.21077442825041381\n",
            "Epoch 8, Train Loss: 0.9382204601058254, Train R2: 0.32681641864131383\n",
            "Epoch 8, Test Loss: 1.1145889035293035\n",
            "Epoch 8, Test R2: 0.22754858556708812\n",
            "Epoch 9, Train Loss: 0.8686084796984991, Train R2: 0.37420767363261165\n",
            "Epoch 9, Test Loss: 1.097236088344029\n",
            "Epoch 9, Test R2: 0.2407390037774414\n",
            "Epoch 10, Train Loss: 0.8404712787380925, Train R2: 0.39466216660075426\n",
            "Epoch 10, Test Loss: 1.0937439799308777\n",
            "Epoch 10, Test R2: 0.24198126476446336\n",
            "Epoch 11, Train Loss: 0.8147955669297112, Train R2: 0.4174573997081946\n",
            "Epoch 11, Test Loss: 1.2068545988627843\n",
            "Epoch 11, Test R2: 0.15546457552790593\n",
            "Epoch 12, Train Loss: 0.7661321902716601, Train R2: 0.4514922362349937\n",
            "Epoch 12, Test Loss: 1.0924368330410548\n",
            "Epoch 12, Test R2: 0.24742566017322964\n",
            "Epoch 13, Train Loss: 0.7219777758474704, Train R2: 0.4814550347718922\n",
            "Epoch 13, Test Loss: 1.0652769889150346\n",
            "Epoch 13, Test R2: 0.26439946094773514\n",
            "Epoch 14, Train Loss: 0.6943785978688134, Train R2: 0.5015659568115055\n",
            "Epoch 14, Test Loss: 1.108770877122879\n",
            "Epoch 14, Test R2: 0.23153520979752118\n",
            "Epoch 15, Train Loss: 0.6824717036000004, Train R2: 0.5140482447380292\n",
            "Epoch 15, Test Loss: 1.0727176879133498\n",
            "Epoch 15, Test R2: 0.2573380197459195\n",
            "Epoch 16, Train Loss: 0.653205117141759, Train R2: 0.5322574031542529\n",
            "Epoch 16, Test Loss: 1.0586453463350023\n",
            "Epoch 16, Test R2: 0.269912181885548\n",
            "Epoch 17, Train Loss: 0.6297878909994055, Train R2: 0.5466922497369293\n",
            "Epoch 17, Test Loss: 1.0674535546983992\n",
            "Epoch 17, Test R2: 0.26440390186787255\n",
            "Epoch 18, Train Loss: 0.6171403345134523, Train R2: 0.5617840844798888\n",
            "Epoch 18, Test Loss: 1.0568737770829881\n",
            "Epoch 18, Test R2: 0.2708098266970387\n",
            "Epoch 19, Train Loss: 0.6089476943016052, Train R2: 0.5622313488221675\n",
            "Epoch 19, Test Loss: 1.0807011042322432\n",
            "Epoch 19, Test R2: 0.26248708848682745\n",
            "Epoch 20, Train Loss: 0.5829928815364838, Train R2: 0.5798697950377245\n",
            "Epoch 20, Test Loss: 1.0664649861199516\n",
            "Epoch 20, Test R2: 0.26858248123775896\n",
            "Epoch 21, Train Loss: 0.572907605656871, Train R2: 0.586492322512983\n",
            "Epoch 21, Test Loss: 1.0670187047549657\n",
            "Epoch 21, Test R2: 0.26254641238215437\n",
            "Epoch 22, Train Loss: 0.5591022493662657, Train R2: 0.6027066349570502\n",
            "Epoch 22, Test Loss: 1.0668006326471056\n",
            "Epoch 22, Test R2: 0.2655107036018821\n",
            "Epoch 23, Train Loss: 0.5453598764207628, Train R2: 0.6095749375157717\n",
            "Epoch 23, Test Loss: 1.0791419999940055\n",
            "Epoch 23, Test R2: 0.25911334436947986\n",
            "Epoch 24, Train Loss: 0.5260085066159567, Train R2: 0.6242044877612305\n",
            "Epoch 24, Test Loss: 1.094630526644843\n",
            "Epoch 24, Test R2: 0.24600028123980455\n"
          ]
        },
        {
          "output_type": "display_data",
          "data": {
            "text/plain": [
              "<Figure size 640x480 with 1 Axes>"
            ],
            "image/png": "[encoded data removed]"
          },
          "metadata": {}
        },
        {
          "output_type": "display_data",
          "data": {
            "text/plain": [
              "<Figure size 640x480 with 1 Axes>"
            ],
            "image/png": "[encoded data removed]"
          },
          "metadata": {}
        }
      ]
    },
    {
      "cell_type": "code",
      "source": [],
      "metadata": {
        "id": "9r8dKEZBvyTW"
      },
      "execution_count": null,
      "outputs": []
    },
    {
      "cell_type": "code",
      "source": [
        "# Train substrate model\n",
        "trained_substrate_model = train_model(train_data_loader, test_data_loader, device, substrate_model, optimizer_substrate, model_type='substrate', epochs=10)"
      ],
      "metadata": {
        "colab": {
          "base_uri": "https://localhost:8080/",
          "height": 1000
        },
        "id": "UFNNp27bYfS_",
        "outputId": "a3de3c73-8b59-4167-db98-1c4404deaf5a"
      },
      "execution_count": null,
      "outputs": [
        {
          "output_type": "stream",
          "name": "stdout",
          "text": [
            "Epoch 0, Train Loss: 1.4864193101723988, Train R2: -0.06855422457911664\n",
            "Epoch 0, Test Loss: 1.2036759768213545\n",
            "Epoch 0, Test R2: 0.16598055094041753\n",
            "Epoch 1, Train Loss: 0.9679871322932067, Train R2: 0.30387095793412044\n",
            "Epoch 1, Test Loss: 1.0926975991044725\n",
            "Epoch 1, Test R2: 0.24501349961531216\n",
            "Epoch 2, Train Loss: 0.8575942637743773, Train R2: 0.385200263671301\n",
            "Epoch 2, Test Loss: 1.0760248175689153\n",
            "Epoch 2, Test R2: 0.2578098447176309\n",
            "Epoch 3, Train Loss: 0.7683935032950507, Train R2: 0.4480846888442104\n",
            "Epoch 3, Test Loss: 1.0272076853684016\n",
            "Epoch 3, Test R2: 0.289050053109711\n",
            "Epoch 4, Train Loss: 0.7095342118431021, Train R2: 0.49078970436728164\n",
            "Epoch 4, Test Loss: 1.013455752815519\n",
            "Epoch 4, Test R2: 0.2977775154821678\n",
            "Epoch 5, Train Loss: 0.6603010920462785, Train R2: 0.5255713912533612\n",
            "Epoch 5, Test Loss: 0.995974966457912\n",
            "Epoch 5, Test R2: 0.31218229417926635\n",
            "Epoch 6, Train Loss: 0.6105439447694354, Train R2: 0.5636906799601239\n",
            "Epoch 6, Test Loss: 0.99668835742133\n",
            "Epoch 6, Test R2: 0.3086227615975027\n",
            "Epoch 7, Train Loss: 0.5819617747156708, Train R2: 0.5808232203144668\n",
            "Epoch 7, Test Loss: 0.9646556675434113\n",
            "Epoch 7, Test R2: 0.3304087629815128\n",
            "Epoch 8, Train Loss: 0.5533841164023788, Train R2: 0.601728984335266\n",
            "Epoch 8, Test Loss: 0.9981268048286438\n",
            "Epoch 8, Test R2: 0.30298465677096476\n",
            "Epoch 9, Train Loss: 0.526934086172669, Train R2: 0.6243002143296711\n",
            "Epoch 9, Test Loss: 0.9888293657984052\n",
            "Epoch 9, Test R2: 0.3102614320933704\n"
          ]
        },
        {
          "output_type": "display_data",
          "data": {
            "text/plain": [
              "<Figure size 640x480 with 1 Axes>"
            ],
            "image/png": "[encoded data removed]"
          },
          "metadata": {}
        },
        {
          "output_type": "display_data",
          "data": {
            "text/plain": [
              "<Figure size 640x480 with 1 Axes>"
            ],
            "image/png": "[encoded data removed]"
          },
          "metadata": {}
        }
      ]
    },
    {
      "cell_type": "code",
      "source": [
        "protein_params = sum(p.numel() for p in protein_model.parameters() if p.requires_grad)\n",
        "molecule_params = sum(p.numel() for p in substrate_model.parameters() if p.requires_grad)\n",
        "\n",
        "print(f\"Protein Model Parameters: {protein_params}\")\n",
        "print(f\"Molecule Model Parameters: {molecule_params}\")"
      ],
      "metadata": {
        "colab": {
          "base_uri": "https://localhost:8080/"
        },
        "id": "q9O03rSqZ8Sm",
        "outputId": "f87a8918-ae2c-49ff-cdf5-0f1380f44ea4"
      },
      "execution_count": null,
      "outputs": [
        {
          "output_type": "stream",
          "name": "stdout",
          "text": [
            "Protein Model Parameters: 60081\n",
            "Molecule Model Parameters: 104625\n"
          ]
        }
      ]
    },
    {
      "cell_type": "code",
      "source": [
        "import torch\n",
        "import torch.nn.functional as F\n",
        "from sklearn.metrics import r2_score\n",
        "\n",
        "def evaluate_ensemble(model1, model2, test_data_loader):\n",
        "    model1.eval()\n",
        "    model2.eval()\n",
        "\n",
        "    total_test_loss = 0\n",
        "    all_outputs = []\n",
        "    all_targets = []\n",
        "\n",
        "    with torch.no_grad():\n",
        "        for mol_batch, prot_batch, esm_embedding, fingerprint, targets in test_data_loader_big:\n",
        "            targets = torch.tensor(targets).float().unsqueeze(1).to(device)\n",
        "\n",
        "            output1 = model1(prot_batch, esm_embedding)\n",
        "\n",
        "            output2 = model2(mol_batch, fingerprint.float())\n",
        "\n",
        "            # Ensemble prediction by averaging outputs\n",
        "            output = (output1 + output2) / 2\n",
        "\n",
        "            if output is not None:\n",
        "                loss = F.mse_loss(output, targets)\n",
        "                total_test_loss += loss.item()\n",
        "                all_outputs.extend(output.cpu().numpy())\n",
        "                all_targets.extend(targets.cpu().numpy())\n",
        "\n",
        "    average_test_loss = total_test_loss / len(test_data_loader_big)\n",
        "\n",
        "\n",
        "    # Calculate R2 score\n",
        "    r2 = r2_score(all_targets, all_outputs)\n",
        "\n",
        "    print(f\"Ensemble Test Loss: {average_test_loss}\")\n",
        "    print(f\"R2 Score: {r2}\")\n",
        "\n",
        "# Example usage\n",
        "evaluate_ensemble(trained_protein_model, trained_substrate_model, test_data_loader)\n"
      ],
      "metadata": {
        "id": "vEJtHec-bofL",
        "colab": {
          "base_uri": "https://localhost:8080/"
        },
        "outputId": "9099f789-ec0a-441f-d030-276b28553cb5"
      },
      "execution_count": null,
      "outputs": [
        {
          "output_type": "stream",
          "name": "stdout",
          "text": [
            "Ensemble Test Loss: 0.8885399103164673\n",
            "R2 Score: 0.38044955344190223\n"
          ]
        }
      ]
    },
    {
      "cell_type": "markdown",
      "source": [
        "# XG Boost"
      ],
      "metadata": {
        "id": "X6sXULsgKdXL"
      }
    },
    {
      "cell_type": "code",
      "source": [
        "!pip install scikit-learn\n",
        "!pip install xgboost\n",
        "\n",
        "import xgboost as xgb\n",
        "from sklearn.datasets import load_iris\n",
        "from sklearn.model_selection import train_test_split\n",
        "from sklearn.metrics import accuracy_score\n",
        "\n"
      ],
      "metadata": {
        "colab": {
          "base_uri": "https://localhost:8080/"
        },
        "id": "1ZfOE8SbKZrO",
        "outputId": "900dcbf3-6423-4da3-e559-bfd9694be166"
      },
      "execution_count": null,
      "outputs": [
        {
          "output_type": "stream",
          "name": "stdout",
          "text": [
            "Requirement already satisfied: scikit-learn in /usr/local/lib/python3.10/dist-packages (1.3.2)\n",
            "Requirement already satisfied: numpy<2.0,>=1.17.3 in /usr/local/lib/python3.10/dist-packages (from scikit-learn) (1.26.4)\n",
            "Requirement already satisfied: scipy>=1.5.0 in /usr/local/lib/python3.10/dist-packages (from scikit-learn) (1.13.1)\n",
            "Requirement already satisfied: joblib>=1.1.1 in /usr/local/lib/python3.10/dist-packages (from scikit-learn) (1.4.2)\n",
            "Requirement already satisfied: threadpoolctl>=2.0.0 in /usr/local/lib/python3.10/dist-packages (from scikit-learn) (3.5.0)\n",
            "Requirement already satisfied: xgboost in /usr/local/lib/python3.10/dist-packages (2.1.1)\n",
            "Requirement already satisfied: numpy in /usr/local/lib/python3.10/dist-packages (from xgboost) (1.26.4)\n",
            "Collecting nvidia-nccl-cu12 (from xgboost)\n",
            "  Downloading nvidia_nccl_cu12-2.22.3-py3-none-manylinux2014_x86_64.whl.metadata (1.8 kB)\n",
            "Requirement already satisfied: scipy in /usr/local/lib/python3.10/dist-packages (from xgboost) (1.13.1)\n",
            "Downloading nvidia_nccl_cu12-2.22.3-py3-none-manylinux2014_x86_64.whl (190.9 MB)\n",
            "\u001b[2K   \u001b[90m━━━━━━━━━━━━━━━━━━━━━━━━━━━━━━━━━━━━━━━━\u001b[0m \u001b[32m190.9/190.9 MB\u001b[0m \u001b[31m5.8 MB/s\u001b[0m eta \u001b[36m0:00:00\u001b[0m\n",
            "\u001b[?25hInstalling collected packages: nvidia-nccl-cu12\n",
            "\u001b[31mERROR: pip's dependency resolver does not currently take into account all the packages that are installed. This behaviour is the source of the following dependency conflicts.\n",
            "torch 2.3.1+cu121 requires nvidia-cublas-cu12==12.1.3.1; platform_system == \"Linux\" and platform_machine == \"x86_64\", which is not installed.\n",
            "torch 2.3.1+cu121 requires nvidia-cuda-cupti-cu12==12.1.105; platform_system == \"Linux\" and platform_machine == \"x86_64\", which is not installed.\n",
            "torch 2.3.1+cu121 requires nvidia-cuda-nvrtc-cu12==12.1.105; platform_system == \"Linux\" and platform_machine == \"x86_64\", which is not installed.\n",
            "torch 2.3.1+cu121 requires nvidia-cuda-runtime-cu12==12.1.105; platform_system == \"Linux\" and platform_machine == \"x86_64\", which is not installed.\n",
            "torch 2.3.1+cu121 requires nvidia-cudnn-cu12==8.9.2.26; platform_system == \"Linux\" and platform_machine == \"x86_64\", which is not installed.\n",
            "torch 2.3.1+cu121 requires nvidia-cufft-cu12==11.0.2.54; platform_system == \"Linux\" and platform_machine == \"x86_64\", which is not installed.\n",
            "torch 2.3.1+cu121 requires nvidia-curand-cu12==10.3.2.106; platform_system == \"Linux\" and platform_machine == \"x86_64\", which is not installed.\n",
            "torch 2.3.1+cu121 requires nvidia-cusolver-cu12==11.4.5.107; platform_system == \"Linux\" and platform_machine == \"x86_64\", which is not installed.\n",
            "torch 2.3.1+cu121 requires nvidia-cusparse-cu12==12.1.0.106; platform_system == \"Linux\" and platform_machine == \"x86_64\", which is not installed.\n",
            "torch 2.3.1+cu121 requires nvidia-nvtx-cu12==12.1.105; platform_system == \"Linux\" and platform_machine == \"x86_64\", which is not installed.\n",
            "torch 2.3.1+cu121 requires nvidia-nccl-cu12==2.20.5; platform_system == \"Linux\" and platform_machine == \"x86_64\", but you have nvidia-nccl-cu12 2.22.3 which is incompatible.\u001b[0m\u001b[31m\n",
            "\u001b[0mSuccessfully installed nvidia-nccl-cu12-2.22.3\n"
          ]
        }
      ]
    },
    {
      "cell_type": "code",
      "source": [
        "import xgboost as xgb\n",
        "from sklearn.datasets import load_iris\n",
        "from sklearn.model_selection import train_test_split\n",
        "from sklearn.metrics import accuracy_score, mean_squared_error, r2_score\n",
        "\n",
        "\n",
        "X_train = []\n",
        "y_train = []\n",
        "for item in cleaned_complete_data_train:\n",
        "  # print(item['esm_embedding'], item['fingerprint'][0])\n",
        "  combined = np.concatenate((item['esm_embedding'], item['fingerprint'][0]))\n",
        "  X_train.append(combined)\n",
        "  y_train.append(item['log10_kcat'])\n",
        "\n",
        "# for item in cleaned_complete_data_test[0:400]:\n",
        "#   combined = np.concatenate((item['esm_embedding'], item['fingerprint'][0]))\n",
        "#   X_train.append(combined)\n",
        "#   y_train.append(item['log10_kcat'])\n",
        "\n",
        "X_test = []\n",
        "y_test = []\n",
        "for item in cleaned_complete_data_test:\n",
        "  combined = np.concatenate((item['esm_embedding'], item['fingerprint'][0]))\n",
        "  X_test.append(combined)\n",
        "  y_test.append(item['log10_kcat'])\n",
        "\n",
        "\n",
        "\n",
        "# Convert the dataset into DMatrix format\n",
        "dtrain = xgb.DMatrix(X_train, label=y_train)\n",
        "dtest = xgb.DMatrix(X_test, label=y_test)\n",
        "\n",
        "# Set the parameters for the XGBoost model\n",
        "params = {\n",
        "    'objective': 'reg:squarederror',  # regression objective\n",
        "    'max_depth': 3,  # maximum depth of the trees\n",
        "    'eta': 0.3,  # learning rate\n",
        "    'eval_metric': 'rmse'  # evaluation metric\n",
        "}\n",
        "\n",
        "# Train the XGBoost model\n",
        "num_rounds = 100\n",
        "xgb_model = xgb.train(params, dtrain, num_rounds)\n",
        "\n",
        "# Make predictions on the test set\n",
        "y_pred = xgb_model.predict(dtest)\n",
        "\n",
        "# Evaluate the model\n",
        "rmse = mean_squared_error(y_test, y_pred, squared=False)\n",
        "print(f'RMSE: {rmse:.2f}')\n",
        "r2_scoring = r2_score(y_test, y_pred)\n",
        "print(f'R2 Score: {r2_scoring:.2f}')"
      ],
      "metadata": {
        "colab": {
          "base_uri": "https://localhost:8080/"
        },
        "id": "-Lct7Tp-O3TV",
        "outputId": "beb434cd-4bb6-4579-fc2f-20ba8ac259c6"
      },
      "execution_count": null,
      "outputs": [
        {
          "output_type": "stream",
          "name": "stdout",
          "text": [
            "RMSE: 0.99\n",
            "R2 Score: 0.32\n"
          ]
        }
      ]
    },
    {
      "cell_type": "code",
      "source": [],
      "metadata": {
        "id": "y9PicCggzhfm"
      },
      "execution_count": null,
      "outputs": []
    },
    {
      "cell_type": "markdown",
      "source": [
        "# Combining"
      ],
      "metadata": {
        "id": "iLdxiaU6TMQe"
      }
    },
    {
      "cell_type": "code",
      "source": [
        "import torch\n",
        "import torch.nn.functional as F\n",
        "from sklearn.metrics import r2_score\n",
        "import xgboost as xgb\n",
        "\n",
        "def evaluate_ensemble(model1, model2, xgb_model, test_data_loader):\n",
        "\n",
        "  model1.eval()\n",
        "  model2.eval()\n",
        "\n",
        "  total_test_loss = 0\n",
        "  all_outputs = []\n",
        "  all_targets = []\n",
        "\n",
        "  with torch.no_grad():\n",
        "      for mol_batch, prot_batch, esm_embedding, fingerprint, targets in test_data_loader_big:\n",
        "          targets = torch.tensor(targets).float().unsqueeze(1).to(device)\n",
        "\n",
        "          output1 = model1(prot_batch, esm_embedding).to('cpu').numpy()\n",
        "          output2 = model2(mol_batch, fingerprint.float()).to('cpu').numpy()\n",
        "\n",
        "  # Prepare data for XGBoost prediction\n",
        "  xgboost_preds = xgb_model.predict(dtest)\n",
        "\n",
        "  # Ensemble prediction by averaging outputs with XGBoost\n",
        "  final_preds = (output1 + output2+ xgboost_preds) / 3\n",
        "  print(final_preds)\n",
        "  final_preds = final_preds[0]\n",
        "\n",
        "  final_r2 = r2_score(y_test, final_preds)\n",
        "  print(f'R2 Score: {final_r2:.2f}')\n",
        "\n",
        "# Example usage\n",
        "evaluate_ensemble(trained_protein_model, trained_substrate_model, xgb_model, test_data_loader)\n"
      ],
      "metadata": {
        "colab": {
          "base_uri": "https://localhost:8080/"
        },
        "id": "wbFJ8UsJxCIZ",
        "outputId": "1f9604d9-aec8-40cb-8f37-887fe7626ed0"
      },
      "execution_count": null,
      "outputs": [
        {
          "output_type": "stream",
          "name": "stdout",
          "text": [
            "[[1.3844643  1.0947882  1.4188474  ... 1.7119824  1.2190133  1.4591249 ]\n",
            " [1.2180711  0.92839503 1.2524543  ... 1.5455893  1.0526203  1.2927318 ]\n",
            " [1.3051156  1.0154394  1.3394986  ... 1.6326337  1.1396646  1.3797761 ]\n",
            " ...\n",
            " [2.0365431  1.7468668  2.0709262  ... 2.364061   1.8710922  2.1112037 ]\n",
            " [1.173333   0.8836569  1.2077161  ... 1.5008512  1.0078821  1.2479936 ]\n",
            " [1.4071712  1.1174952  1.4415544  ... 1.7346894  1.2417203  1.4818319 ]]\n",
            "R2 Score: 0.15\n"
          ]
        }
      ]
    }
  ],
  "metadata": {
    "accelerator": "GPU",
    "colab": {
      "gpuType": "T4",
      "provenance": []
    },
    "kernelspec": {
      "display_name": "Python 3",
      "name": "python3"
    },
    "language_info": {
      "name": "python"
    }
  },
  "nbformat": 4,
  "nbformat_minor": 0
}