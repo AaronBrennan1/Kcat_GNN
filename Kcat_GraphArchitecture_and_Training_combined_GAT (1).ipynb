{
  "cells": [
    {
      "cell_type": "code",
      "execution_count": null,
      "metadata": {
        "colab": {
          "base_uri": "https://localhost:8080/"
        },
        "id": "XSoKRi4mQSpb",
        "outputId": "2f160353-0a14-48b9-f00b-0e6183f958fb"
      },
      "outputs": [
        {
          "output_type": "stream",
          "name": "stdout",
          "text": [
            "Collecting rdkit\n",
            "  Downloading rdkit-2024.3.5-cp310-cp310-manylinux_2_28_x86_64.whl.metadata (3.9 kB)\n",
            "Requirement already satisfied: numpy in /usr/local/lib/python3.10/dist-packages (from rdkit) (1.26.4)\n",
            "Requirement already satisfied: Pillow in /usr/local/lib/python3.10/dist-packages (from rdkit) (9.4.0)\n",
            "Downloading rdkit-2024.3.5-cp310-cp310-manylinux_2_28_x86_64.whl (33.1 MB)\n",
            "\u001b[2K   \u001b[90m━━━━━━━━━━━━━━━━━━━━━━━━━━━━━━━━━━━━━━━━\u001b[0m \u001b[32m33.1/33.1 MB\u001b[0m \u001b[31m11.0 MB/s\u001b[0m eta \u001b[36m0:00:00\u001b[0m\n",
            "\u001b[?25hInstalling collected packages: rdkit\n",
            "Successfully installed rdkit-2024.3.5\n",
            "Collecting torch_geometric\n",
            "  Downloading torch_geometric-2.5.3-py3-none-any.whl.metadata (64 kB)\n",
            "\u001b[2K     \u001b[90m━━━━━━━━━━━━━━━━━━━━━━━━━━━━━━━━━━━━━━━━\u001b[0m \u001b[32m64.2/64.2 kB\u001b[0m \u001b[31m3.1 MB/s\u001b[0m eta \u001b[36m0:00:00\u001b[0m\n",
            "\u001b[?25hRequirement already satisfied: tqdm in /usr/local/lib/python3.10/dist-packages (from torch_geometric) (4.66.5)\n",
            "Requirement already satisfied: numpy in /usr/local/lib/python3.10/dist-packages (from torch_geometric) (1.26.4)\n",
            "Requirement already satisfied: scipy in /usr/local/lib/python3.10/dist-packages (from torch_geometric) (1.13.1)\n",
            "Requirement already satisfied: fsspec in /usr/local/lib/python3.10/dist-packages (from torch_geometric) (2024.6.1)\n",
            "Requirement already satisfied: jinja2 in /usr/local/lib/python3.10/dist-packages (from torch_geometric) (3.1.4)\n",
            "Requirement already satisfied: aiohttp in /usr/local/lib/python3.10/dist-packages (from torch_geometric) (3.10.3)\n",
            "Requirement already satisfied: requests in /usr/local/lib/python3.10/dist-packages (from torch_geometric) (2.32.3)\n",
            "Requirement already satisfied: pyparsing in /usr/local/lib/python3.10/dist-packages (from torch_geometric) (3.1.2)\n",
            "Requirement already satisfied: scikit-learn in /usr/local/lib/python3.10/dist-packages (from torch_geometric) (1.3.2)\n",
            "Requirement already satisfied: psutil>=5.8.0 in /usr/local/lib/python3.10/dist-packages (from torch_geometric) (5.9.5)\n",
            "Requirement already satisfied: aiohappyeyeballs>=2.3.0 in /usr/local/lib/python3.10/dist-packages (from aiohttp->torch_geometric) (2.3.5)\n",
            "Requirement already satisfied: aiosignal>=1.1.2 in /usr/local/lib/python3.10/dist-packages (from aiohttp->torch_geometric) (1.3.1)\n",
            "Requirement already satisfied: attrs>=17.3.0 in /usr/local/lib/python3.10/dist-packages (from aiohttp->torch_geometric) (24.2.0)\n",
            "Requirement already satisfied: frozenlist>=1.1.1 in /usr/local/lib/python3.10/dist-packages (from aiohttp->torch_geometric) (1.4.1)\n",
            "Requirement already satisfied: multidict<7.0,>=4.5 in /usr/local/lib/python3.10/dist-packages (from aiohttp->torch_geometric) (6.0.5)\n",
            "Requirement already satisfied: yarl<2.0,>=1.0 in /usr/local/lib/python3.10/dist-packages (from aiohttp->torch_geometric) (1.9.4)\n",
            "Requirement already satisfied: async-timeout<5.0,>=4.0 in /usr/local/lib/python3.10/dist-packages (from aiohttp->torch_geometric) (4.0.3)\n",
            "Requirement already satisfied: MarkupSafe>=2.0 in /usr/local/lib/python3.10/dist-packages (from jinja2->torch_geometric) (2.1.5)\n",
            "Requirement already satisfied: charset-normalizer<4,>=2 in /usr/local/lib/python3.10/dist-packages (from requests->torch_geometric) (3.3.2)\n",
            "Requirement already satisfied: idna<4,>=2.5 in /usr/local/lib/python3.10/dist-packages (from requests->torch_geometric) (3.7)\n",
            "Requirement already satisfied: urllib3<3,>=1.21.1 in /usr/local/lib/python3.10/dist-packages (from requests->torch_geometric) (2.0.7)\n",
            "Requirement already satisfied: certifi>=2017.4.17 in /usr/local/lib/python3.10/dist-packages (from requests->torch_geometric) (2024.7.4)\n",
            "Requirement already satisfied: joblib>=1.1.1 in /usr/local/lib/python3.10/dist-packages (from scikit-learn->torch_geometric) (1.4.2)\n",
            "Requirement already satisfied: threadpoolctl>=2.0.0 in /usr/local/lib/python3.10/dist-packages (from scikit-learn->torch_geometric) (3.5.0)\n",
            "Downloading torch_geometric-2.5.3-py3-none-any.whl (1.1 MB)\n",
            "\u001b[2K   \u001b[90m━━━━━━━━━━━━━━━━━━━━━━━━━━━━━━━━━━━━━━━━\u001b[0m \u001b[32m1.1/1.1 MB\u001b[0m \u001b[31m28.0 MB/s\u001b[0m eta \u001b[36m0:00:00\u001b[0m\n",
            "\u001b[?25hInstalling collected packages: torch_geometric\n",
            "Successfully installed torch_geometric-2.5.3\n",
            "Requirement already satisfied: transformers in /usr/local/lib/python3.10/dist-packages (4.42.4)\n",
            "Requirement already satisfied: filelock in /usr/local/lib/python3.10/dist-packages (from transformers) (3.15.4)\n",
            "Requirement already satisfied: huggingface-hub<1.0,>=0.23.2 in /usr/local/lib/python3.10/dist-packages (from transformers) (0.23.5)\n",
            "Requirement already satisfied: numpy<2.0,>=1.17 in /usr/local/lib/python3.10/dist-packages (from transformers) (1.26.4)\n",
            "Requirement already satisfied: packaging>=20.0 in /usr/local/lib/python3.10/dist-packages (from transformers) (24.1)\n",
            "Requirement already satisfied: pyyaml>=5.1 in /usr/local/lib/python3.10/dist-packages (from transformers) (6.0.2)\n",
            "Requirement already satisfied: regex!=2019.12.17 in /usr/local/lib/python3.10/dist-packages (from transformers) (2024.5.15)\n",
            "Requirement already satisfied: requests in /usr/local/lib/python3.10/dist-packages (from transformers) (2.32.3)\n",
            "Requirement already satisfied: safetensors>=0.4.1 in /usr/local/lib/python3.10/dist-packages (from transformers) (0.4.4)\n",
            "Requirement already satisfied: tokenizers<0.20,>=0.19 in /usr/local/lib/python3.10/dist-packages (from transformers) (0.19.1)\n",
            "Requirement already satisfied: tqdm>=4.27 in /usr/local/lib/python3.10/dist-packages (from transformers) (4.66.5)\n",
            "Requirement already satisfied: fsspec>=2023.5.0 in /usr/local/lib/python3.10/dist-packages (from huggingface-hub<1.0,>=0.23.2->transformers) (2024.6.1)\n",
            "Requirement already satisfied: typing-extensions>=3.7.4.3 in /usr/local/lib/python3.10/dist-packages (from huggingface-hub<1.0,>=0.23.2->transformers) (4.12.2)\n",
            "Requirement already satisfied: charset-normalizer<4,>=2 in /usr/local/lib/python3.10/dist-packages (from requests->transformers) (3.3.2)\n",
            "Requirement already satisfied: idna<4,>=2.5 in /usr/local/lib/python3.10/dist-packages (from requests->transformers) (3.7)\n",
            "Requirement already satisfied: urllib3<3,>=1.21.1 in /usr/local/lib/python3.10/dist-packages (from requests->transformers) (2.0.7)\n",
            "Requirement already satisfied: certifi>=2017.4.17 in /usr/local/lib/python3.10/dist-packages (from requests->transformers) (2024.7.4)\n",
            "Collecting biopython\n",
            "  Downloading biopython-1.84-cp310-cp310-manylinux_2_17_x86_64.manylinux2014_x86_64.whl.metadata (12 kB)\n",
            "Requirement already satisfied: numpy in /usr/local/lib/python3.10/dist-packages (from biopython) (1.26.4)\n",
            "Downloading biopython-1.84-cp310-cp310-manylinux_2_17_x86_64.manylinux2014_x86_64.whl (3.2 MB)\n",
            "\u001b[2K   \u001b[90m━━━━━━━━━━━━━━━━━━━━━━━━━━━━━━━━━━━━━━━━\u001b[0m \u001b[32m3.2/3.2 MB\u001b[0m \u001b[31m41.0 MB/s\u001b[0m eta \u001b[36m0:00:00\u001b[0m\n",
            "\u001b[?25hInstalling collected packages: biopython\n",
            "Successfully installed biopython-1.84\n",
            "Requirement already satisfied: numpy in /usr/local/lib/python3.10/dist-packages (1.26.4)\n",
            "Collecting suds\n",
            "  Downloading suds-1.1.2-py3-none-any.whl.metadata (1.7 kB)\n",
            "Downloading suds-1.1.2-py3-none-any.whl (144 kB)\n",
            "\u001b[2K   \u001b[90m━━━━━━━━━━━━━━━━━━━━━━━━━━━━━━━━━━━━━━━━\u001b[0m \u001b[32m144.8/144.8 kB\u001b[0m \u001b[31m5.3 MB/s\u001b[0m eta \u001b[36m0:00:00\u001b[0m\n",
            "\u001b[?25hInstalling collected packages: suds\n",
            "Successfully installed suds-1.1.2\n"
          ]
        }
      ],
      "source": [
        "! pip install rdkit\n",
        "! pip install torch_geometric\n",
        "! pip install transformers\n",
        "! pip install biopython\n",
        "! pip install numpy\n",
        "! pip install suds"
      ]
    },
    {
      "cell_type": "markdown",
      "source": [
        "# Import"
      ],
      "metadata": {
        "id": "fPufDkjmor0q"
      }
    },
    {
      "cell_type": "code",
      "execution_count": null,
      "metadata": {
        "id": "R9Hq4v56QZIy"
      },
      "outputs": [],
      "source": [
        "import pandas as pd\n",
        "from os.path import join\n",
        "import torch\n",
        "import torch.nn.functional as F\n",
        "from torch_geometric.nn import GCNConv, global_mean_pool\n",
        "from torch_geometric.nn import GATConv, global_mean_pool\n",
        "from torch_geometric.data import Data, DataLoader\n",
        "from rdkit import Chem\n",
        "import rdkit\n",
        "from rdkit.Chem import AllChem\n",
        "from Bio.PDB import PDBList, PDBParser\n",
        "import numpy as np\n",
        "import requests\n",
        "from sklearn.metrics import r2_score\n",
        "import pickle\n",
        "import torch\n",
        "import networkx as nx\n",
        "import numpy as np\n",
        "from Bio.PDB import PDBParser, PDBList, NeighborSearch\n",
        "from torch_geometric.data import Data\n",
        "from scipy.spatial import KDTree\n",
        "import logging\n",
        "import torch\n",
        "import torch.nn.functional as F\n",
        "from torch_geometric.nn import GCNConv, global_mean_pool\n",
        "from torch_geometric.data import DataLoader, Data\n",
        "from torch_geometric.utils import to_networkx\n",
        "import networkx as nx\n",
        "from sklearn.metrics import r2_score\n",
        "import matplotlib.pyplot as plt\n",
        "# Define your inchi_to_graph function here\n",
        "# and any other necessary functions or imports\n"
      ]
    },
    {
      "cell_type": "code",
      "execution_count": null,
      "metadata": {
        "id": "DWrehcMXKo1E"
      },
      "outputs": [],
      "source": [
        "import warnings\n",
        "warnings.filterwarnings('ignore')"
      ]
    },
    {
      "cell_type": "code",
      "execution_count": null,
      "metadata": {
        "colab": {
          "base_uri": "https://localhost:8080/"
        },
        "id": "N5SIGKnuQeh_",
        "outputId": "b44d4951-14cd-4fab-d473-7823c191cd9d"
      },
      "outputs": [
        {
          "output_type": "stream",
          "name": "stdout",
          "text": [
            "Mounted at /content/drive\n"
          ]
        }
      ],
      "source": [
        "from google.colab import drive\n",
        "drive.mount('/content/drive')"
      ]
    },
    {
      "cell_type": "markdown",
      "source": [
        "# Loading data from Google Drive"
      ],
      "metadata": {
        "id": "x5vW24eoo0xM"
      }
    },
    {
      "cell_type": "code",
      "execution_count": null,
      "metadata": {
        "id": "jtINTAASRCun"
      },
      "outputs": [],
      "source": [
        "# Generate numbers from 200 to 3400 with a step of 200\n",
        "data_train = []\n",
        "# numbers = list(range(200, 3401, 200))\n",
        "numbers = list(range(200, 3401, 200))\n",
        "for number in numbers:\n",
        "\n",
        "  file_path = '/content/drive/My Drive/kcat_minidatasets/trainNew' + str(number) + '.pkl'\n",
        "  # Load the list from the specified file\n",
        "  with open(file_path, 'rb') as file:\n",
        "      data= pickle.load(file)\n",
        "\n",
        "  data_train = data_train + data"
      ]
    },
    {
      "cell_type": "code",
      "execution_count": null,
      "metadata": {
        "colab": {
          "base_uri": "https://localhost:8080/"
        },
        "id": "4eb_f7sfRsZg",
        "outputId": "619e6970-d5da-4b1e-a6bf-6c01286fce58"
      },
      "outputs": [
        {
          "output_type": "execute_result",
          "data": {
            "text/plain": [
              "3417"
            ]
          },
          "metadata": {},
          "execution_count": 7
        }
      ],
      "source": [
        "len(data_train)"
      ]
    },
    {
      "cell_type": "code",
      "source": [
        "def create_default_protein_graph():\n",
        "    \"\"\"Create a default protein graph with predefined nodes and edges.\"\"\"\n",
        "    graph = nx.Graph()\n",
        "    # Define a few nodes with arbitrary features\n",
        "    default_features = [\n",
        "        [1] * 20 + [1.8, 8.1, 0, 0, 0, 0],  # Node 0 (ALA)\n",
        "        [0] * 20 + [2.5, 5.5, 0, 1, 1, 1],  # Node 1 (CYS)\n",
        "        [0] * 20 + [-3.5, 13.0, -1, 2, 2, 2],  # Node 2 (ASP)\n",
        "        [0] * 20 + [4.5, 5.2, 0, 3, 3, 3]  # Node 3 (ILE)\n",
        "    ]\n",
        "    for idx, features in enumerate(default_features):\n",
        "        graph.add_node(idx, feature=features)\n",
        "\n",
        "    # Add some edges with arbitrary distances\n",
        "    graph.add_edge(0, 1, weight=4.0)\n",
        "    graph.add_edge(1, 2, weight=5.0)\n",
        "    graph.add_edge(2, 3, weight=6.0)\n",
        "    graph.add_edge(3, 0, weight=4.5)\n",
        "\n",
        "    return graph_to_pyg_data(graph)\n",
        "\n",
        "def graph_to_pyg_data(graph):\n",
        "    try:\n",
        "        node_features = [data['feature'] for _, data in graph.nodes(data=True)]\n",
        "        x = torch.tensor(node_features, dtype=torch.float)\n",
        "\n",
        "        edge_index = []\n",
        "        edge_attr = []\n",
        "        for edge in graph.edges(data=True):\n",
        "            edge_index.append([edge[0], edge[1]])\n",
        "            edge_index.append([edge[1], edge[0]])\n",
        "            edge_attr.append([edge[2]['weight']])\n",
        "            edge_attr.append([edge[2]['weight']])\n",
        "\n",
        "        edge_index = torch.tensor(edge_index, dtype=torch.long).t().contiguous()\n",
        "        edge_attr = torch.tensor(edge_attr, dtype=torch.float)\n",
        "\n",
        "        data = Data(x=x, edge_index=edge_index, edge_attr=edge_attr)\n",
        "        return data\n",
        "\n",
        "    except Exception as e:\n",
        "        logging.error(f\"Error converting graph to PyG data: {e}\")\n",
        "        return None\n",
        "x = create_default_protein_graph()\n",
        "x"
      ],
      "metadata": {
        "colab": {
          "base_uri": "https://localhost:8080/"
        },
        "id": "LhsL0HblDoPK",
        "outputId": "239abdd4-c556-4e8b-fac0-7db43119c10a"
      },
      "execution_count": null,
      "outputs": [
        {
          "output_type": "execute_result",
          "data": {
            "text/plain": [
              "Data(x=[4, 26], edge_index=[2, 8], edge_attr=[8, 1])"
            ]
          },
          "metadata": {},
          "execution_count": 8
        }
      ]
    },
    {
      "cell_type": "code",
      "execution_count": null,
      "metadata": {
        "id": "4yvU3qnRVSWr"
      },
      "outputs": [],
      "source": [
        "cleaned_data = []\n",
        "for item in data_train:\n",
        "\n",
        "  if item['protein_graph'] is None:\n",
        "    # print(item['aggregated_substrate_graph'], item['aggregated_product_graph'], item['protein_graph'])\n",
        "    item['protein_graph'] = create_default_protein_graph()\n",
        "    cleaned_data.append(item)\n",
        "\n",
        "  else:\n",
        "    cleaned_data.append(item)\n",
        "\n",
        "cleaned_complete_data_train = []\n",
        "for item in cleaned_data:\n",
        "  # if item['aggregated_substrate_graph'].edge_index.shape[1] == 12:\n",
        "  if item['protein_graph'].edge_index.shape == torch.Size([0]):\n",
        "    item['protein_graph'] = create_default_protein_graph()\n",
        "    cleaned_data.append(item)\n",
        "\n",
        "  else:\n",
        "    cleaned_complete_data_train.append(item)"
      ]
    },
    {
      "cell_type": "code",
      "execution_count": null,
      "metadata": {
        "colab": {
          "base_uri": "https://localhost:8080/"
        },
        "id": "Nyrxtwt0VUnp",
        "outputId": "7e310aeb-62ea-4d85-f033-5e9b53920a71"
      },
      "outputs": [
        {
          "output_type": "execute_result",
          "data": {
            "text/plain": [
              "3417"
            ]
          },
          "metadata": {},
          "execution_count": 10
        }
      ],
      "source": [
        "len(cleaned_complete_data_train)"
      ]
    },
    {
      "cell_type": "code",
      "source": [
        "# Generate numbers from 200 to 3400 with a step of 200\n",
        "data_test = []\n",
        "# numbers = list(range(200, 3401, 200))\n",
        "numbers = list(range(200, 801, 200))\n",
        "for number in numbers:\n",
        "\n",
        "  file_path = '/content/drive/My Drive/kcat_minidatasets/testNew' + str(number) + '.pkl'\n",
        "  # Load the list from the specified file\n",
        "  with open(file_path, 'rb') as file:\n",
        "      data= pickle.load(file)\n",
        "\n",
        "  data_test = data_test + data\n",
        "\n",
        "file_path = '/content/drive/My Drive/kcat_minidatasets/testNew849.pkl'\n",
        "  # Load the list from the specified file\n",
        "with open(file_path, 'rb') as file:\n",
        "    data= pickle.load(file)\n",
        "\n",
        "data_test = data_test + data\n",
        "\n",
        "cleaned_data = []\n",
        "for item in data_test:\n",
        "\n",
        "  if item['protein_graph'] is None:\n",
        "    # print(item['aggregated_substrate_graph'], item['aggregated_product_graph'], item['protein_graph'])\n",
        "    item['protein_graph'] = create_default_protein_graph()\n",
        "    cleaned_data.append(item)\n",
        "\n",
        "  else:\n",
        "    cleaned_data.append(item)\n",
        "\n",
        "cleaned_complete_data_test = []\n",
        "for item in cleaned_data:\n",
        "  # if item['aggregated_substrate_graph'].edge_index.shape[1] == 12:\n",
        "  if item['protein_graph'].edge_index.shape == torch.Size([0]):\n",
        "    item['protein_graph'] = create_default_protein_graph()\n",
        "    cleaned_data.append(item)\n",
        "\n",
        "  else:\n",
        "    cleaned_complete_data_test.append(item)"
      ],
      "metadata": {
        "id": "TsXAoPmBFwWz"
      },
      "execution_count": null,
      "outputs": []
    },
    {
      "cell_type": "code",
      "execution_count": null,
      "metadata": {
        "id": "ZzpTe3ReVfu5"
      },
      "outputs": [],
      "source": [
        "# Check if GPU is available\n",
        "\n",
        "device = torch.device('cuda' if torch.cuda.is_available() else 'cpu')"
      ]
    },
    {
      "cell_type": "markdown",
      "source": [
        "# PyTorch dataset"
      ],
      "metadata": {
        "id": "XW4x1PJPo37I"
      }
    },
    {
      "cell_type": "code",
      "execution_count": null,
      "metadata": {
        "id": "IZL6Vkl5VOHb"
      },
      "outputs": [],
      "source": [
        "import torch\n",
        "from torch_geometric.data import Data, Batch\n",
        "from torch_geometric.loader import DataLoader\n",
        "from torch.utils.data import Dataset\n",
        "from sklearn.model_selection import train_test_split\n",
        "\n",
        "class KcatDataset(Dataset):\n",
        "    def __init__(self, data_list, device):\n",
        "        self.data_list = data_list\n",
        "        self.device = device\n",
        "\n",
        "    def __len__(self):\n",
        "        return len(self.data_list)\n",
        "\n",
        "    def __getitem__(self, idx):\n",
        "        # combined_data = self.data_list[idx]['combined']\n",
        "        combined_data = self.data_list[idx]['aggregated_substrate_graph']\n",
        "        protein_data = self.data_list[idx]['protein_graph']\n",
        "        log10_kcat = self.data_list[idx]['log10_kcat']\n",
        "        protein_embedding = self.data_list[idx]['esm_embedding']\n",
        "        fingerprint = self.data_list[idx]['fingerprint'][0]\n",
        "\n",
        "        # Move data to the device\n",
        "        combined_data = combined_data.to(self.device)\n",
        "        protein_data = protein_data.to(self.device)\n",
        "        protein_embedding = torch.tensor(protein_embedding).to(self.device)\n",
        "        fingerprint = torch.tensor(fingerprint).to(self.device)\n",
        "\n",
        "        return combined_data, protein_data, protein_embedding, fingerprint, log10_kcat\n",
        "\n",
        "\n",
        "# data = cleaned_complete_data_train + cleaned_complete_data_test\n",
        "# data_train, data_test = train_test_split(data, test_size=0.1,)\n",
        "\n",
        "train_kcat_dataset = KcatDataset(cleaned_complete_data_train, device)\n",
        "test_kcat_dataset = KcatDataset(cleaned_complete_data_test, device)\n",
        "\n",
        "train_data_loader = DataLoader(train_kcat_dataset, batch_size=64, shuffle=True)\n",
        "test_data_loader = DataLoader(test_kcat_dataset, batch_size=64)\n",
        "test_data_loader_big = DataLoader(test_kcat_dataset, batch_size=854)\n",
        "\n"
      ]
    },
    {
      "cell_type": "code",
      "source": [
        "cleaned_complete_data_train[100]['esm_embedding'].shape"
      ],
      "metadata": {
        "colab": {
          "base_uri": "https://localhost:8080/"
        },
        "id": "aViqollWNrjb",
        "outputId": "f97581ef-64e0-4ea0-a65a-b2587b78dd73"
      },
      "execution_count": null,
      "outputs": [
        {
          "output_type": "execute_result",
          "data": {
            "text/plain": [
              "(1280,)"
            ]
          },
          "metadata": {},
          "execution_count": 14
        }
      ]
    },
    {
      "cell_type": "markdown",
      "source": [
        "# GAT combined architecture"
      ],
      "metadata": {
        "id": "yk26B03To8Tm"
      }
    },
    {
      "cell_type": "code",
      "source": [
        "import torch\n",
        "import torch.nn as nn\n",
        "import torch.nn.functional as F\n",
        "from torch_geometric.nn import GATConv, global_mean_pool\n",
        "from torch_geometric.data import Batch\n",
        "\n",
        "class GATSection(nn.Module):\n",
        "    def __init__(self, in_channels, out_channels, heads=1, concat=True, dropout=0.3):\n",
        "        super(GATSection, self).__init__()\n",
        "        self.gat1 = GATConv(in_channels, out_channels, heads=heads, concat=concat, dropout=dropout)\n",
        "        self.gat2 = GATConv(out_channels * heads if concat else out_channels, out_channels, heads=heads, concat=concat, dropout=dropout)\n",
        "        self.gat3 = GATConv(out_channels * heads if concat else out_channels, out_channels, heads=heads, concat=False, dropout=dropout)\n",
        "\n",
        "    def forward(self, x, edge_index, batch):\n",
        "        x = F.elu(self.gat1(x, edge_index))\n",
        "        x = F.dropout(x, p=0.3, training=self.training)\n",
        "        x = F.elu(self.gat2(x, edge_index))\n",
        "        x = F.dropout(x, p=0.3, training=self.training)\n",
        "        x = self.gat3(x, edge_index)\n",
        "        x = global_mean_pool(x, batch)  # Pooling to get batch-wise embeddings\n",
        "        return x\n",
        "\n",
        "class ProteinGATModel(nn.Module):\n",
        "    def __init__(self, in_channels, out_channels):\n",
        "        super(ProteinGATModel, self).__init__()\n",
        "        self.protein_gat = GATSection(in_channels, out_channels)\n",
        "\n",
        "    def forward(self, protein_data):\n",
        "        protein_x, protein_edge_index, protein_batch = protein_data.x, protein_data.edge_index, protein_data.batch\n",
        "        protein_embedding = self.protein_gat(protein_x, protein_edge_index, protein_batch)\n",
        "        return protein_embedding\n",
        "\n",
        "class SubstrateGATModel(nn.Module):\n",
        "    def __init__(self, in_channels, out_channels):\n",
        "        super(SubstrateGATModel, self).__init__()\n",
        "        self.substrate_gat = GATSection(in_channels, out_channels)\n",
        "\n",
        "    def forward(self, substrate_data):\n",
        "        substrate_x, substrate_edge_index, substrate_batch = substrate_data.x, substrate_data.edge_index, substrate_data.batch\n",
        "        substrate_embedding = self.substrate_gat(substrate_x, substrate_edge_index, substrate_batch)\n",
        "        return substrate_embedding\n",
        "\n",
        "class CombinedModel(nn.Module):\n",
        "    def __init__(self, protein_in_channels, substrate_in_channels, esm_embedding_dim, substrate_embedding_dim, reaction_fingerprint_dim, hidden_dim, final_out_dim):\n",
        "        super(CombinedModel, self).__init__()\n",
        "        self.protein_gat_model = ProteinGATModel(protein_in_channels, hidden_dim)\n",
        "        self.substrate_gat_model = SubstrateGATModel(substrate_in_channels, hidden_dim)\n",
        "\n",
        "        # Calculate the correct combined dimension\n",
        "        combined_dim = 3584 #hidden_dim + hidden_dim + esm_embedding_dim + reaction_fingerprint_dim + substrate_embedding_dim\n",
        "        # Ensure the fc1 layer takes the correct input dimension\n",
        "        self.fc1 = nn.Linear(combined_dim, hidden_dim)\n",
        "        self.fc2 = nn.Linear(hidden_dim, hidden_dim)\n",
        "        self.fc3 = nn.Linear(hidden_dim, final_out_dim)\n",
        "        self.dropout = nn.Dropout(0.2)\n",
        "\n",
        "    def forward(self, protein_data, substrate_data, esm_embeddings, reaction_fingerprint):\n",
        "        # Get embeddings from both GNNs\n",
        "        protein_embedding = self.protein_gat_model(protein_data)\n",
        "        substrate_embedding = self.substrate_gat_model(substrate_data)\n",
        "\n",
        "        # Ensure esm_embeddings and reaction_fingerprint are batch-wise and match the batch size\n",
        "        if esm_embeddings.dim() == 2 and esm_embeddings.size(0) == protein_embedding.size(0) == substrate_embedding.size(0):\n",
        "            # Concatenate embeddings correctly\n",
        "            combined_embedding = torch.cat([protein_embedding, substrate_embedding, esm_embeddings, reaction_fingerprint], dim=-1)\n",
        "        else:\n",
        "            raise ValueError(\"Mismatch in batch size between embeddings and data\")\n",
        "\n",
        "        # Pass through linear layers\n",
        "        x = F.relu(self.fc1(combined_embedding))\n",
        "        x = F.relu(self.fc2(x))\n",
        "        x = self.dropout(x)\n",
        "        x = self.fc3(x)\n",
        "        return x\n",
        "\n",
        "# Define input parameters\n",
        "protein_in_channels = 26  # Example input channel size for proteins\n",
        "substrate_in_channels = 6  # Example input channel size for substrates\n",
        "hidden_dim = 128  # Hidden dimension for the GCN and linear layers\n",
        "esm_embedding_dim = 1280  # ESM embedding dimension for proteins\n",
        "substrate_embedding_dim = 2048  # Embedding dimension for substrates\n",
        "reaction_fingerprint_dim = 512  # Example dimension for reaction fingerprints\n",
        "final_out_dim = 1  # Final output dimension\n",
        "\n",
        "# Create an instance of the combined model\n",
        "combined_model = CombinedModel(\n",
        "    protein_in_channels=protein_in_channels,\n",
        "    substrate_in_channels=substrate_in_channels,\n",
        "    esm_embedding_dim=esm_embedding_dim,\n",
        "    substrate_embedding_dim=substrate_embedding_dim,\n",
        "    reaction_fingerprint_dim=reaction_fingerprint_dim,\n",
        "    hidden_dim=hidden_dim,\n",
        "    final_out_dim=final_out_dim\n",
        ")\n",
        "\n",
        "combined_model = combined_model.to(device)\n",
        "\n",
        "optimizer = torch.optim.Adam(combined_model.parameters(), lr=0.0005, weight_decay=0.003)\n"
      ],
      "metadata": {
        "id": "DoxArgt43_AJ"
      },
      "execution_count": null,
      "outputs": []
    },
    {
      "cell_type": "code",
      "source": [
        "len(cleaned_complete_data_train), len(cleaned_complete_data_test)"
      ],
      "metadata": {
        "colab": {
          "base_uri": "https://localhost:8080/"
        },
        "id": "QTT9Iqpn9z7m",
        "outputId": "6dc0418e-9e57-498d-c882-55ad9e6ef339"
      },
      "execution_count": null,
      "outputs": [
        {
          "output_type": "execute_result",
          "data": {
            "text/plain": [
              "(3417, 854)"
            ]
          },
          "metadata": {},
          "execution_count": 16
        }
      ]
    },
    {
      "cell_type": "code",
      "source": [
        "\n",
        "# Example instantiation of the model\n",
        "device = torch.device('cuda' if torch.cuda.is_available() else 'cpu')\n",
        "\n",
        "\n",
        "def plot_loss(train_scores, test_scores):\n",
        "    plt.figure()\n",
        "    plt.plot(train_scores, label='Train Loss')\n",
        "    plt.plot(test_scores, label='Test Loss')\n",
        "    plt.title('Combined GAT train and test loss')\n",
        "    plt.xlabel('Epochs')\n",
        "    plt.ylabel('Loss')\n",
        "    plt.legend()\n",
        "    plt.show()\n",
        "\n",
        "def plot_r2(train_r2, test_r2):\n",
        "    plt.figure()\n",
        "    plt.plot(train_r2, label='Train R2 Score')\n",
        "    plt.plot(test_r2, label='Test R2 Score')\n",
        "    plt.title('Combined GAT train and test loss')\n",
        "    plt.xlabel('Epochs')\n",
        "    plt.ylabel('R2 Score')\n",
        "    plt.legend()\n",
        "    plt.show()\n",
        "\n",
        "\n"
      ],
      "metadata": {
        "id": "r9Vyy6S0Gqik"
      },
      "execution_count": null,
      "outputs": []
    },
    {
      "cell_type": "markdown",
      "source": [
        "# Training function"
      ],
      "metadata": {
        "id": "GmHoj2YJpA4H"
      }
    },
    {
      "cell_type": "code",
      "execution_count": null,
      "metadata": {
        "id": "kyXdFBLO5Y4P"
      },
      "outputs": [],
      "source": [
        "import copy\n",
        "\n",
        "def train_model(train_data_loader, test_data_loader, device, model, optimizer, model_type, epochs, print_out=True):\n",
        "    train_scores = []\n",
        "    test_scores = []\n",
        "    test_r2_score = []\n",
        "    train_r2_score = []\n",
        "    best_test_loss = float('inf')\n",
        "    best_test_r2 = -1000\n",
        "    best_model_state = None\n",
        "\n",
        "\n",
        "    for epoch in range(epochs):\n",
        "        model.train()\n",
        "        train_total_loss = 0\n",
        "        all_outputs = []\n",
        "        all_targets = []\n",
        "\n",
        "        for mol_batch, prot_batch, esm_embedding, fingerprint, targets in train_data_loader:\n",
        "\n",
        "\n",
        "            targets = torch.tensor(targets).float().unsqueeze(1).to(device)\n",
        "\n",
        "            optimizer.zero_grad()\n",
        "            # protein_data, substrate_data, esm_embeddings, reaction_fingerprint\n",
        "\n",
        "            output = model(prot_batch, mol_batch, esm_embedding, fingerprint.float())\n",
        "\n",
        "\n",
        "            if output is not None:\n",
        "                loss = F.mse_loss(output, targets)\n",
        "                loss.backward()\n",
        "                optimizer.step()\n",
        "                train_total_loss += loss.item()\n",
        "                all_outputs.extend(output.detach().cpu().numpy())\n",
        "                all_targets.extend(targets.detach().cpu().numpy())\n",
        "\n",
        "        r2 = r2_score(all_targets, all_outputs)\n",
        "        train_r2_score.append(r2)\n",
        "        if print_out:\n",
        "          print(f\"Epoch {epoch}, Train Loss: {train_total_loss / len(train_data_loader)}, Train R2: {r2}\")\n",
        "\n",
        "        model.eval()\n",
        "        total_test_loss = 0\n",
        "        all_outputs = []\n",
        "        all_targets = []\n",
        "\n",
        "        with torch.no_grad():\n",
        "            for mol_batch, prot_batch, esm_embedding, fingerprint, targets in test_data_loader:\n",
        "\n",
        "\n",
        "                targets = torch.tensor(targets).float().unsqueeze(1).to(device)\n",
        "\n",
        "                output = model(prot_batch, mol_batch, esm_embedding, fingerprint.float())\n",
        "\n",
        "\n",
        "                if output is not None:\n",
        "                    loss = F.mse_loss(output, targets)\n",
        "                    total_test_loss += loss.item()\n",
        "                    all_outputs.extend(output.cpu().numpy())\n",
        "                    all_targets.extend(targets.cpu().numpy())\n",
        "\n",
        "        average_test_loss = total_test_loss / len(test_data_loader)\n",
        "        test_scores.append(average_test_loss)\n",
        "        if print_out:\n",
        "          print(f\"Epoch {epoch}, Test Loss: {average_test_loss}\")\n",
        "\n",
        "        r2 = r2_score(all_targets, all_outputs)\n",
        "        test_r2_score.append(r2)\n",
        "\n",
        "        if print_out:\n",
        "          print(f\"Epoch {epoch}, Test R2: {r2}\")\n",
        "\n",
        "        if r2 > best_test_r2:\n",
        "            best_test_r2 = r2\n",
        "            best_model_state = copy.deepcopy(model.state_dict())\n",
        "\n",
        "\n",
        "        train_scores.append(train_total_loss / len(train_data_loader))\n",
        "\n",
        "\n",
        "    if best_model_state is not None:\n",
        "        model.load_state_dict(best_model_state)\n",
        "    if print_out:\n",
        "      plot_loss(train_scores, test_scores)\n",
        "      plot_r2(train_r2_score, test_r2_score)\n",
        "      print(\"Best test r2\")\n",
        "    return model, best_test_r2\n",
        "\n"
      ]
    },
    {
      "cell_type": "code",
      "source": [
        "# Train protein model\n",
        "trained_model, r2 = train_model(train_data_loader, test_data_loader, device, combined_model, optimizer, model_type='protein', epochs=24, print_out=True)\n"
      ],
      "metadata": {
        "colab": {
          "base_uri": "https://localhost:8080/",
          "height": 1000
        },
        "id": "kih-jWmfYYOh",
        "outputId": "2ca06ff1-8ad9-4f19-e104-53369684ac17"
      },
      "execution_count": null,
      "outputs": [
        {
          "output_type": "stream",
          "name": "stdout",
          "text": [
            "Epoch 0, Train Loss: 1.5898416307237413, Train R2: -0.14709179128321215\n",
            "Epoch 0, Test Loss: 1.3968633711338043\n",
            "Epoch 0, Test R2: 0.0257766296773132\n",
            "Epoch 1, Train Loss: 1.3535035815503862, Train R2: 0.026727332270901627\n",
            "Epoch 1, Test Loss: 1.3052126850400652\n",
            "Epoch 1, Test R2: 0.08903295476516404\n",
            "Epoch 2, Train Loss: 1.3879257517832297, Train R2: 0.001996771163878197\n",
            "Epoch 2, Test Loss: 1.3428698948451452\n",
            "Epoch 2, Test R2: 0.058681927305711756\n",
            "Epoch 3, Train Loss: 1.1589967696755021, Train R2: 0.17432206709171882\n",
            "Epoch 3, Test Loss: 1.2297183190073286\n",
            "Epoch 3, Test R2: 0.1419133071175981\n",
            "Epoch 4, Train Loss: 1.216490297957703, Train R2: 0.1314153589005198\n",
            "Epoch 4, Test Loss: 1.1638190703732627\n",
            "Epoch 4, Test R2: 0.18967388306321742\n",
            "Epoch 5, Train Loss: 1.551707864911468, Train R2: -0.11956604113599156\n",
            "Epoch 5, Test Loss: 1.1028128053460802\n",
            "Epoch 5, Test R2: 0.23069749532976502\n",
            "Epoch 6, Train Loss: 1.165741166582814, Train R2: 0.16250634160882127\n",
            "Epoch 6, Test Loss: 1.055658268077033\n",
            "Epoch 6, Test R2: 0.27358085750794225\n",
            "Epoch 7, Train Loss: 1.1437610316055793, Train R2: 0.17472198168946618\n",
            "Epoch 7, Test Loss: 1.134706893137523\n",
            "Epoch 7, Test R2: 0.2101882895336058\n",
            "Epoch 8, Train Loss: 0.9700903484114894, Train R2: 0.2998773386916612\n",
            "Epoch 8, Test Loss: 1.2341215823377882\n",
            "Epoch 8, Test R2: 0.14779890414112284\n",
            "Epoch 9, Train Loss: 1.1098050822814305, Train R2: 0.36939581607808414\n",
            "Epoch 9, Test Loss: 0.9758325304303851\n",
            "Epoch 9, Test R2: 0.3272946855203215\n",
            "Epoch 10, Train Loss: 0.7840745918176792, Train R2: 0.435496255922978\n",
            "Epoch 10, Test Loss: 1.0377989837101527\n",
            "Epoch 10, Test R2: 0.28059626934017445\n",
            "Epoch 11, Train Loss: 0.6823278814554214, Train R2: 0.508379376459725\n",
            "Epoch 11, Test Loss: 0.99221299801554\n",
            "Epoch 11, Test R2: 0.31015515825883755\n",
            "Epoch 12, Train Loss: 0.8364653708758177, Train R2: 0.3960819984423337\n",
            "Epoch 12, Test Loss: 1.011053523847035\n",
            "Epoch 12, Test R2: 0.3067677404735887\n",
            "Epoch 13, Train Loss: 0.5734285312118353, Train R2: 0.5867381435378067\n",
            "Epoch 13, Test Loss: 0.9748380567346301\n",
            "Epoch 13, Test R2: 0.33261037917288383\n",
            "Epoch 14, Train Loss: 0.5343460109498765, Train R2: 0.615465471678374\n",
            "Epoch 14, Test Loss: 0.9445535498006004\n",
            "Epoch 14, Test R2: 0.34701488033152483\n",
            "Epoch 15, Train Loss: 0.47680366701549953, Train R2: 0.657699459547876\n",
            "Epoch 15, Test Loss: 1.0476328432559967\n",
            "Epoch 15, Test R2: 0.28168835072436815\n",
            "Epoch 16, Train Loss: 0.44383673673426666, Train R2: 0.6804815783753003\n",
            "Epoch 16, Test Loss: 0.9724310295922416\n",
            "Epoch 16, Test R2: 0.3258907186969838\n",
            "Epoch 17, Train Loss: 0.3991944342851639, Train R2: 0.7121703499660919\n",
            "Epoch 17, Test Loss: 1.0347455995423454\n",
            "Epoch 17, Test R2: 0.2864316034481641\n",
            "Epoch 18, Train Loss: 0.3887312740639404, Train R2: 0.7209987692793403\n",
            "Epoch 18, Test Loss: 1.071456572839192\n",
            "Epoch 18, Test R2: 0.25945532538858007\n",
            "Epoch 19, Train Loss: 0.3684643316600058, Train R2: 0.7354468040439385\n",
            "Epoch 19, Test Loss: 1.0086164346763067\n",
            "Epoch 19, Test R2: 0.30512489281212707\n",
            "Epoch 20, Train Loss: 0.3750926341723513, Train R2: 0.7309578677194754\n",
            "Epoch 20, Test Loss: 1.0000916165964944\n",
            "Epoch 20, Test R2: 0.3096025071307922\n",
            "Epoch 21, Train Loss: 0.3480573034396878, Train R2: 0.7513102372306497\n",
            "Epoch 21, Test Loss: 1.0168317896979195\n",
            "Epoch 21, Test R2: 0.29546125166099224\n",
            "Epoch 22, Train Loss: 0.34372358244878276, Train R2: 0.7528097469917552\n",
            "Epoch 22, Test Loss: 1.0067864656448364\n",
            "Epoch 22, Test R2: 0.30260061059004395\n",
            "Epoch 23, Train Loss: 0.36615147193272907, Train R2: 0.736690830649313\n",
            "Epoch 23, Test Loss: 1.0003727717058999\n",
            "Epoch 23, Test R2: 0.30540807076793186\n"
          ]
        },
        {
          "output_type": "display_data",
          "data": {
            "text/plain": [
              "<Figure size 640x480 with 1 Axes>"
            ],
            "image/png": "[encoded data removed]"
          },
          "metadata": {}
        },
        {
          "output_type": "display_data",
          "data": {
            "text/plain": [
              "<Figure size 640x480 with 1 Axes>"
            ],
            "image/png": "[encoded data removed]"
          },
          "metadata": {}
        },
        {
          "output_type": "stream",
          "name": "stdout",
          "text": [
            "Best test r2\n"
          ]
        }
      ]
    },
    {
      "cell_type": "markdown",
      "source": [
        "# 10 training runs statistics"
      ],
      "metadata": {
        "id": "S8_xRnIg_X1x"
      }
    },
    {
      "cell_type": "code",
      "source": [
        "def get_default_models():\n",
        "  # Define input parameters\n",
        "  protein_in_channels = 26  # Example input channel size for proteins\n",
        "  substrate_in_channels = 6  # Example input channel size for substrates\n",
        "  hidden_dim = 128  # Hidden dimension for the GCN and linear layers\n",
        "  esm_embedding_dim = 1280  # ESM embedding dimension for proteins\n",
        "  substrate_embedding_dim = 2048  # Embedding dimension for substrates\n",
        "  reaction_fingerprint_dim = 512  # Example dimension for reaction fingerprints\n",
        "  final_out_dim = 1  # Final output dimension\n",
        "\n",
        "  # Create an instance of the combined model\n",
        "  combined_model = CombinedModel(\n",
        "      protein_in_channels=protein_in_channels,\n",
        "      substrate_in_channels=substrate_in_channels,\n",
        "      esm_embedding_dim=esm_embedding_dim,\n",
        "      substrate_embedding_dim=substrate_embedding_dim,\n",
        "      reaction_fingerprint_dim=reaction_fingerprint_dim,\n",
        "      hidden_dim=hidden_dim,\n",
        "      final_out_dim=final_out_dim\n",
        "  )\n",
        "\n",
        "  combined_model = combined_model.to(device)\n",
        "\n",
        "  optimizer = torch.optim.Adam(combined_model.parameters(), lr=0.0005, weight_decay=0.003)\n",
        "  return combined_model, optimizer"
      ],
      "metadata": {
        "id": "pmDhMU_7_ZDZ"
      },
      "execution_count": null,
      "outputs": []
    },
    {
      "cell_type": "code",
      "source": [
        "results = []\n",
        "for i in range(10):\n",
        "  combined_model, optimizer = get_default_models()\n",
        "  trained_model, r2 = train_model(train_data_loader, test_data_loader, device, combined_model, optimizer, model_type='protein', epochs=18, print_out=False)\n",
        "  results.append(r2)"
      ],
      "metadata": {
        "id": "M4aGnt_r_sjL"
      },
      "execution_count": null,
      "outputs": []
    },
    {
      "cell_type": "code",
      "source": [
        "import statistics\n",
        "print(\"10 times avg test results\")\n",
        "print(\"Mean:\", statistics.mean(results))\n",
        "print(\"Standard Deviation: \", statistics.stdev(results))"
      ],
      "metadata": {
        "colab": {
          "base_uri": "https://localhost:8080/"
        },
        "id": "spVcoZ3RAE5y",
        "outputId": "9eab0e95-7f39-4a04-cbd7-ae3df96c9659"
      },
      "execution_count": null,
      "outputs": [
        {
          "output_type": "stream",
          "name": "stdout",
          "text": [
            "10 times avg test results\n",
            "Mean: 0.36103948371481903\n",
            "Standard Deviation:  0.008614181086406068\n"
          ]
        }
      ]
    },
    {
      "cell_type": "code",
      "source": [
        "results"
      ],
      "metadata": {
        "colab": {
          "base_uri": "https://localhost:8080/"
        },
        "id": "Nk0i8OBtDTKr",
        "outputId": "716cff44-d036-40c4-807d-13956a0bf246"
      },
      "execution_count": null,
      "outputs": [
        {
          "output_type": "execute_result",
          "data": {
            "text/plain": [
              "[0.36783607389275164,\n",
              " 0.3673240663913443,\n",
              " 0.3687253932532344,\n",
              " 0.3527327961576575,\n",
              " 0.35880794496500057,\n",
              " 0.3571444505862075,\n",
              " 0.3593169417786767,\n",
              " 0.3737884049601613,\n",
              " 0.3446869756006661,\n",
              " 0.3600317895624905]"
            ]
          },
          "metadata": {},
          "execution_count": 23
        }
      ]
    }
  ],
  "metadata": {
    "accelerator": "GPU",
    "colab": {
      "gpuType": "T4",
      "provenance": []
    },
    "kernelspec": {
      "display_name": "Python 3",
      "name": "python3"
    },
    "language_info": {
      "name": "python"
    }
  },
  "nbformat": 4,
  "nbformat_minor": 0
}