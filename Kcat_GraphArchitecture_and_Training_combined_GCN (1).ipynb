{
  "cells": [
    {
      "cell_type": "code",
      "execution_count": null,
      "metadata": {
        "colab": {
          "base_uri": "https://localhost:8080/"
        },
        "id": "XSoKRi4mQSpb",
        "outputId": "5fab8452-2b8e-4b41-eb74-c63ea89e0a01"
      },
      "outputs": [
        {
          "name": "stdout",
          "output_type": "stream",
          "text": [
            "Collecting rdkit\n",
            "  Downloading rdkit-2024.3.5-cp310-cp310-manylinux_2_28_x86_64.whl.metadata (3.9 kB)\n",
            "Requirement already satisfied: numpy in /usr/local/lib/python3.10/dist-packages (from rdkit) (1.26.4)\n",
            "Requirement already satisfied: Pillow in /usr/local/lib/python3.10/dist-packages (from rdkit) (9.4.0)\n",
            "Downloading rdkit-2024.3.5-cp310-cp310-manylinux_2_28_x86_64.whl (33.1 MB)\n",
            "\u001b[2K   \u001b[90m━━━━━━━━━━━━━━━━━━━━━━━━━━━━━━━━━━━━━━━━\u001b[0m \u001b[32m33.1/33.1 MB\u001b[0m \u001b[31m16.5 MB/s\u001b[0m eta \u001b[36m0:00:00\u001b[0m\n",
            "\u001b[?25hInstalling collected packages: rdkit\n",
            "Successfully installed rdkit-2024.3.5\n",
            "Collecting torch_geometric\n",
            "  Downloading torch_geometric-2.5.3-py3-none-any.whl.metadata (64 kB)\n",
            "\u001b[2K     \u001b[90m━━━━━━━━━━━━━━━━━━━━━━━━━━━━━━━━━━━━━━━━\u001b[0m \u001b[32m64.2/64.2 kB\u001b[0m \u001b[31m2.5 MB/s\u001b[0m eta \u001b[36m0:00:00\u001b[0m\n",
            "\u001b[?25hRequirement already satisfied: tqdm in /usr/local/lib/python3.10/dist-packages (from torch_geometric) (4.66.5)\n",
            "Requirement already satisfied: numpy in /usr/local/lib/python3.10/dist-packages (from torch_geometric) (1.26.4)\n",
            "Requirement already satisfied: scipy in /usr/local/lib/python3.10/dist-packages (from torch_geometric) (1.13.1)\n",
            "Requirement already satisfied: fsspec in /usr/local/lib/python3.10/dist-packages (from torch_geometric) (2024.6.1)\n",
            "Requirement already satisfied: jinja2 in /usr/local/lib/python3.10/dist-packages (from torch_geometric) (3.1.4)\n",
            "Requirement already satisfied: aiohttp in /usr/local/lib/python3.10/dist-packages (from torch_geometric) (3.10.3)\n",
            "Requirement already satisfied: requests in /usr/local/lib/python3.10/dist-packages (from torch_geometric) (2.32.3)\n",
            "Requirement already satisfied: pyparsing in /usr/local/lib/python3.10/dist-packages (from torch_geometric) (3.1.2)\n",
            "Requirement already satisfied: scikit-learn in /usr/local/lib/python3.10/dist-packages (from torch_geometric) (1.3.2)\n",
            "Requirement already satisfied: psutil>=5.8.0 in /usr/local/lib/python3.10/dist-packages (from torch_geometric) (5.9.5)\n",
            "Requirement already satisfied: aiohappyeyeballs>=2.3.0 in /usr/local/lib/python3.10/dist-packages (from aiohttp->torch_geometric) (2.3.5)\n",
            "Requirement already satisfied: aiosignal>=1.1.2 in /usr/local/lib/python3.10/dist-packages (from aiohttp->torch_geometric) (1.3.1)\n",
            "Requirement already satisfied: attrs>=17.3.0 in /usr/local/lib/python3.10/dist-packages (from aiohttp->torch_geometric) (24.2.0)\n",
            "Requirement already satisfied: frozenlist>=1.1.1 in /usr/local/lib/python3.10/dist-packages (from aiohttp->torch_geometric) (1.4.1)\n",
            "Requirement already satisfied: multidict<7.0,>=4.5 in /usr/local/lib/python3.10/dist-packages (from aiohttp->torch_geometric) (6.0.5)\n",
            "Requirement already satisfied: yarl<2.0,>=1.0 in /usr/local/lib/python3.10/dist-packages (from aiohttp->torch_geometric) (1.9.4)\n",
            "Requirement already satisfied: async-timeout<5.0,>=4.0 in /usr/local/lib/python3.10/dist-packages (from aiohttp->torch_geometric) (4.0.3)\n",
            "Requirement already satisfied: MarkupSafe>=2.0 in /usr/local/lib/python3.10/dist-packages (from jinja2->torch_geometric) (2.1.5)\n",
            "Requirement already satisfied: charset-normalizer<4,>=2 in /usr/local/lib/python3.10/dist-packages (from requests->torch_geometric) (3.3.2)\n",
            "Requirement already satisfied: idna<4,>=2.5 in /usr/local/lib/python3.10/dist-packages (from requests->torch_geometric) (3.7)\n",
            "Requirement already satisfied: urllib3<3,>=1.21.1 in /usr/local/lib/python3.10/dist-packages (from requests->torch_geometric) (2.0.7)\n",
            "Requirement already satisfied: certifi>=2017.4.17 in /usr/local/lib/python3.10/dist-packages (from requests->torch_geometric) (2024.7.4)\n",
            "Requirement already satisfied: joblib>=1.1.1 in /usr/local/lib/python3.10/dist-packages (from scikit-learn->torch_geometric) (1.4.2)\n",
            "Requirement already satisfied: threadpoolctl>=2.0.0 in /usr/local/lib/python3.10/dist-packages (from scikit-learn->torch_geometric) (3.5.0)\n",
            "Downloading torch_geometric-2.5.3-py3-none-any.whl (1.1 MB)\n",
            "\u001b[2K   \u001b[90m━━━━━━━━━━━━━━━━━━━━━━━━━━━━━━━━━━━━━━━━\u001b[0m \u001b[32m1.1/1.1 MB\u001b[0m \u001b[31m31.4 MB/s\u001b[0m eta \u001b[36m0:00:00\u001b[0m\n",
            "\u001b[?25hInstalling collected packages: torch_geometric\n",
            "Successfully installed torch_geometric-2.5.3\n",
            "Requirement already satisfied: transformers in /usr/local/lib/python3.10/dist-packages (4.42.4)\n",
            "Requirement already satisfied: filelock in /usr/local/lib/python3.10/dist-packages (from transformers) (3.15.4)\n",
            "Requirement already satisfied: huggingface-hub<1.0,>=0.23.2 in /usr/local/lib/python3.10/dist-packages (from transformers) (0.23.5)\n",
            "Requirement already satisfied: numpy<2.0,>=1.17 in /usr/local/lib/python3.10/dist-packages (from transformers) (1.26.4)\n",
            "Requirement already satisfied: packaging>=20.0 in /usr/local/lib/python3.10/dist-packages (from transformers) (24.1)\n",
            "Requirement already satisfied: pyyaml>=5.1 in /usr/local/lib/python3.10/dist-packages (from transformers) (6.0.2)\n",
            "Requirement already satisfied: regex!=2019.12.17 in /usr/local/lib/python3.10/dist-packages (from transformers) (2024.5.15)\n",
            "Requirement already satisfied: requests in /usr/local/lib/python3.10/dist-packages (from transformers) (2.32.3)\n",
            "Requirement already satisfied: safetensors>=0.4.1 in /usr/local/lib/python3.10/dist-packages (from transformers) (0.4.4)\n",
            "Requirement already satisfied: tokenizers<0.20,>=0.19 in /usr/local/lib/python3.10/dist-packages (from transformers) (0.19.1)\n",
            "Requirement already satisfied: tqdm>=4.27 in /usr/local/lib/python3.10/dist-packages (from transformers) (4.66.5)\n",
            "Requirement already satisfied: fsspec>=2023.5.0 in /usr/local/lib/python3.10/dist-packages (from huggingface-hub<1.0,>=0.23.2->transformers) (2024.6.1)\n",
            "Requirement already satisfied: typing-extensions>=3.7.4.3 in /usr/local/lib/python3.10/dist-packages (from huggingface-hub<1.0,>=0.23.2->transformers) (4.12.2)\n",
            "Requirement already satisfied: charset-normalizer<4,>=2 in /usr/local/lib/python3.10/dist-packages (from requests->transformers) (3.3.2)\n",
            "Requirement already satisfied: idna<4,>=2.5 in /usr/local/lib/python3.10/dist-packages (from requests->transformers) (3.7)\n",
            "Requirement already satisfied: urllib3<3,>=1.21.1 in /usr/local/lib/python3.10/dist-packages (from requests->transformers) (2.0.7)\n",
            "Requirement already satisfied: certifi>=2017.4.17 in /usr/local/lib/python3.10/dist-packages (from requests->transformers) (2024.7.4)\n",
            "Collecting biopython\n",
            "  Downloading biopython-1.84-cp310-cp310-manylinux_2_17_x86_64.manylinux2014_x86_64.whl.metadata (12 kB)\n",
            "Requirement already satisfied: numpy in /usr/local/lib/python3.10/dist-packages (from biopython) (1.26.4)\n",
            "Downloading biopython-1.84-cp310-cp310-manylinux_2_17_x86_64.manylinux2014_x86_64.whl (3.2 MB)\n",
            "\u001b[2K   \u001b[90m━━━━━━━━━━━━━━━━━━━━━━━━━━━━━━━━━━━━━━━━\u001b[0m \u001b[32m3.2/3.2 MB\u001b[0m \u001b[31m43.7 MB/s\u001b[0m eta \u001b[36m0:00:00\u001b[0m\n",
            "\u001b[?25hInstalling collected packages: biopython\n",
            "Successfully installed biopython-1.84\n",
            "Requirement already satisfied: numpy in /usr/local/lib/python3.10/dist-packages (1.26.4)\n",
            "Collecting suds\n",
            "  Downloading suds-1.1.2-py3-none-any.whl.metadata (1.7 kB)\n",
            "Downloading suds-1.1.2-py3-none-any.whl (144 kB)\n",
            "\u001b[2K   \u001b[90m━━━━━━━━━━━━━━━━━━━━━━━━━━━━━━━━━━━━━━━━\u001b[0m \u001b[32m144.8/144.8 kB\u001b[0m \u001b[31m7.4 MB/s\u001b[0m eta \u001b[36m0:00:00\u001b[0m\n",
            "\u001b[?25hInstalling collected packages: suds\n",
            "Successfully installed suds-1.1.2\n"
          ]
        }
      ],
      "source": [
        "! pip install rdkit\n",
        "! pip install torch_geometric\n",
        "! pip install transformers\n",
        "! pip install biopython\n",
        "! pip install numpy\n",
        "! pip install suds"
      ]
    },
    {
      "cell_type": "markdown",
      "source": [
        "# Imports"
      ],
      "metadata": {
        "id": "WJYRdCX-mmKZ"
      }
    },
    {
      "cell_type": "code",
      "execution_count": null,
      "metadata": {
        "id": "R9Hq4v56QZIy"
      },
      "outputs": [],
      "source": [
        "import pandas as pd\n",
        "from os.path import join\n",
        "import torch\n",
        "import torch.nn.functional as F\n",
        "from torch_geometric.nn import GCNConv, global_mean_pool\n",
        "from torch_geometric.nn import GATConv, global_mean_pool\n",
        "from torch_geometric.data import Data, DataLoader\n",
        "from rdkit import Chem\n",
        "import rdkit\n",
        "from rdkit.Chem import AllChem\n",
        "from Bio.PDB import PDBList, PDBParser\n",
        "import numpy as np\n",
        "import requests\n",
        "from sklearn.metrics import r2_score\n",
        "import pickle\n",
        "import torch\n",
        "import networkx as nx\n",
        "import numpy as np\n",
        "from Bio.PDB import PDBParser, PDBList, NeighborSearch\n",
        "from torch_geometric.data import Data\n",
        "from scipy.spatial import KDTree\n",
        "import logging\n",
        "import torch\n",
        "import torch.nn.functional as F\n",
        "from torch_geometric.nn import GCNConv, global_mean_pool\n",
        "from torch_geometric.data import DataLoader, Data\n",
        "from torch_geometric.utils import to_networkx\n",
        "import networkx as nx\n",
        "from sklearn.metrics import r2_score\n",
        "import matplotlib.pyplot as plt\n",
        "# Define your inchi_to_graph function here\n",
        "# and any other necessary functions or imports\n"
      ]
    },
    {
      "cell_type": "code",
      "execution_count": null,
      "metadata": {
        "id": "DWrehcMXKo1E"
      },
      "outputs": [],
      "source": [
        "import warnings\n",
        "warnings.filterwarnings('ignore')"
      ]
    },
    {
      "cell_type": "code",
      "execution_count": null,
      "metadata": {
        "colab": {
          "base_uri": "https://localhost:8080/"
        },
        "id": "N5SIGKnuQeh_",
        "outputId": "b5cfe806-7a12-412a-af64-882dd73d8c3b"
      },
      "outputs": [
        {
          "name": "stdout",
          "output_type": "stream",
          "text": [
            "Mounted at /content/drive\n"
          ]
        }
      ],
      "source": [
        "from google.colab import drive\n",
        "drive.mount('/content/drive')"
      ]
    },
    {
      "cell_type": "markdown",
      "source": [
        "# Importing files from Google Drive"
      ],
      "metadata": {
        "id": "dDooDQ5umpUR"
      }
    },
    {
      "cell_type": "code",
      "execution_count": null,
      "metadata": {
        "id": "jtINTAASRCun"
      },
      "outputs": [],
      "source": [
        "# Generate numbers from 200 to 3400 with a step of 200\n",
        "data_train = []\n",
        "# numbers = list(range(200, 3401, 200))\n",
        "numbers = list(range(200, 3401, 200))\n",
        "for number in numbers:\n",
        "\n",
        "  file_path = '/content/drive/My Drive/kcat_minidatasets/trainNew' + str(number) + '.pkl'\n",
        "  # Load the list from the specified file\n",
        "  with open(file_path, 'rb') as file:\n",
        "      data= pickle.load(file)\n",
        "\n",
        "  data_train = data_train + data"
      ]
    },
    {
      "cell_type": "code",
      "execution_count": null,
      "metadata": {
        "colab": {
          "base_uri": "https://localhost:8080/"
        },
        "id": "4eb_f7sfRsZg",
        "outputId": "91d383c9-810a-4432-9743-21ebb4abbe42"
      },
      "outputs": [
        {
          "data": {
            "text/plain": [
              "3417"
            ]
          },
          "execution_count": 6,
          "metadata": {},
          "output_type": "execute_result"
        }
      ],
      "source": [
        "len(data_train)"
      ]
    },
    {
      "cell_type": "code",
      "execution_count": null,
      "metadata": {
        "colab": {
          "base_uri": "https://localhost:8080/"
        },
        "id": "LhsL0HblDoPK",
        "outputId": "bb36e409-42de-49af-f6b7-26ffb902d7ae"
      },
      "outputs": [
        {
          "data": {
            "text/plain": [
              "Data(x=[4, 26], edge_index=[2, 8], edge_attr=[8, 1])"
            ]
          },
          "execution_count": 7,
          "metadata": {},
          "output_type": "execute_result"
        }
      ],
      "source": [
        "def create_default_protein_graph():\n",
        "    \"\"\"Create a default protein graph with predefined nodes and edges.\"\"\"\n",
        "    graph = nx.Graph()\n",
        "    # Define a few nodes with arbitrary features\n",
        "    default_features = [\n",
        "        [1] * 20 + [1.8, 8.1, 0, 0, 0, 0],  # Node 0 (ALA)\n",
        "        [0] * 20 + [2.5, 5.5, 0, 1, 1, 1],  # Node 1 (CYS)\n",
        "        [0] * 20 + [-3.5, 13.0, -1, 2, 2, 2],  # Node 2 (ASP)\n",
        "        [0] * 20 + [4.5, 5.2, 0, 3, 3, 3]  # Node 3 (ILE)\n",
        "    ]\n",
        "    for idx, features in enumerate(default_features):\n",
        "        graph.add_node(idx, feature=features)\n",
        "\n",
        "    # Add some edges with arbitrary distances\n",
        "    graph.add_edge(0, 1, weight=4.0)\n",
        "    graph.add_edge(1, 2, weight=5.0)\n",
        "    graph.add_edge(2, 3, weight=6.0)\n",
        "    graph.add_edge(3, 0, weight=4.5)\n",
        "\n",
        "    return graph_to_pyg_data(graph)\n",
        "\n",
        "def graph_to_pyg_data(graph):\n",
        "    try:\n",
        "        node_features = [data['feature'] for _, data in graph.nodes(data=True)]\n",
        "        x = torch.tensor(node_features, dtype=torch.float)\n",
        "\n",
        "        edge_index = []\n",
        "        edge_attr = []\n",
        "        for edge in graph.edges(data=True):\n",
        "            edge_index.append([edge[0], edge[1]])\n",
        "            edge_index.append([edge[1], edge[0]])\n",
        "            edge_attr.append([edge[2]['weight']])\n",
        "            edge_attr.append([edge[2]['weight']])\n",
        "\n",
        "        edge_index = torch.tensor(edge_index, dtype=torch.long).t().contiguous()\n",
        "        edge_attr = torch.tensor(edge_attr, dtype=torch.float)\n",
        "\n",
        "        data = Data(x=x, edge_index=edge_index, edge_attr=edge_attr)\n",
        "        return data\n",
        "\n",
        "    except Exception as e:\n",
        "        logging.error(f\"Error converting graph to PyG data: {e}\")\n",
        "        return None\n",
        "x = create_default_protein_graph()\n",
        "x"
      ]
    },
    {
      "cell_type": "code",
      "execution_count": null,
      "metadata": {
        "id": "4yvU3qnRVSWr"
      },
      "outputs": [],
      "source": [
        "cleaned_data = []\n",
        "for item in data_train:\n",
        "\n",
        "  if item['protein_graph'] is None:\n",
        "    # print(item['aggregated_substrate_graph'], item['aggregated_product_graph'], item['protein_graph'])\n",
        "    item['protein_graph'] = create_default_protein_graph()\n",
        "    cleaned_data.append(item)\n",
        "\n",
        "  else:\n",
        "    cleaned_data.append(item)\n",
        "\n",
        "cleaned_complete_data_train = []\n",
        "for item in cleaned_data:\n",
        "  # if item['aggregated_substrate_graph'].edge_index.shape[1] == 12:\n",
        "  if item['protein_graph'].edge_index.shape == torch.Size([0]):\n",
        "    item['protein_graph'] = create_default_protein_graph()\n",
        "    cleaned_data.append(item)\n",
        "\n",
        "  else:\n",
        "    cleaned_complete_data_train.append(item)"
      ]
    },
    {
      "cell_type": "code",
      "execution_count": null,
      "metadata": {
        "colab": {
          "base_uri": "https://localhost:8080/"
        },
        "id": "Nyrxtwt0VUnp",
        "outputId": "ea6cbbd4-030f-4373-afb8-402fd3a8cc0e"
      },
      "outputs": [
        {
          "data": {
            "text/plain": [
              "3417"
            ]
          },
          "execution_count": 9,
          "metadata": {},
          "output_type": "execute_result"
        }
      ],
      "source": [
        "len(cleaned_complete_data_train)"
      ]
    },
    {
      "cell_type": "code",
      "execution_count": null,
      "metadata": {
        "id": "TsXAoPmBFwWz"
      },
      "outputs": [],
      "source": [
        "# Generate numbers from 200 to 3400 with a step of 200\n",
        "data_test = []\n",
        "# numbers = list(range(200, 3401, 200))\n",
        "numbers = list(range(200, 801, 200))\n",
        "for number in numbers:\n",
        "\n",
        "  file_path = '/content/drive/My Drive/kcat_minidatasets/testNew' + str(number) + '.pkl'\n",
        "  # Load the list from the specified file\n",
        "  with open(file_path, 'rb') as file:\n",
        "      data= pickle.load(file)\n",
        "\n",
        "  data_test = data_test + data\n",
        "\n",
        "file_path = '/content/drive/My Drive/kcat_minidatasets/testNew849.pkl'\n",
        "  # Load the list from the specified file\n",
        "with open(file_path, 'rb') as file:\n",
        "    data= pickle.load(file)\n",
        "\n",
        "data_test = data_test + data\n",
        "\n",
        "cleaned_data = []\n",
        "for item in data_test:\n",
        "\n",
        "  if item['protein_graph'] is None:\n",
        "    # print(item['aggregated_substrate_graph'], item['aggregated_product_graph'], item['protein_graph'])\n",
        "    item['protein_graph'] = create_default_protein_graph()\n",
        "    cleaned_data.append(item)\n",
        "\n",
        "  else:\n",
        "    cleaned_data.append(item)\n",
        "\n",
        "cleaned_complete_data_test = []\n",
        "for item in cleaned_data:\n",
        "  # if item['aggregated_substrate_graph'].edge_index.shape[1] == 12:\n",
        "  if item['protein_graph'].edge_index.shape == torch.Size([0]):\n",
        "    item['protein_graph'] = create_default_protein_graph()\n",
        "    cleaned_data.append(item)\n",
        "\n",
        "  else:\n",
        "    cleaned_complete_data_test.append(item)"
      ]
    },
    {
      "cell_type": "code",
      "execution_count": null,
      "metadata": {
        "id": "ZzpTe3ReVfu5"
      },
      "outputs": [],
      "source": [
        "# Check if GPU is available\n",
        "\n",
        "device = torch.device('cuda' if torch.cuda.is_available() else 'cpu')"
      ]
    },
    {
      "cell_type": "markdown",
      "source": [
        "# Pytorch datasets"
      ],
      "metadata": {
        "id": "Cn6C1aU1muaT"
      }
    },
    {
      "cell_type": "code",
      "execution_count": null,
      "metadata": {
        "id": "IZL6Vkl5VOHb"
      },
      "outputs": [],
      "source": [
        "import torch\n",
        "from torch_geometric.data import Data, Batch\n",
        "from torch_geometric.loader import DataLoader\n",
        "from torch.utils.data import Dataset\n",
        "from sklearn.model_selection import train_test_split\n",
        "\n",
        "class KcatDataset(Dataset):\n",
        "    def __init__(self, data_list, device):\n",
        "        self.data_list = data_list\n",
        "        self.device = device\n",
        "\n",
        "    def __len__(self):\n",
        "        return len(self.data_list)\n",
        "\n",
        "    def __getitem__(self, idx):\n",
        "        # combined_data = self.data_list[idx]['combined']\n",
        "        combined_data = self.data_list[idx]['aggregated_substrate_graph']\n",
        "        protein_data = self.data_list[idx]['protein_graph']\n",
        "        log10_kcat = self.data_list[idx]['log10_kcat']\n",
        "        protein_embedding = self.data_list[idx]['esm_embedding']\n",
        "        fingerprint = self.data_list[idx]['fingerprint'][0]\n",
        "\n",
        "        # Move data to the device\n",
        "        combined_data = combined_data.to(self.device)\n",
        "        protein_data = protein_data.to(self.device)\n",
        "        protein_embedding = torch.tensor(protein_embedding).to(self.device)\n",
        "        fingerprint = torch.tensor(fingerprint).to(self.device)\n",
        "\n",
        "        return combined_data, protein_data, protein_embedding, fingerprint, log10_kcat\n",
        "\n",
        "\n",
        "# data = cleaned_complete_data_train + cleaned_complete_data_test\n",
        "# data_train, data_test = train_test_split(data, test_size=0.1,)\n",
        "\n",
        "train_kcat_dataset = KcatDataset(cleaned_complete_data_train, device)\n",
        "test_kcat_dataset = KcatDataset(cleaned_complete_data_test, device)\n",
        "\n",
        "train_data_loader = DataLoader(train_kcat_dataset, batch_size=64, shuffle=True)\n",
        "test_data_loader = DataLoader(test_kcat_dataset, batch_size=64)\n",
        "test_data_loader_big = DataLoader(test_kcat_dataset, batch_size=854)\n",
        "\n"
      ]
    },
    {
      "cell_type": "code",
      "execution_count": null,
      "metadata": {
        "colab": {
          "base_uri": "https://localhost:8080/"
        },
        "id": "aViqollWNrjb",
        "outputId": "433ad5de-7c91-4972-d5c3-bc6770cf5cd9"
      },
      "outputs": [
        {
          "data": {
            "text/plain": [
              "(1280,)"
            ]
          },
          "execution_count": 13,
          "metadata": {},
          "output_type": "execute_result"
        }
      ],
      "source": [
        "cleaned_complete_data_train[100]['esm_embedding'].shape"
      ]
    },
    {
      "cell_type": "markdown",
      "source": [
        "# Combined GCN Architecture"
      ],
      "metadata": {
        "id": "J12P-5cLmxhF"
      }
    },
    {
      "cell_type": "code",
      "execution_count": null,
      "metadata": {
        "id": "DoxArgt43_AJ"
      },
      "outputs": [],
      "source": [
        "import torch\n",
        "import torch.nn as nn\n",
        "import torch.nn.functional as F\n",
        "from torch_geometric.nn import GCNConv, global_mean_pool\n",
        "from torch_geometric.data import Batch\n",
        "\n",
        "class GCNSection(nn.Module):\n",
        "    def __init__(self, in_channels, out_channels):\n",
        "        super(GCNSection, self).__init__()\n",
        "        self.gcn1 = GCNConv(in_channels, out_channels)\n",
        "        self.gcn2 = GCNConv(out_channels, out_channels)\n",
        "        self.gcn3 = GCNConv(out_channels, out_channels)\n",
        "\n",
        "    def forward(self, x, edge_index, batch):\n",
        "        x = F.elu(self.gcn1(x, edge_index))\n",
        "        x = F.dropout(x, p=0.3, training=self.training)\n",
        "        x = F.elu(self.gcn2(x, edge_index))\n",
        "        x = F.dropout(x, p=0.3, training=self.training)\n",
        "        x = self.gcn3(x, edge_index)\n",
        "        x = global_mean_pool(x, batch)  # Pooling to get batch-wise embeddings\n",
        "        return x\n",
        "\n",
        "class ProteinGCNModel(nn.Module):\n",
        "    def __init__(self, in_channels, out_channels):\n",
        "        super(ProteinGCNModel, self).__init__()\n",
        "        self.protein_gcn = GCNSection(in_channels, out_channels)\n",
        "\n",
        "    def forward(self, protein_data):\n",
        "        protein_x, protein_edge_index, protein_batch = protein_data.x, protein_data.edge_index, protein_data.batch\n",
        "        protein_embedding = self.protein_gcn(protein_x, protein_edge_index, protein_batch)\n",
        "        return protein_embedding\n",
        "\n",
        "class SubstrateGCNModel(nn.Module):\n",
        "    def __init__(self, in_channels, out_channels):\n",
        "        super(SubstrateGCNModel, self).__init__()\n",
        "        self.substrate_gcn = GCNSection(in_channels, out_channels)\n",
        "\n",
        "    def forward(self, substrate_data):\n",
        "        substrate_x, substrate_edge_index, substrate_batch = substrate_data.x, substrate_data.edge_index, substrate_data.batch\n",
        "        substrate_embedding = self.substrate_gcn(substrate_x, substrate_edge_index, substrate_batch)\n",
        "        return substrate_embedding\n",
        "\n",
        "\n",
        "class CombinedModel(nn.Module):\n",
        "    def __init__(self, protein_in_channels, substrate_in_channels, esm_embedding_dim, substrate_embedding_dim, reaction_fingerprint_dim, hidden_dim, final_out_dim):\n",
        "        super(CombinedModel, self).__init__()\n",
        "        self.protein_gcn_model = ProteinGCNModel(protein_in_channels, hidden_dim)\n",
        "        self.substrate_gcn_model = SubstrateGCNModel(substrate_in_channels, hidden_dim)\n",
        "\n",
        "        # Calculate the correct combined dimension\n",
        "        combined_dim = 3584#hidden_dim + hidden_dim + esm_embedding_dim + reaction_fingerprint_dim + substrate_embedding_dim\n",
        "        # print(combined_dim)\n",
        "        # Ensure the fc1 layer takes the correct input dimension\n",
        "        self.fc1 = nn.Linear(combined_dim, hidden_dim)\n",
        "        self.fc2 = nn.Linear(hidden_dim, hidden_dim)\n",
        "        self.fc3 = nn.Linear(hidden_dim, final_out_dim)\n",
        "        self.dropout = nn.Dropout(0.2)\n",
        "\n",
        "    def forward(self, protein_data, substrate_data, esm_embeddings, reaction_fingerprint):\n",
        "        # Get embeddings from both GNNs\n",
        "        protein_embedding = self.protein_gcn_model(protein_data)\n",
        "        substrate_embedding = self.substrate_gcn_model(substrate_data)\n",
        "\n",
        "        # Ensure esm_embeddings and reaction_fingerprint are batch-wise and match the batch size\n",
        "        if esm_embeddings.dim() == 2 and esm_embeddings.size(0) == protein_embedding.size(0) == substrate_embedding.size(0):\n",
        "            # Concatenate embeddings correctly\n",
        "            combined_embedding = torch.cat([protein_embedding, substrate_embedding, esm_embeddings, reaction_fingerprint], dim=-1)\n",
        "        else:\n",
        "            raise ValueError(\"Mismatch in batch size between embeddings and data\")\n",
        "\n",
        "        # Pass through linear layers\n",
        "        # print(combined_embedding.shape)\n",
        "        x = F.relu(self.fc1(combined_embedding))\n",
        "        x = F.relu(self.fc2(x))\n",
        "        x = self.dropout(x)\n",
        "        x = self.fc3(x)\n",
        "        return x\n",
        "\n",
        "# Define input parameters\n",
        "protein_in_channels = 26  # Example input channel size for proteins\n",
        "substrate_in_channels = 6  # Example input channel size for substrates\n",
        "hidden_dim = 128  # Hidden dimension for the GCN and linear layers\n",
        "esm_embedding_dim = 1280  # ESM embedding dimension for proteins\n",
        "substrate_embedding_dim = 2048  # Embedding dimension for substrates\n",
        "reaction_fingerprint_dim = 512  # Example dimension for reaction fingerprints\n",
        "final_out_dim = 1  # Final output dimension\n",
        "\n",
        "# Create an instance of the combined model\n",
        "combined_model = CombinedModel(\n",
        "    protein_in_channels=protein_in_channels,\n",
        "    substrate_in_channels=substrate_in_channels,\n",
        "    esm_embedding_dim=esm_embedding_dim,\n",
        "    substrate_embedding_dim=substrate_embedding_dim,\n",
        "    reaction_fingerprint_dim=reaction_fingerprint_dim,\n",
        "    hidden_dim=hidden_dim,\n",
        "    final_out_dim=final_out_dim\n",
        ")\n",
        "\n",
        "combined_model = combined_model.to(device)\n",
        "\n",
        "optimizer = torch.optim.Adam(combined_model.parameters(), lr=0.0005, weight_decay=0.003)\n"
      ]
    },
    {
      "cell_type": "code",
      "execution_count": null,
      "metadata": {
        "colab": {
          "base_uri": "https://localhost:8080/"
        },
        "id": "QTT9Iqpn9z7m",
        "outputId": "829549ba-2c25-43e0-f452-a27e571d763a"
      },
      "outputs": [
        {
          "data": {
            "text/plain": [
              "(3417, 854)"
            ]
          },
          "execution_count": 15,
          "metadata": {},
          "output_type": "execute_result"
        }
      ],
      "source": [
        "len(cleaned_complete_data_train), len(cleaned_complete_data_test)"
      ]
    },
    {
      "cell_type": "code",
      "execution_count": null,
      "metadata": {
        "id": "r9Vyy6S0Gqik"
      },
      "outputs": [],
      "source": [
        "\n",
        "# Example instantiation of the model\n",
        "device = torch.device('cuda' if torch.cuda.is_available() else 'cpu')\n",
        "\n",
        "\n",
        "def plot_loss(train_scores, test_scores):\n",
        "    plt.figure()\n",
        "    plt.plot(train_scores, label='Train Loss')\n",
        "    plt.plot(test_scores, label='Test Loss')\n",
        "    plt.xlabel('Epochs')\n",
        "    plt.ylabel('Loss')\n",
        "    plt.legend()\n",
        "    plt.show()\n",
        "\n",
        "def plot_r2(train_r2, test_r2):\n",
        "    plt.figure()\n",
        "    plt.plot(train_r2, label='Train R2 Score')\n",
        "    plt.plot(test_r2, label='Test R2 Score')\n",
        "    plt.xlabel('Epochs')\n",
        "    plt.ylabel('R2 Score')\n",
        "    plt.legend()\n",
        "    plt.show()\n",
        "\n",
        "\n"
      ]
    },
    {
      "cell_type": "markdown",
      "source": [
        "# Training function"
      ],
      "metadata": {
        "id": "TsXOc2p8m2WS"
      }
    },
    {
      "cell_type": "code",
      "execution_count": null,
      "metadata": {
        "id": "kyXdFBLO5Y4P"
      },
      "outputs": [],
      "source": [
        "import copy\n",
        "\n",
        "def train_model(train_data_loader, test_data_loader, device, model, optimizer, model_type, epochs, print_out=True):\n",
        "    train_scores = []\n",
        "    test_scores = []\n",
        "    test_r2_score = []\n",
        "    train_r2_score = []\n",
        "    best_test_loss = float('inf')\n",
        "    best_test_r2 = -1000\n",
        "    best_model_state = None\n",
        "\n",
        "\n",
        "    for epoch in range(epochs):\n",
        "        model.train()\n",
        "        train_total_loss = 0\n",
        "        all_outputs = []\n",
        "        all_targets = []\n",
        "\n",
        "        for mol_batch, prot_batch, esm_embedding, fingerprint, targets in train_data_loader:\n",
        "\n",
        "\n",
        "            targets = torch.tensor(targets).float().unsqueeze(1).to(device)\n",
        "\n",
        "            optimizer.zero_grad()\n",
        "            # protein_data, substrate_data, esm_embeddings, reaction_fingerprint\n",
        "\n",
        "            output = model(prot_batch, mol_batch, esm_embedding, fingerprint.float())\n",
        "\n",
        "\n",
        "            if output is not None:\n",
        "                loss = F.mse_loss(output, targets)\n",
        "                loss.backward()\n",
        "                optimizer.step()\n",
        "                train_total_loss += loss.item()\n",
        "                all_outputs.extend(output.detach().cpu().numpy())\n",
        "                all_targets.extend(targets.detach().cpu().numpy())\n",
        "\n",
        "        r2 = r2_score(all_targets, all_outputs)\n",
        "        train_r2_score.append(r2)\n",
        "        if print_out:\n",
        "          print(f\"Epoch {epoch}, Train Loss: {train_total_loss / len(train_data_loader)}, Train R2: {r2}\")\n",
        "\n",
        "        model.eval()\n",
        "        total_test_loss = 0\n",
        "        all_outputs = []\n",
        "        all_targets = []\n",
        "\n",
        "        with torch.no_grad():\n",
        "            for mol_batch, prot_batch, esm_embedding, fingerprint, targets in test_data_loader:\n",
        "\n",
        "\n",
        "                targets = torch.tensor(targets).float().unsqueeze(1).to(device)\n",
        "\n",
        "                output = model(prot_batch, mol_batch, esm_embedding, fingerprint.float())\n",
        "\n",
        "\n",
        "                if output is not None:\n",
        "                    loss = F.mse_loss(output, targets)\n",
        "                    total_test_loss += loss.item()\n",
        "                    all_outputs.extend(output.cpu().numpy())\n",
        "                    all_targets.extend(targets.cpu().numpy())\n",
        "\n",
        "        average_test_loss = total_test_loss / len(test_data_loader)\n",
        "        test_scores.append(average_test_loss)\n",
        "        if print_out:\n",
        "          print(f\"Epoch {epoch}, Test Loss: {average_test_loss}\")\n",
        "\n",
        "        r2 = r2_score(all_targets, all_outputs)\n",
        "        test_r2_score.append(r2)\n",
        "\n",
        "        if print_out:\n",
        "          print(f\"Epoch {epoch}, Test R2: {r2}\")\n",
        "\n",
        "        if r2 > best_test_r2:\n",
        "            best_test_r2 = r2\n",
        "            best_model_state = copy.deepcopy(model.state_dict())\n",
        "\n",
        "\n",
        "        train_scores.append(train_total_loss / len(train_data_loader))\n",
        "\n",
        "\n",
        "    if best_model_state is not None:\n",
        "        model.load_state_dict(best_model_state)\n",
        "    if print_out:\n",
        "      plot_loss(train_scores, test_scores)\n",
        "      plot_r2(train_r2_score, test_r2_score)\n",
        "      print(\"Best test r2\", best_test_r2)\n",
        "    return model, best_test_r2\n",
        "\n"
      ]
    },
    {
      "cell_type": "code",
      "execution_count": null,
      "metadata": {
        "colab": {
          "base_uri": "https://localhost:8080/",
          "height": 1000
        },
        "id": "kih-jWmfYYOh",
        "outputId": "fdd8c278-0235-4b04-c99b-b36ce2417911"
      },
      "outputs": [
        {
          "name": "stdout",
          "output_type": "stream",
          "text": [
            "Epoch 0, Train Loss: 1.6424154926229406, Train R2: -0.17983680535529323\n",
            "Epoch 0, Test Loss: 1.1679830040250505\n",
            "Epoch 0, Test R2: 0.19379828143943334\n",
            "Epoch 1, Train Loss: 1.1637204885482788, Train R2: 0.16229181232401535\n",
            "Epoch 1, Test Loss: 1.2773489696638924\n",
            "Epoch 1, Test R2: 0.11827227807800511\n",
            "Epoch 2, Train Loss: 1.014736658445111, Train R2: 0.27445435989766287\n",
            "Epoch 2, Test Loss: 1.048461696931294\n",
            "Epoch 2, Test R2: 0.27662670464210226\n",
            "Epoch 3, Train Loss: 0.9707213496720349, Train R2: 0.30438602316536933\n",
            "Epoch 3, Test Loss: 1.0893947780132294\n",
            "Epoch 3, Test R2: 0.24533499942161252\n",
            "Epoch 4, Train Loss: 0.9435175359249115, Train R2: 0.3198571722610486\n",
            "Epoch 4, Test Loss: 0.9399781439985547\n",
            "Epoch 4, Test R2: 0.3459937933539824\n",
            "Epoch 5, Train Loss: 1.1000027728301507, Train R2: 0.20620469510040207\n",
            "Epoch 5, Test Loss: 1.0945505840437753\n",
            "Epoch 5, Test R2: 0.23747180962638703\n",
            "Epoch 6, Train Loss: 0.8756907052463956, Train R2: 0.3884760921986573\n",
            "Epoch 6, Test Loss: 1.1646793527262551\n",
            "Epoch 6, Test R2: 0.1890538023849463\n",
            "Epoch 7, Train Loss: 0.780268833593086, Train R2: 0.43895786302221274\n",
            "Epoch 7, Test Loss: 1.0225748334612166\n",
            "Epoch 7, Test R2: 0.3039830774203549\n",
            "Epoch 8, Train Loss: 0.8303681369181033, Train R2: 0.4039336431267375\n",
            "Epoch 8, Test Loss: 1.0162586867809296\n",
            "Epoch 8, Test R2: 0.2999048437756562\n",
            "Epoch 9, Train Loss: 0.6270164632134967, Train R2: 0.5478235953357213\n",
            "Epoch 9, Test Loss: 0.9596516234534127\n",
            "Epoch 9, Test R2: 0.33346514468159394\n",
            "Epoch 10, Train Loss: 0.5861192571896093, Train R2: 0.5793200346159495\n",
            "Epoch 10, Test Loss: 0.9403523206710815\n",
            "Epoch 10, Test R2: 0.3573043155988401\n",
            "Epoch 11, Train Loss: 0.5335989633092174, Train R2: 0.616125422415837\n",
            "Epoch 11, Test Loss: 0.9475441319601876\n",
            "Epoch 11, Test R2: 0.3507612305247486\n",
            "Epoch 12, Train Loss: 0.5203936146917166, Train R2: 0.6262470655454682\n",
            "Epoch 12, Test Loss: 0.9770818906170982\n",
            "Epoch 12, Test R2: 0.3216525270203099\n",
            "Epoch 13, Train Loss: 0.521872866484854, Train R2: 0.6247484691978975\n",
            "Epoch 13, Test Loss: 0.9678694605827332\n",
            "Epoch 13, Test R2: 0.3266195170603313\n",
            "Epoch 14, Train Loss: 0.47797848339434024, Train R2: 0.6576846635029577\n",
            "Epoch 14, Test Loss: 0.9345801770687103\n",
            "Epoch 14, Test R2: 0.35222602984116325\n",
            "Epoch 15, Train Loss: 0.44477609600181933, Train R2: 0.6802219712944826\n",
            "Epoch 15, Test Loss: 0.9445394447871617\n",
            "Epoch 15, Test R2: 0.34032790429842485\n",
            "Epoch 16, Train Loss: 0.4122319922403053, Train R2: 0.7031075514767018\n",
            "Epoch 16, Test Loss: 0.9587646169321877\n",
            "Epoch 16, Test R2: 0.32982961464927885\n",
            "Epoch 17, Train Loss: 0.3996066274466338, Train R2: 0.7118012783384289\n",
            "Epoch 17, Test Loss: 0.9725623897143773\n",
            "Epoch 17, Test R2: 0.3235926217981493\n",
            "Epoch 18, Train Loss: 0.38051197291524325, Train R2: 0.727406453871792\n",
            "Epoch 18, Test Loss: 0.9611848422459194\n",
            "Epoch 18, Test R2: 0.33259564874674763\n",
            "Epoch 19, Train Loss: 0.3905567579247333, Train R2: 0.7182786156892838\n",
            "Epoch 19, Test Loss: 0.9534194256578173\n",
            "Epoch 19, Test R2: 0.3391295596869893\n",
            "Epoch 20, Train Loss: 0.36740048947157683, Train R2: 0.7355391818101357\n",
            "Epoch 20, Test Loss: 0.9764182439872197\n",
            "Epoch 20, Test R2: 0.3195543367385052\n",
            "Epoch 21, Train Loss: 0.3361301816723965, Train R2: 0.758679308264016\n",
            "Epoch 21, Test Loss: 0.9789253558431353\n",
            "Epoch 21, Test R2: 0.3207587342666599\n",
            "Epoch 22, Train Loss: 0.3472810106145011, Train R2: 0.7509916325334173\n",
            "Epoch 22, Test Loss: 0.9461027639252799\n",
            "Epoch 22, Test R2: 0.3388066640614059\n",
            "Epoch 23, Train Loss: 0.34417511964285813, Train R2: 0.7520668363717875\n",
            "Epoch 23, Test Loss: 0.9763796925544739\n",
            "Epoch 23, Test R2: 0.31854292579995813\n"
          ]
        },
        {
          "data": {
            "image/png": "[encoded data removed]",
            "text/plain": [
              "<Figure size 640x480 with 1 Axes>"
            ]
          },
          "metadata": {},
          "output_type": "display_data"
        },
        {
          "data": {
            "image/png": "[encoded data removed]",
            "text/plain": [
              "<Figure size 640x480 with 1 Axes>"
            ]
          },
          "metadata": {},
          "output_type": "display_data"
        },
        {
          "name": "stdout",
          "output_type": "stream",
          "text": [
            "Best test r2 0.3573043155988401\n"
          ]
        }
      ],
      "source": [
        "# Train protein model\n",
        "trained_model = train_model(train_data_loader, test_data_loader, device, combined_model, optimizer, model_type='protein', epochs=24)\n"
      ]
    },
    {
      "cell_type": "markdown",
      "metadata": {
        "id": "nHetcwdv9mDR"
      },
      "source": [
        "# 10 times avg test"
      ]
    },
    {
      "cell_type": "code",
      "execution_count": null,
      "metadata": {
        "id": "HjJlN5cf9gu0"
      },
      "outputs": [],
      "source": [
        "#  Create an instance of the combined model\n",
        "def get_default_models():\n",
        "  combined_model = CombinedModel(\n",
        "      protein_in_channels=protein_in_channels,\n",
        "      substrate_in_channels=substrate_in_channels,\n",
        "      esm_embedding_dim=esm_embedding_dim,\n",
        "      substrate_embedding_dim=substrate_embedding_dim,\n",
        "      reaction_fingerprint_dim=reaction_fingerprint_dim,\n",
        "      hidden_dim=hidden_dim,\n",
        "      final_out_dim=final_out_dim\n",
        "  )\n",
        "\n",
        "  combined_model = combined_model.to(device)\n",
        "\n",
        "  optimizer = torch.optim.Adam(combined_model.parameters(), lr=0.0005, weight_decay=0.003)\n",
        "  return combined_model, optimizer\n"
      ]
    },
    {
      "cell_type": "markdown",
      "source": [
        "# 10 time average results"
      ],
      "metadata": {
        "id": "fU7lx8uUm67y"
      }
    },
    {
      "cell_type": "code",
      "execution_count": null,
      "metadata": {
        "colab": {
          "background_save": true
        },
        "id": "urHvY_jW96vp"
      },
      "outputs": [],
      "source": [
        "results = []\n",
        "for i in range(10):\n",
        "  combined_model, optimizer = get_default_models()\n",
        "  trained_model, r2 = train_model(train_data_loader, test_data_loader, device, combined_model, optimizer, model_type='protein', epochs=18, print_out=False)\n",
        "  results.append(r2)"
      ]
    },
    {
      "cell_type": "code",
      "execution_count": null,
      "metadata": {
        "colab": {
          "background_save": true
        },
        "id": "BELf5jAb-EME",
        "outputId": "c1f44911-2c2b-4185-ffd4-382bb1bb64eb"
      },
      "outputs": [
        {
          "name": "stdout",
          "output_type": "stream",
          "text": [
            "10 times avg test results\n",
            "Mean: 0.3564345783347676\n",
            "Standard Deviation:  0.008541911606758094\n"
          ]
        }
      ],
      "source": [
        "import statistics\n",
        "print(\"10 times avg test results\")\n",
        "print(\"Mean:\", statistics.mean(results))\n",
        "print(\"Standard Deviation: \", statistics.stdev(results))"
      ]
    }
  ],
  "metadata": {
    "accelerator": "GPU",
    "colab": {
      "gpuType": "T4",
      "provenance": []
    },
    "kernelspec": {
      "display_name": "Python 3",
      "name": "python3"
    },
    "language_info": {
      "name": "python"
    }
  },
  "nbformat": 4,
  "nbformat_minor": 0
}