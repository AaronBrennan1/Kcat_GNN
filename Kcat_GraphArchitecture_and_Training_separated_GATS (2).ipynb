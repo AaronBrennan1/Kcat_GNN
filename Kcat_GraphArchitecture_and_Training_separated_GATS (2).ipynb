{
  "cells": [
    {
      "cell_type": "code",
      "execution_count": null,
      "metadata": {
        "colab": {
          "base_uri": "https://localhost:8080/"
        },
        "id": "XSoKRi4mQSpb",
        "outputId": "f97eb71f-e6af-459e-8478-7ca84ef33479"
      },
      "outputs": [
        {
          "output_type": "stream",
          "name": "stdout",
          "text": [
            "Collecting rdkit\n",
            "  Downloading rdkit-2024.3.5-cp310-cp310-manylinux_2_28_x86_64.whl.metadata (3.9 kB)\n",
            "Requirement already satisfied: numpy in /usr/local/lib/python3.10/dist-packages (from rdkit) (1.26.4)\n",
            "Requirement already satisfied: Pillow in /usr/local/lib/python3.10/dist-packages (from rdkit) (9.4.0)\n",
            "Downloading rdkit-2024.3.5-cp310-cp310-manylinux_2_28_x86_64.whl (33.1 MB)\n",
            "\u001b[2K   \u001b[90m━━━━━━━━━━━━━━━━━━━━━━━━━━━━━━━━━━━━━━━━\u001b[0m \u001b[32m33.1/33.1 MB\u001b[0m \u001b[31m24.8 MB/s\u001b[0m eta \u001b[36m0:00:00\u001b[0m\n",
            "\u001b[?25hInstalling collected packages: rdkit\n",
            "Successfully installed rdkit-2024.3.5\n",
            "Collecting torch_geometric\n",
            "  Downloading torch_geometric-2.5.3-py3-none-any.whl.metadata (64 kB)\n",
            "\u001b[2K     \u001b[90m━━━━━━━━━━━━━━━━━━━━━━━━━━━━━━━━━━━━━━━━\u001b[0m \u001b[32m64.2/64.2 kB\u001b[0m \u001b[31m3.3 MB/s\u001b[0m eta \u001b[36m0:00:00\u001b[0m\n",
            "\u001b[?25hRequirement already satisfied: tqdm in /usr/local/lib/python3.10/dist-packages (from torch_geometric) (4.66.5)\n",
            "Requirement already satisfied: numpy in /usr/local/lib/python3.10/dist-packages (from torch_geometric) (1.26.4)\n",
            "Requirement already satisfied: scipy in /usr/local/lib/python3.10/dist-packages (from torch_geometric) (1.13.1)\n",
            "Requirement already satisfied: fsspec in /usr/local/lib/python3.10/dist-packages (from torch_geometric) (2024.6.1)\n",
            "Requirement already satisfied: jinja2 in /usr/local/lib/python3.10/dist-packages (from torch_geometric) (3.1.4)\n",
            "Requirement already satisfied: aiohttp in /usr/local/lib/python3.10/dist-packages (from torch_geometric) (3.10.3)\n",
            "Requirement already satisfied: requests in /usr/local/lib/python3.10/dist-packages (from torch_geometric) (2.32.3)\n",
            "Requirement already satisfied: pyparsing in /usr/local/lib/python3.10/dist-packages (from torch_geometric) (3.1.2)\n",
            "Requirement already satisfied: scikit-learn in /usr/local/lib/python3.10/dist-packages (from torch_geometric) (1.3.2)\n",
            "Requirement already satisfied: psutil>=5.8.0 in /usr/local/lib/python3.10/dist-packages (from torch_geometric) (5.9.5)\n",
            "Requirement already satisfied: aiohappyeyeballs>=2.3.0 in /usr/local/lib/python3.10/dist-packages (from aiohttp->torch_geometric) (2.3.5)\n",
            "Requirement already satisfied: aiosignal>=1.1.2 in /usr/local/lib/python3.10/dist-packages (from aiohttp->torch_geometric) (1.3.1)\n",
            "Requirement already satisfied: attrs>=17.3.0 in /usr/local/lib/python3.10/dist-packages (from aiohttp->torch_geometric) (24.2.0)\n",
            "Requirement already satisfied: frozenlist>=1.1.1 in /usr/local/lib/python3.10/dist-packages (from aiohttp->torch_geometric) (1.4.1)\n",
            "Requirement already satisfied: multidict<7.0,>=4.5 in /usr/local/lib/python3.10/dist-packages (from aiohttp->torch_geometric) (6.0.5)\n",
            "Requirement already satisfied: yarl<2.0,>=1.0 in /usr/local/lib/python3.10/dist-packages (from aiohttp->torch_geometric) (1.9.4)\n",
            "Requirement already satisfied: async-timeout<5.0,>=4.0 in /usr/local/lib/python3.10/dist-packages (from aiohttp->torch_geometric) (4.0.3)\n",
            "Requirement already satisfied: MarkupSafe>=2.0 in /usr/local/lib/python3.10/dist-packages (from jinja2->torch_geometric) (2.1.5)\n",
            "Requirement already satisfied: charset-normalizer<4,>=2 in /usr/local/lib/python3.10/dist-packages (from requests->torch_geometric) (3.3.2)\n",
            "Requirement already satisfied: idna<4,>=2.5 in /usr/local/lib/python3.10/dist-packages (from requests->torch_geometric) (3.7)\n",
            "Requirement already satisfied: urllib3<3,>=1.21.1 in /usr/local/lib/python3.10/dist-packages (from requests->torch_geometric) (2.0.7)\n",
            "Requirement already satisfied: certifi>=2017.4.17 in /usr/local/lib/python3.10/dist-packages (from requests->torch_geometric) (2024.7.4)\n",
            "Requirement already satisfied: joblib>=1.1.1 in /usr/local/lib/python3.10/dist-packages (from scikit-learn->torch_geometric) (1.4.2)\n",
            "Requirement already satisfied: threadpoolctl>=2.0.0 in /usr/local/lib/python3.10/dist-packages (from scikit-learn->torch_geometric) (3.5.0)\n",
            "Downloading torch_geometric-2.5.3-py3-none-any.whl (1.1 MB)\n",
            "\u001b[2K   \u001b[90m━━━━━━━━━━━━━━━━━━━━━━━━━━━━━━━━━━━━━━━━\u001b[0m \u001b[32m1.1/1.1 MB\u001b[0m \u001b[31m39.7 MB/s\u001b[0m eta \u001b[36m0:00:00\u001b[0m\n",
            "\u001b[?25hInstalling collected packages: torch_geometric\n",
            "Successfully installed torch_geometric-2.5.3\n",
            "Requirement already satisfied: transformers in /usr/local/lib/python3.10/dist-packages (4.42.4)\n",
            "Requirement already satisfied: filelock in /usr/local/lib/python3.10/dist-packages (from transformers) (3.15.4)\n",
            "Requirement already satisfied: huggingface-hub<1.0,>=0.23.2 in /usr/local/lib/python3.10/dist-packages (from transformers) (0.23.5)\n",
            "Requirement already satisfied: numpy<2.0,>=1.17 in /usr/local/lib/python3.10/dist-packages (from transformers) (1.26.4)\n",
            "Requirement already satisfied: packaging>=20.0 in /usr/local/lib/python3.10/dist-packages (from transformers) (24.1)\n",
            "Requirement already satisfied: pyyaml>=5.1 in /usr/local/lib/python3.10/dist-packages (from transformers) (6.0.2)\n",
            "Requirement already satisfied: regex!=2019.12.17 in /usr/local/lib/python3.10/dist-packages (from transformers) (2024.5.15)\n",
            "Requirement already satisfied: requests in /usr/local/lib/python3.10/dist-packages (from transformers) (2.32.3)\n",
            "Requirement already satisfied: safetensors>=0.4.1 in /usr/local/lib/python3.10/dist-packages (from transformers) (0.4.4)\n",
            "Requirement already satisfied: tokenizers<0.20,>=0.19 in /usr/local/lib/python3.10/dist-packages (from transformers) (0.19.1)\n",
            "Requirement already satisfied: tqdm>=4.27 in /usr/local/lib/python3.10/dist-packages (from transformers) (4.66.5)\n",
            "Requirement already satisfied: fsspec>=2023.5.0 in /usr/local/lib/python3.10/dist-packages (from huggingface-hub<1.0,>=0.23.2->transformers) (2024.6.1)\n",
            "Requirement already satisfied: typing-extensions>=3.7.4.3 in /usr/local/lib/python3.10/dist-packages (from huggingface-hub<1.0,>=0.23.2->transformers) (4.12.2)\n",
            "Requirement already satisfied: charset-normalizer<4,>=2 in /usr/local/lib/python3.10/dist-packages (from requests->transformers) (3.3.2)\n",
            "Requirement already satisfied: idna<4,>=2.5 in /usr/local/lib/python3.10/dist-packages (from requests->transformers) (3.7)\n",
            "Requirement already satisfied: urllib3<3,>=1.21.1 in /usr/local/lib/python3.10/dist-packages (from requests->transformers) (2.0.7)\n",
            "Requirement already satisfied: certifi>=2017.4.17 in /usr/local/lib/python3.10/dist-packages (from requests->transformers) (2024.7.4)\n",
            "Collecting biopython\n",
            "  Downloading biopython-1.84-cp310-cp310-manylinux_2_17_x86_64.manylinux2014_x86_64.whl.metadata (12 kB)\n",
            "Requirement already satisfied: numpy in /usr/local/lib/python3.10/dist-packages (from biopython) (1.26.4)\n",
            "Downloading biopython-1.84-cp310-cp310-manylinux_2_17_x86_64.manylinux2014_x86_64.whl (3.2 MB)\n",
            "\u001b[2K   \u001b[90m━━━━━━━━━━━━━━━━━━━━━━━━━━━━━━━━━━━━━━━━\u001b[0m \u001b[32m3.2/3.2 MB\u001b[0m \u001b[31m61.6 MB/s\u001b[0m eta \u001b[36m0:00:00\u001b[0m\n",
            "\u001b[?25hInstalling collected packages: biopython\n",
            "Successfully installed biopython-1.84\n",
            "Requirement already satisfied: numpy in /usr/local/lib/python3.10/dist-packages (1.26.4)\n",
            "Collecting suds\n",
            "  Downloading suds-1.1.2-py3-none-any.whl.metadata (1.7 kB)\n",
            "Downloading suds-1.1.2-py3-none-any.whl (144 kB)\n",
            "\u001b[2K   \u001b[90m━━━━━━━━━━━━━━━━━━━━━━━━━━━━━━━━━━━━━━━━\u001b[0m \u001b[32m144.8/144.8 kB\u001b[0m \u001b[31m12.5 MB/s\u001b[0m eta \u001b[36m0:00:00\u001b[0m\n",
            "\u001b[?25hInstalling collected packages: suds\n",
            "Successfully installed suds-1.1.2\n"
          ]
        }
      ],
      "source": [
        "! pip install rdkit\n",
        "! pip install torch_geometric\n",
        "! pip install transformers\n",
        "! pip install biopython\n",
        "! pip install numpy\n",
        "! pip install suds"
      ]
    },
    {
      "cell_type": "markdown",
      "source": [
        "# Installs"
      ],
      "metadata": {
        "id": "iXuQZju8iu18"
      }
    },
    {
      "cell_type": "code",
      "execution_count": null,
      "metadata": {
        "id": "R9Hq4v56QZIy"
      },
      "outputs": [],
      "source": [
        "import pandas as pd\n",
        "from os.path import join\n",
        "import torch\n",
        "import torch.nn.functional as F\n",
        "from torch_geometric.nn import GCNConv, global_mean_pool\n",
        "from torch_geometric.nn import GATConv, global_mean_pool\n",
        "from torch_geometric.data import Data, DataLoader\n",
        "from rdkit import Chem\n",
        "import rdkit\n",
        "from rdkit.Chem import AllChem\n",
        "from Bio.PDB import PDBList, PDBParser\n",
        "import numpy as np\n",
        "import requests\n",
        "from sklearn.metrics import r2_score\n",
        "import pickle\n",
        "import torch\n",
        "import networkx as nx\n",
        "import numpy as np\n",
        "from Bio.PDB import PDBParser, PDBList, NeighborSearch\n",
        "from torch_geometric.data import Data\n",
        "from scipy.spatial import KDTree\n",
        "import logging\n",
        "import torch\n",
        "import torch.nn.functional as F\n",
        "from torch_geometric.nn import GCNConv, global_mean_pool\n",
        "from torch_geometric.data import DataLoader, Data\n",
        "from torch_geometric.utils import to_networkx\n",
        "import networkx as nx\n",
        "from sklearn.metrics import r2_score\n",
        "import matplotlib.pyplot as plt\n",
        "# Define your inchi_to_graph function here\n",
        "# and any other necessary functions or imports\n"
      ]
    },
    {
      "cell_type": "code",
      "execution_count": null,
      "metadata": {
        "id": "DWrehcMXKo1E"
      },
      "outputs": [],
      "source": [
        "import warnings\n",
        "warnings.filterwarnings('ignore')"
      ]
    },
    {
      "cell_type": "code",
      "execution_count": null,
      "metadata": {
        "colab": {
          "base_uri": "https://localhost:8080/"
        },
        "id": "N5SIGKnuQeh_",
        "outputId": "b782b5f4-0f45-4d93-b5fd-5ab3a155b011"
      },
      "outputs": [
        {
          "output_type": "stream",
          "name": "stdout",
          "text": [
            "Mounted at /content/drive\n"
          ]
        }
      ],
      "source": [
        "from google.colab import drive\n",
        "drive.mount('/content/drive')"
      ]
    },
    {
      "cell_type": "markdown",
      "source": [
        "# Loading files from Google drive"
      ],
      "metadata": {
        "id": "o9g7hA51iyHF"
      }
    },
    {
      "cell_type": "code",
      "execution_count": null,
      "metadata": {
        "id": "jtINTAASRCun"
      },
      "outputs": [],
      "source": [
        "# Generate numbers from 200 to 3400 with a step of 200\n",
        "data_train = []\n",
        "# numbers = list(range(200, 3401, 200))\n",
        "numbers = list(range(200, 3401, 200))\n",
        "for number in numbers:\n",
        "\n",
        "  file_path = '/content/drive/My Drive/kcat_minidatasets/trainNew' + str(number) + '.pkl'\n",
        "  # Load the list from the specified file\n",
        "  with open(file_path, 'rb') as file:\n",
        "      data= pickle.load(file)\n",
        "\n",
        "  data_train = data_train + data"
      ]
    },
    {
      "cell_type": "code",
      "execution_count": null,
      "metadata": {
        "colab": {
          "base_uri": "https://localhost:8080/"
        },
        "id": "4eb_f7sfRsZg",
        "outputId": "3895a1bd-bb6e-4609-a575-c700f8a62add"
      },
      "outputs": [
        {
          "output_type": "execute_result",
          "data": {
            "text/plain": [
              "3417"
            ]
          },
          "metadata": {},
          "execution_count": 6
        }
      ],
      "source": [
        "len(data_train)"
      ]
    },
    {
      "cell_type": "markdown",
      "source": [
        "# Create Default Protein Graph when no graph data available in PDB"
      ],
      "metadata": {
        "id": "7xLZKY2ti7yA"
      }
    },
    {
      "cell_type": "code",
      "source": [
        "def create_default_protein_graph():\n",
        "    \"\"\"Create a default protein graph with predefined nodes and edges.\"\"\"\n",
        "    graph = nx.Graph()\n",
        "    # Define a few nodes with arbitrary features\n",
        "    default_features = [\n",
        "        [1] * 20 + [1.8, 8.1, 0, 0, 0, 0],  # Node 0 (ALA)\n",
        "        [0] * 20 + [2.5, 5.5, 0, 1, 1, 1],  # Node 1 (CYS)\n",
        "        [0] * 20 + [-3.5, 13.0, -1, 2, 2, 2],  # Node 2 (ASP)\n",
        "        [0] * 20 + [4.5, 5.2, 0, 3, 3, 3]  # Node 3 (ILE)\n",
        "    ]\n",
        "    for idx, features in enumerate(default_features):\n",
        "        graph.add_node(idx, feature=features)\n",
        "\n",
        "    # Add some edges with arbitrary distances\n",
        "    graph.add_edge(0, 1, weight=4.0)\n",
        "    graph.add_edge(1, 2, weight=5.0)\n",
        "    graph.add_edge(2, 3, weight=6.0)\n",
        "    graph.add_edge(3, 0, weight=4.5)\n",
        "\n",
        "    return graph_to_pyg_data(graph)\n",
        "\n",
        "def graph_to_pyg_data(graph):\n",
        "    try:\n",
        "        node_features = [data['feature'] for _, data in graph.nodes(data=True)]\n",
        "        x = torch.tensor(node_features, dtype=torch.float)\n",
        "\n",
        "        edge_index = []\n",
        "        edge_attr = []\n",
        "        for edge in graph.edges(data=True):\n",
        "            edge_index.append([edge[0], edge[1]])\n",
        "            edge_index.append([edge[1], edge[0]])\n",
        "            edge_attr.append([edge[2]['weight']])\n",
        "            edge_attr.append([edge[2]['weight']])\n",
        "\n",
        "        edge_index = torch.tensor(edge_index, dtype=torch.long).t().contiguous()\n",
        "        edge_attr = torch.tensor(edge_attr, dtype=torch.float)\n",
        "\n",
        "        data = Data(x=x, edge_index=edge_index, edge_attr=edge_attr)\n",
        "        return data\n",
        "\n",
        "    except Exception as e:\n",
        "        logging.error(f\"Error converting graph to PyG data: {e}\")\n",
        "        return None\n",
        "x = create_default_protein_graph()\n",
        "x"
      ],
      "metadata": {
        "colab": {
          "base_uri": "https://localhost:8080/"
        },
        "id": "LhsL0HblDoPK",
        "outputId": "7a498604-0a7b-473f-c173-642c6cbf6c6b"
      },
      "execution_count": null,
      "outputs": [
        {
          "output_type": "execute_result",
          "data": {
            "text/plain": [
              "Data(x=[4, 26], edge_index=[2, 8], edge_attr=[8, 1])"
            ]
          },
          "metadata": {},
          "execution_count": 6
        }
      ]
    },
    {
      "cell_type": "code",
      "execution_count": null,
      "metadata": {
        "id": "4yvU3qnRVSWr"
      },
      "outputs": [],
      "source": [
        "cleaned_data = []\n",
        "for item in data_train:\n",
        "\n",
        "  if item['protein_graph'] is None:\n",
        "    # print(item['aggregated_substrate_graph'], item['aggregated_product_graph'], item['protein_graph'])\n",
        "    item['protein_graph'] = create_default_protein_graph()\n",
        "    cleaned_data.append(item)\n",
        "\n",
        "  else:\n",
        "    cleaned_data.append(item)\n",
        "\n",
        "cleaned_complete_data_train = []\n",
        "for item in cleaned_data:\n",
        "  # if item['aggregated_substrate_graph'].edge_index.shape[1] == 12:\n",
        "  if item['protein_graph'].edge_index.shape == torch.Size([0]):\n",
        "    item['protein_graph'] = create_default_protein_graph()\n",
        "    cleaned_data.append(item)\n",
        "\n",
        "  else:\n",
        "    cleaned_complete_data_train.append(item)"
      ]
    },
    {
      "cell_type": "code",
      "execution_count": null,
      "metadata": {
        "colab": {
          "base_uri": "https://localhost:8080/"
        },
        "id": "Nyrxtwt0VUnp",
        "outputId": "7be499c3-41bb-4347-8ae0-74b67ec40df5"
      },
      "outputs": [
        {
          "output_type": "execute_result",
          "data": {
            "text/plain": [
              "3417"
            ]
          },
          "metadata": {},
          "execution_count": 9
        }
      ],
      "source": [
        "len(cleaned_complete_data_train)"
      ]
    },
    {
      "cell_type": "code",
      "source": [
        "# Generate numbers from 200 to 3400 with a step of 200\n",
        "data_test = []\n",
        "# numbers = list(range(200, 3401, 200))\n",
        "numbers = list(range(200, 801, 200))\n",
        "for number in numbers:\n",
        "\n",
        "  file_path = '/content/drive/My Drive/kcat_minidatasets/testNew' + str(number) + '.pkl'\n",
        "  # Load the list from the specified file\n",
        "  with open(file_path, 'rb') as file:\n",
        "      data= pickle.load(file)\n",
        "\n",
        "  data_test = data_test + data\n",
        "\n",
        "file_path = '/content/drive/My Drive/kcat_minidatasets/testNew849.pkl'\n",
        "  # Load the list from the specified file\n",
        "with open(file_path, 'rb') as file:\n",
        "    data= pickle.load(file)\n",
        "\n",
        "data_test = data_test + data\n",
        "\n",
        "cleaned_data = []\n",
        "for item in data_test:\n",
        "\n",
        "  if item['protein_graph'] is None:\n",
        "    # print(item['aggregated_substrate_graph'], item['aggregated_product_graph'], item['protein_graph'])\n",
        "    item['protein_graph'] = create_default_protein_graph()\n",
        "    cleaned_data.append(item)\n",
        "\n",
        "  else:\n",
        "    cleaned_data.append(item)\n",
        "\n",
        "cleaned_complete_data_test = []\n",
        "for item in cleaned_data:\n",
        "  # if item['aggregated_substrate_graph'].edge_index.shape[1] == 12:\n",
        "  if item['protein_graph'].edge_index.shape == torch.Size([0]):\n",
        "    item['protein_graph'] = create_default_protein_graph()\n",
        "    cleaned_data.append(item)\n",
        "\n",
        "  else:\n",
        "    cleaned_complete_data_test.append(item)"
      ],
      "metadata": {
        "id": "TsXAoPmBFwWz"
      },
      "execution_count": null,
      "outputs": []
    },
    {
      "cell_type": "code",
      "execution_count": null,
      "metadata": {
        "id": "ZzpTe3ReVfu5"
      },
      "outputs": [],
      "source": [
        "# Check if GPU is available\n",
        "\n",
        "device = torch.device('cuda' if torch.cuda.is_available() else 'cpu')"
      ]
    },
    {
      "cell_type": "markdown",
      "source": [
        "# PyTorch Datasets"
      ],
      "metadata": {
        "id": "5rhWKOIKjDZN"
      }
    },
    {
      "cell_type": "code",
      "execution_count": null,
      "metadata": {
        "id": "IZL6Vkl5VOHb"
      },
      "outputs": [],
      "source": [
        "import torch\n",
        "from torch_geometric.data import Data, Batch\n",
        "from torch_geometric.loader import DataLoader\n",
        "from torch.utils.data import Dataset\n",
        "from sklearn.model_selection import train_test_split\n",
        "\n",
        "class KcatDataset(Dataset):\n",
        "    def __init__(self, data_list, device):\n",
        "        self.data_list = data_list\n",
        "        self.device = device\n",
        "\n",
        "    def __len__(self):\n",
        "        return len(self.data_list)\n",
        "\n",
        "    def __getitem__(self, idx):\n",
        "        # combined_data = self.data_list[idx]['combined']\n",
        "        combined_data = self.data_list[idx]['aggregated_substrate_graph']\n",
        "        protein_data = self.data_list[idx]['protein_graph']\n",
        "        log10_kcat = self.data_list[idx]['log10_kcat']\n",
        "        protein_embedding = self.data_list[idx]['esm_embedding']\n",
        "        fingerprint = self.data_list[idx]['fingerprint'][0]\n",
        "\n",
        "        # Move data to the device\n",
        "        combined_data = combined_data.to(self.device)\n",
        "        protein_data = protein_data.to(self.device)\n",
        "        protein_embedding = torch.tensor(protein_embedding).to(self.device)\n",
        "        fingerprint = torch.tensor(fingerprint).to(self.device)\n",
        "\n",
        "        return combined_data, protein_data, protein_embedding, fingerprint, log10_kcat\n",
        "\n",
        "\n",
        "# data = cleaned_complete_data_train + cleaned_complete_data_test\n",
        "# data_train, data_test = train_test_split(data, test_size=0.1,)\n",
        "\n",
        "train_kcat_dataset = KcatDataset(cleaned_complete_data_train, device)\n",
        "test_kcat_dataset = KcatDataset(cleaned_complete_data_test, device)\n",
        "\n",
        "train_data_loader = DataLoader(train_kcat_dataset, batch_size=64, shuffle=True)\n",
        "test_data_loader = DataLoader(test_kcat_dataset, batch_size=64)\n",
        "test_data_loader_big = DataLoader(test_kcat_dataset, batch_size=854)\n",
        "\n"
      ]
    },
    {
      "cell_type": "markdown",
      "source": [
        "# Separated GAT architectures"
      ],
      "metadata": {
        "id": "TG7Z6LCfjJ5V"
      }
    },
    {
      "cell_type": "code",
      "source": [
        "import torch\n",
        "import torch.nn as nn\n",
        "import torch.nn.functional as F\n",
        "from torch_geometric.nn import GATConv\n",
        "from torch_geometric.nn import global_mean_pool\n",
        "from torch_geometric.data import Batch\n",
        "\n",
        "class GATSection(nn.Module):\n",
        "    def __init__(self, in_channels, out_channels, heads=1, dropout=0.0):\n",
        "        super(GATSection, self).__init__()\n",
        "        self.gat1 = GATConv(in_channels, out_channels, heads=heads, dropout=dropout)\n",
        "        self.gat2 = GATConv(out_channels * heads, out_channels, heads=heads, dropout=dropout)\n",
        "        self.gat3 = GATConv(out_channels * heads, out_channels, heads=heads, dropout=dropout)\n",
        "    def forward(self, x, edge_index, batch):\n",
        "\n",
        "        x = F.elu(self.gat1(x, edge_index))\n",
        "        x = F.dropout(x, p=0.3, training=self.training)\n",
        "        x = F.elu(self.gat2(x, edge_index))\n",
        "        x = F.dropout(x, p=0.3, training=self.training)\n",
        "        x = self.gat3(x, edge_index)\n",
        "        x = global_mean_pool(x, batch)  # Pooling to get batch-wise embeddings\n",
        "        return x\n",
        "\n",
        "\n",
        "class ProteinGATModel(nn.Module):\n",
        "    def __init__(self, in_channels, out_channels, esm_embedding_dim, hidden_dim, final_out_dim):\n",
        "        super(ProteinGATModel, self).__init__()\n",
        "        self.protein_gat = GATSection(in_channels, out_channels)\n",
        "\n",
        "        # Linear layers after concatenation of GAT and ESM embeddings\n",
        "        combined_dim = out_channels + esm_embedding_dim\n",
        "        self.fc1 = nn.Linear(combined_dim, hidden_dim)\n",
        "        self.fc2 = nn.Linear(hidden_dim, hidden_dim)\n",
        "        self.fc3 = nn.Linear(hidden_dim, final_out_dim)\n",
        "\n",
        "    def forward(self, protein_data, esm_embeddings):\n",
        "        # GAT for protein section\n",
        "        protein_x, protein_edge_index, protein_batch = protein_data.x, protein_data.edge_index, protein_data.batch\n",
        "\n",
        "        protein_embedding = self.protein_gat(protein_x, protein_edge_index, protein_batch)\n",
        "\n",
        "        # Ensure esm_embeddings is batch-wise\n",
        "        if esm_embeddings.dim() == 2 and esm_embeddings.size(0) == protein_embedding.size(0):\n",
        "            combined_embedding = torch.cat([protein_embedding, esm_embeddings], dim=-1)\n",
        "        else:\n",
        "            raise ValueError(\"Mismatch in batch size between embeddings and data\")\n",
        "\n",
        "        x = F.relu(self.fc1(combined_embedding))\n",
        "        x = F.relu(self.fc2(x))\n",
        "        x = self.fc3(x)\n",
        "        return x\n",
        "\n",
        "class SubstrateGATModel(nn.Module):\n",
        "    def __init__(self, in_channels, out_channels, substrate_embedding_dim, hidden_dim, final_out_dim):\n",
        "        super(SubstrateGATModel, self).__init__()\n",
        "        self.substrate_gat = GATSection(in_channels, out_channels)\n",
        "\n",
        "        # Linear layers after concatenation of GAT and substrate embeddings\n",
        "        combined_dim = out_channels + substrate_embedding_dim\n",
        "        self.fc1 = nn.Linear(combined_dim, 32)\n",
        "        self.fc2 = nn.Linear(32, hidden_dim)\n",
        "        self.fc3 = nn.Linear(hidden_dim, final_out_dim)\n",
        "        self.dropout = nn.Dropout(0.2)\n",
        "\n",
        "    def forward(self, substrate_data, substrate_embeddings):\n",
        "        # GAT for substrate section\n",
        "        substrate_x, substrate_edge_index, substrate_batch = substrate_data.x, substrate_data.edge_index, substrate_data.batch\n",
        "        substrate_embedding = self.substrate_gat(substrate_x, substrate_edge_index, substrate_batch)\n",
        "\n",
        "        # Ensure substrate_embeddings is batch-wise\n",
        "        if substrate_embeddings.dim() == 2 and substrate_embeddings.size(0) == substrate_embedding.size(0):\n",
        "            combined_embedding = torch.cat([substrate_embedding, substrate_embeddings], dim=-1)\n",
        "        else:\n",
        "            raise ValueError(\"Mismatch in batch size between embeddings and data\")\n",
        "\n",
        "        # Pass through linear layers\n",
        "        x = F.relu(self.fc1(combined_embedding))\n",
        "        x = F.relu(self.fc2(x))\n",
        "\n",
        "        x = self.fc3(x)\n",
        "        return x\n",
        "\n",
        "# Define input parameters\n",
        "protein_in_channels = 26  # Example input channel size for proteins\n",
        "substrate_in_channels = 6  # Example input channel size for substrates\n",
        "out_channels = 128  # Output channels for GAT layers\n",
        "esm_embedding_dim = 1280  # ESM embedding dimension for proteins\n",
        "substrate_embedding_dim = 2048  # Embedding dimension for substrates\n",
        "protein_hidden_dim = 12  # Hidden dimension for the linear layer\n",
        "molecule_hidden_dim=8\n",
        "final_out_dim = 1  # Final output dimension\n",
        "\n",
        "# Create instances of the models\n",
        "protein_model = ProteinGATModel(\n",
        "    in_channels=protein_in_channels,\n",
        "    out_channels=out_channels,\n",
        "    esm_embedding_dim=esm_embedding_dim,\n",
        "    hidden_dim=protein_hidden_dim,\n",
        "    final_out_dim=final_out_dim\n",
        ")\n",
        "\n",
        "substrate_model = SubstrateGATModel(\n",
        "    in_channels=substrate_in_channels,\n",
        "    out_channels=out_channels,\n",
        "    substrate_embedding_dim=substrate_embedding_dim,\n",
        "    hidden_dim=molecule_hidden_dim,\n",
        "    final_out_dim=final_out_dim\n",
        ")\n",
        "\n",
        "protein_model = protein_model.to(device)\n",
        "substrate_model = substrate_model.to(device)\n",
        "\n",
        "optimizer_protein = torch.optim.Adam(protein_model.parameters(), lr=0.0005, weight_decay=0.003)\n",
        "optimizer_substrate = torch.optim.Adam(substrate_model.parameters(), lr=0.0005, weight_decay=0.003)"
      ],
      "metadata": {
        "id": "DoxArgt43_AJ"
      },
      "execution_count": null,
      "outputs": []
    },
    {
      "cell_type": "markdown",
      "source": [
        "Display loss and R2 curves"
      ],
      "metadata": {
        "id": "nDWGqmehjP2p"
      }
    },
    {
      "cell_type": "code",
      "source": [
        "\n",
        "# Example instantiation of the model\n",
        "device = torch.device('cuda' if torch.cuda.is_available() else 'cpu')\n",
        "\n",
        "\n",
        "def plot_loss(train_scores, test_scores):\n",
        "    plt.figure()\n",
        "    plt.plot(train_scores, label='Train Loss')\n",
        "    plt.plot(test_scores, label='Test Loss')\n",
        "    plt.title('Separated GAT - Protein model train and test loss')\n",
        "    plt.xlabel('Epochs')\n",
        "    plt.ylabel('Loss')\n",
        "    plt.legend()\n",
        "    plt.show()\n",
        "\n",
        "def plot_r2(train_r2, test_r2):\n",
        "    plt.figure()\n",
        "    plt.plot(train_r2, label='Train R2 Score')\n",
        "    plt.plot(test_r2, label='Test R2 Score')\n",
        "    plt.title('Separated GAT - Protein model R2 Score')\n",
        "    plt.xlabel('Epochs')\n",
        "    plt.ylabel('R2 Score')\n",
        "    plt.legend()\n",
        "    plt.show()\n",
        "\n",
        "\n"
      ],
      "metadata": {
        "id": "r9Vyy6S0Gqik"
      },
      "execution_count": null,
      "outputs": []
    },
    {
      "cell_type": "markdown",
      "source": [
        "# Training Function"
      ],
      "metadata": {
        "id": "CKY2xXpAjVA0"
      }
    },
    {
      "cell_type": "code",
      "execution_count": null,
      "metadata": {
        "id": "kyXdFBLO5Y4P"
      },
      "outputs": [],
      "source": [
        "import torch\n",
        "import torch.nn.functional as F\n",
        "from sklearn.metrics import r2_score\n",
        "import copy\n",
        "\n",
        "def train_model(train_data_loader, test_data_loader, device, model, optimizer, model_type, epochs, print_out=True):\n",
        "    train_scores = []\n",
        "    test_scores = []\n",
        "    test_r2_score = []\n",
        "    train_r2_score = []\n",
        "    best_test_r2 = -1000\n",
        "    best_model_state = None\n",
        "\n",
        "    for epoch in range(epochs):\n",
        "        model.train()\n",
        "        train_total_loss = 0\n",
        "        all_outputs = []\n",
        "        all_targets = []\n",
        "\n",
        "        for mol_batch, prot_batch, esm_embedding, fingerprint, targets in train_data_loader:\n",
        "            targets = torch.tensor(targets).float().unsqueeze(1).to(device)\n",
        "\n",
        "            optimizer.zero_grad()\n",
        "            if model_type == 'protein':\n",
        "                output = model(prot_batch, esm_embedding)\n",
        "            elif model_type == 'substrate':\n",
        "                output = model(mol_batch, fingerprint.float())\n",
        "\n",
        "            if output is not None:\n",
        "                loss = F.mse_loss(output, targets)\n",
        "                loss.backward()\n",
        "                optimizer.step()\n",
        "                train_total_loss += loss.item()\n",
        "                all_outputs.extend(output.detach().cpu().numpy())\n",
        "                all_targets.extend(targets.detach().cpu().numpy())\n",
        "\n",
        "        r2 = r2_score(all_targets, all_outputs)\n",
        "        train_r2_score.append(r2)\n",
        "        if print_out:\n",
        "            print(f\"Epoch {epoch}, Train Loss: {train_total_loss / len(train_data_loader)}, Train R2: {r2}\")\n",
        "\n",
        "        model.eval()\n",
        "        total_test_loss = 0\n",
        "        all_outputs = []\n",
        "        all_targets = []\n",
        "\n",
        "        with torch.no_grad():\n",
        "            for mol_batch, prot_batch, esm_embedding, fingerprint, targets in test_data_loader:\n",
        "                targets = torch.tensor(targets).float().unsqueeze(1).to(device)\n",
        "\n",
        "                if model_type == 'protein':\n",
        "                    output = model(prot_batch, esm_embedding)\n",
        "                elif model_type == 'substrate':\n",
        "                    output = model(mol_batch, fingerprint.float())\n",
        "\n",
        "                if output is not None:\n",
        "                    loss = F.mse_loss(output, targets)\n",
        "                    total_test_loss += loss.item()\n",
        "                    all_outputs.extend(output.cpu().numpy())\n",
        "                    all_targets.extend(targets.cpu().numpy())\n",
        "\n",
        "        average_test_loss = total_test_loss / len(test_data_loader)\n",
        "        test_scores.append(average_test_loss)\n",
        "        if print_out:\n",
        "            print(f\"Epoch {epoch}, Test Loss: {average_test_loss}\")\n",
        "\n",
        "        r2 = r2_score(all_targets, all_outputs)\n",
        "        test_r2_score.append(r2)\n",
        "        if print_out:\n",
        "            print(f\"Epoch {epoch}, Test R2: {r2}\")\n",
        "\n",
        "        # Save the model if it has the best test loss so far\n",
        "        if r2 > best_test_r2:\n",
        "            best_test_r2 = r2\n",
        "            best_model_state = copy.deepcopy(model.state_dict())\n",
        "\n",
        "        train_scores.append(train_total_loss / len(train_data_loader))\n",
        "    if print_out:\n",
        "      print(\"best r2\", best_test_r2)\n",
        "    # Load the best model state before returning\n",
        "    if best_model_state is not None:\n",
        "        model.load_state_dict(best_model_state)\n",
        "\n",
        "    if print_out:\n",
        "        plot_loss(train_scores, test_scores)\n",
        "        plot_r2(train_r2_score, test_r2_score)\n",
        "\n",
        "    return model\n",
        "\n",
        "\n"
      ]
    },
    {
      "cell_type": "code",
      "source": [
        "# Train protein model\n",
        "trained_protein_model = train_model(train_data_loader, test_data_loader, device, protein_model, optimizer_protein, model_type='protein', epochs=30, print_out=True)\n"
      ],
      "metadata": {
        "colab": {
          "base_uri": "https://localhost:8080/",
          "height": 1000
        },
        "id": "kih-jWmfYYOh",
        "outputId": "a9abc85f-3d30-45bc-e5ca-9e66ff91cb37"
      },
      "execution_count": null,
      "outputs": [
        {
          "output_type": "stream",
          "name": "stdout",
          "text": [
            "Epoch 0, Train Loss: 1.5443300637933943, Train R2: -0.10983182710703909\n",
            "Epoch 0, Test Loss: 1.4415684342384338\n",
            "Epoch 0, Test R2: -0.0010417612307835888\n",
            "Epoch 1, Train Loss: 1.365124477280511, Train R2: 0.02702380442655461\n",
            "Epoch 1, Test Loss: 1.3832643585545676\n",
            "Epoch 1, Test R2: 0.041994289318224576\n",
            "Epoch 2, Train Loss: 1.283143694754, Train R2: 0.07359774579679013\n",
            "Epoch 2, Test Loss: 1.3304003434521812\n",
            "Epoch 2, Test R2: 0.08148954455815927\n",
            "Epoch 3, Train Loss: 1.2404101954566107, Train R2: 0.11185648032385276\n",
            "Epoch 3, Test Loss: 1.2950336592538017\n",
            "Epoch 3, Test R2: 0.1091548854252048\n",
            "Epoch 4, Train Loss: 1.1731975773970287, Train R2: 0.1553075345164574\n",
            "Epoch 4, Test Loss: 1.2265910591397966\n",
            "Epoch 4, Test R2: 0.15582173254787013\n",
            "Epoch 5, Train Loss: 1.1152647336324055, Train R2: 0.20132538712937875\n",
            "Epoch 5, Test Loss: 1.198712272303445\n",
            "Epoch 5, Test R2: 0.16999173375268883\n",
            "Epoch 6, Train Loss: 1.0623624093002744, Train R2: 0.23792153086018197\n",
            "Epoch 6, Test Loss: 1.1336906509740012\n",
            "Epoch 6, Test R2: 0.21940033393910408\n",
            "Epoch 7, Train Loss: 1.011564173080303, Train R2: 0.27871207860752145\n",
            "Epoch 7, Test Loss: 1.0987123038087572\n",
            "Epoch 7, Test R2: 0.24153159415658998\n",
            "Epoch 8, Train Loss: 0.9570257144945639, Train R2: 0.3129032140682505\n",
            "Epoch 8, Test Loss: 1.0724093105111803\n",
            "Epoch 8, Test R2: 0.2594550159096076\n",
            "Epoch 9, Train Loss: 0.9142343722007893, Train R2: 0.34444151962413083\n",
            "Epoch 9, Test Loss: 1.0648437653269087\n",
            "Epoch 9, Test R2: 0.26303145136967265\n",
            "Epoch 10, Train Loss: 0.8792633767481204, Train R2: 0.36684397770880695\n",
            "Epoch 10, Test Loss: 1.0654689797333308\n",
            "Epoch 10, Test R2: 0.2668080974440312\n",
            "Epoch 11, Train Loss: 0.854238811466429, Train R2: 0.3875987558655467\n",
            "Epoch 11, Test Loss: 1.049617154257638\n",
            "Epoch 11, Test R2: 0.27594265023705644\n",
            "Epoch 12, Train Loss: 0.8297494346344912, Train R2: 0.40278880749086243\n",
            "Epoch 12, Test Loss: 1.037611288683755\n",
            "Epoch 12, Test R2: 0.2855335833756575\n",
            "Epoch 13, Train Loss: 0.8114940623442332, Train R2: 0.41620862564942473\n",
            "Epoch 13, Test Loss: 1.0293469301291875\n",
            "Epoch 13, Test R2: 0.2902236414746201\n",
            "Epoch 14, Train Loss: 0.7879951502437945, Train R2: 0.43500693045376504\n",
            "Epoch 14, Test Loss: 1.0448522142001562\n",
            "Epoch 14, Test R2: 0.2786504267866625\n",
            "Epoch 15, Train Loss: 0.7701087709930208, Train R2: 0.4471150378407084\n",
            "Epoch 15, Test Loss: 1.0349614577633994\n",
            "Epoch 15, Test R2: 0.2853798815631645\n",
            "Epoch 16, Train Loss: 0.7567719276304599, Train R2: 0.4563199272140359\n",
            "Epoch 16, Test Loss: 1.026444401059832\n",
            "Epoch 16, Test R2: 0.29473522770338456\n",
            "Epoch 17, Train Loss: 0.741528500561361, Train R2: 0.4654874608305988\n",
            "Epoch 17, Test Loss: 1.0293206700256892\n",
            "Epoch 17, Test R2: 0.2922550678325583\n",
            "Epoch 18, Train Loss: 0.7268555914914167, Train R2: 0.4775503707665738\n",
            "Epoch 18, Test Loss: 1.0270726808479853\n",
            "Epoch 18, Test R2: 0.2930021576043842\n",
            "Epoch 19, Train Loss: 0.7129064174713912, Train R2: 0.4863435013231939\n",
            "Epoch 19, Test Loss: 1.0193112109388625\n",
            "Epoch 19, Test R2: 0.2973007306639014\n",
            "Epoch 20, Train Loss: 0.7027216062501624, Train R2: 0.4949465068715606\n",
            "Epoch 20, Test Loss: 1.0393919519015722\n",
            "Epoch 20, Test R2: 0.2820187198772428\n",
            "Epoch 21, Train Loss: 0.69089432226287, Train R2: 0.505226021485701\n",
            "Epoch 21, Test Loss: 1.0360191294125147\n",
            "Epoch 21, Test R2: 0.2838214735039253\n",
            "Epoch 22, Train Loss: 0.6910522960954242, Train R2: 0.5061047867590973\n",
            "Epoch 22, Test Loss: 1.0272384669099535\n",
            "Epoch 22, Test R2: 0.29443402591759427\n",
            "Epoch 23, Train Loss: 0.6719353452876762, Train R2: 0.5172061376713726\n",
            "Epoch 23, Test Loss: 1.0337427301066262\n",
            "Epoch 23, Test R2: 0.291050581745797\n",
            "Epoch 24, Train Loss: 0.6643592384126451, Train R2: 0.526947908337275\n",
            "Epoch 24, Test Loss: 1.0291298457554408\n",
            "Epoch 24, Test R2: 0.29305355409022604\n",
            "Epoch 25, Train Loss: 0.6457019768379353, Train R2: 0.5361002782256311\n",
            "Epoch 25, Test Loss: 1.0362368481499808\n",
            "Epoch 25, Test R2: 0.28415328364647396\n",
            "Epoch 26, Train Loss: 0.6412183780361105, Train R2: 0.5418049734566046\n",
            "Epoch 26, Test Loss: 1.0275835863181524\n",
            "Epoch 26, Test R2: 0.29022852331199567\n",
            "Epoch 27, Train Loss: 0.6319773004010871, Train R2: 0.5479221760003266\n",
            "Epoch 27, Test Loss: 1.0215351028101785\n",
            "Epoch 27, Test R2: 0.2948750942867461\n",
            "Epoch 28, Train Loss: 0.6218588694378182, Train R2: 0.5531173329749133\n",
            "Epoch 28, Test Loss: 1.02822710786547\n",
            "Epoch 28, Test R2: 0.29350180247932767\n",
            "Epoch 29, Train Loss: 0.6034678877503784, Train R2: 0.5657494185718409\n",
            "Epoch 29, Test Loss: 1.043764693396432\n",
            "Epoch 29, Test R2: 0.2846152492320757\n",
            "best r2 0.2973007306639014\n"
          ]
        },
        {
          "output_type": "display_data",
          "data": {
            "text/plain": [
              "<Figure size 640x480 with 1 Axes>"
            ],
            "image/png": "[encoded data removed]"
          },
          "metadata": {}
        },
        {
          "output_type": "display_data",
          "data": {
            "text/plain": [
              "<Figure size 640x480 with 1 Axes>"
            ],
            "image/png": "[encoded data removed]"
          },
          "metadata": {}
        }
      ]
    },
    {
      "cell_type": "code",
      "source": [
        "\n",
        "# Example instantiation of the model\n",
        "device = torch.device('cuda' if torch.cuda.is_available() else 'cpu')\n",
        "\n",
        "\n",
        "def plot_loss(train_scores, test_scores):\n",
        "    plt.figure()\n",
        "    plt.plot(train_scores, label='Train Loss')\n",
        "    plt.plot(test_scores, label='Test Loss')\n",
        "    plt.title('Separated GAT - Molecule model train and test loss')\n",
        "    plt.xlabel('Epochs')\n",
        "    plt.ylabel('Loss')\n",
        "    plt.legend()\n",
        "    plt.show()\n",
        "\n",
        "def plot_r2(train_r2, test_r2):\n",
        "    plt.figure()\n",
        "    plt.plot(train_r2, label='Train R2 Score')\n",
        "    plt.plot(test_r2, label='Test R2 Score')\n",
        "    plt.title('Separated GAT - Molecule model R2 Score')\n",
        "    plt.xlabel('Epochs')\n",
        "    plt.ylabel('R2 Score')\n",
        "    plt.legend()\n",
        "    plt.show()\n",
        "\n",
        "\n"
      ],
      "metadata": {
        "id": "vpYozSBcbc0h"
      },
      "execution_count": null,
      "outputs": []
    },
    {
      "cell_type": "code",
      "source": [],
      "metadata": {
        "id": "9r8dKEZBvyTW"
      },
      "execution_count": null,
      "outputs": []
    },
    {
      "cell_type": "code",
      "source": [
        "# Train substrate model\n",
        "trained_substrate_model = train_model(train_data_loader, test_data_loader, device, substrate_model, optimizer_substrate, model_type='substrate', epochs=12, print_out=True)"
      ],
      "metadata": {
        "colab": {
          "base_uri": "https://localhost:8080/",
          "height": 1000
        },
        "id": "UFNNp27bYfS_",
        "outputId": "691b8fd5-8cb3-4eff-b2ec-a5618a9f6812"
      },
      "execution_count": null,
      "outputs": [
        {
          "output_type": "stream",
          "name": "stdout",
          "text": [
            "Epoch 0, Train Loss: 1.348844388016948, Train R2: 0.03214510314645347\n",
            "Epoch 0, Test Loss: 1.162496954202652\n",
            "Epoch 0, Test R2: 0.19346086443177524\n",
            "Epoch 1, Train Loss: 0.9540836634459319, Train R2: 0.3161695414367949\n",
            "Epoch 1, Test Loss: 1.1078753556524004\n",
            "Epoch 1, Test R2: 0.22683677063207652\n",
            "Epoch 2, Train Loss: 0.8397940441414162, Train R2: 0.3981691538518355\n",
            "Epoch 2, Test Loss: 1.149427694933755\n",
            "Epoch 2, Test R2: 0.2011760350962989\n",
            "Epoch 3, Train Loss: 0.7586044514620746, Train R2: 0.4542288369661357\n",
            "Epoch 3, Test Loss: 1.088552964585168\n",
            "Epoch 3, Test R2: 0.24150742408130732\n",
            "Epoch 4, Train Loss: 0.6885390259601452, Train R2: 0.5049196933901983\n",
            "Epoch 4, Test Loss: 1.0644413999148779\n",
            "Epoch 4, Test R2: 0.25889880099313756\n",
            "Epoch 5, Train Loss: 0.65331620198709, Train R2: 0.5318219693255519\n",
            "Epoch 5, Test Loss: 1.074073042188372\n",
            "Epoch 5, Test R2: 0.24972688775217433\n",
            "Epoch 6, Train Loss: 0.6150076422426436, Train R2: 0.5579464125335317\n",
            "Epoch 6, Test Loss: 1.011442290885108\n",
            "Epoch 6, Test R2: 0.295516336386595\n",
            "Epoch 7, Train Loss: 0.5692264862634517, Train R2: 0.5937778645298322\n",
            "Epoch 7, Test Loss: 1.0203448917184557\n",
            "Epoch 7, Test R2: 0.29393664133416575\n",
            "Epoch 8, Train Loss: 0.5420378292048419, Train R2: 0.6101202567054718\n",
            "Epoch 8, Test Loss: 0.9921826677662986\n",
            "Epoch 8, Test R2: 0.31417770098232845\n",
            "Epoch 9, Train Loss: 0.4867869345126329, Train R2: 0.652815248485832\n",
            "Epoch 9, Test Loss: 1.0178293245179313\n",
            "Epoch 9, Test R2: 0.2963285274566183\n",
            "Epoch 10, Train Loss: 0.465601145669266, Train R2: 0.6662777964229407\n",
            "Epoch 10, Test Loss: 1.025935777596065\n",
            "Epoch 10, Test R2: 0.28424011895743795\n",
            "Epoch 11, Train Loss: 0.4731876444485452, Train R2: 0.6577131132115179\n",
            "Epoch 11, Test Loss: 1.0307187352861678\n",
            "Epoch 11, Test R2: 0.28673071788547344\n",
            "best r2 0.31417770098232845\n"
          ]
        },
        {
          "output_type": "display_data",
          "data": {
            "text/plain": [
              "<Figure size 640x480 with 1 Axes>"
            ],
            "image/png": "[encoded data removed]"
          },
          "metadata": {}
        },
        {
          "output_type": "display_data",
          "data": {
            "text/plain": [
              "<Figure size 640x480 with 1 Axes>"
            ],
            "image/png": "[encoded data removed]"
          },
          "metadata": {}
        }
      ]
    },
    {
      "cell_type": "code",
      "source": [
        "protein_params = sum(p.numel() for p in protein_model.parameters() if p.requires_grad)\n",
        "molecule_params = sum(p.numel() for p in substrate_model.parameters() if p.requires_grad)\n",
        "\n",
        "print(f\"Protein Model Parameters: {protein_params}\")\n",
        "print(f\"Molecule Model Parameters: {molecule_params}\")"
      ],
      "metadata": {
        "colab": {
          "base_uri": "https://localhost:8080/"
        },
        "id": "q9O03rSqZ8Sm",
        "outputId": "8f6525e9-3d9d-4a91-f2ea-442eb2d1f21e"
      },
      "execution_count": null,
      "outputs": [
        {
          "output_type": "stream",
          "name": "stdout",
          "text": [
            "Protein Model Parameters: 54325\n",
            "Molecule Model Parameters: 104625\n"
          ]
        }
      ]
    },
    {
      "cell_type": "markdown",
      "source": [
        "# Ensemble Model\n"
      ],
      "metadata": {
        "id": "3hNTui3Mjs1v"
      }
    },
    {
      "cell_type": "code",
      "source": [
        "import torch\n",
        "import torch.nn.functional as F\n",
        "from sklearn.metrics import r2_score\n",
        "\n",
        "def evaluate_ensemble(model1, model2, test_data_loader):\n",
        "    model1.eval()\n",
        "    model2.eval()\n",
        "\n",
        "    total_test_loss = 0\n",
        "    all_outputs = []\n",
        "    all_targets = []\n",
        "\n",
        "    with torch.no_grad():\n",
        "        for mol_batch, prot_batch, esm_embedding, fingerprint, targets in test_data_loader_big:\n",
        "            targets = torch.tensor(targets).float().unsqueeze(1).to(device)\n",
        "\n",
        "            output1 = model1(prot_batch, esm_embedding)\n",
        "\n",
        "            output2 = model2(mol_batch, fingerprint.float())\n",
        "\n",
        "            # Ensemble prediction by averaging outputs\n",
        "            output = (output1 + output2) / 2\n",
        "\n",
        "            if output is not None:\n",
        "                loss = F.mse_loss(output, targets)\n",
        "                total_test_loss += loss.item()\n",
        "                all_outputs.extend(output.cpu().numpy())\n",
        "                all_targets.extend(targets.cpu().numpy())\n",
        "\n",
        "    average_test_loss = total_test_loss / len(test_data_loader_big)\n",
        "\n",
        "\n",
        "    # Calculate R2 score\n",
        "    r2 = r2_score(all_targets, all_outputs)\n",
        "\n",
        "    print(f\"Ensemble Test Loss: {average_test_loss}\")\n",
        "    print(f\"R2 Score: {r2}\")\n",
        "    return r2\n",
        "# Example usage\n",
        "evaluate_ensemble(trained_protein_model, trained_substrate_model, test_data_loader)\n"
      ],
      "metadata": {
        "id": "vEJtHec-bofL",
        "colab": {
          "base_uri": "https://localhost:8080/"
        },
        "outputId": "f60d32fd-59d0-4c20-d374-b552fc701499"
      },
      "execution_count": null,
      "outputs": [
        {
          "output_type": "stream",
          "name": "stdout",
          "text": [
            "Ensemble Test Loss: 0.8898407816886902\n",
            "R2 Score: 0.37954247246156825\n"
          ]
        },
        {
          "output_type": "execute_result",
          "data": {
            "text/plain": [
              "0.37954247246156825"
            ]
          },
          "metadata": {},
          "execution_count": 25
        }
      ]
    },
    {
      "cell_type": "markdown",
      "source": [
        "# 10 time avg test for GAT ensemble only"
      ],
      "metadata": {
        "id": "8cEp-4eQ85Wk"
      }
    },
    {
      "cell_type": "code",
      "source": [
        "def get_default_models():\n",
        "\n",
        "  protein_model = ProteinGATModel(\n",
        "      in_channels=protein_in_channels,\n",
        "      out_channels=out_channels,\n",
        "      esm_embedding_dim=esm_embedding_dim,\n",
        "      hidden_dim=protein_hidden_dim,\n",
        "      final_out_dim=final_out_dim\n",
        "  )\n",
        "\n",
        "  substrate_model = SubstrateGATModel(\n",
        "      in_channels=substrate_in_channels,\n",
        "      out_channels=out_channels,\n",
        "      substrate_embedding_dim=substrate_embedding_dim,\n",
        "      hidden_dim=molecule_hidden_dim,\n",
        "      final_out_dim=final_out_dim\n",
        "  )\n",
        "\n",
        "  protein_model = protein_model.to(device)\n",
        "  substrate_model = substrate_model.to(device)\n",
        "\n",
        "  optimizer_protein = torch.optim.Adam(protein_model.parameters(), lr=0.0005, weight_decay=0.003)\n",
        "  optimizer_substrate = torch.optim.Adam(substrate_model.parameters(), lr=0.0005, weight_decay=0.003)\n",
        "\n",
        "  return protein_model, substrate_model, optimizer_protein, optimizer_substrate"
      ],
      "metadata": {
        "id": "noVasxq28294"
      },
      "execution_count": null,
      "outputs": []
    },
    {
      "cell_type": "code",
      "source": [
        "results = []\n",
        "for i in range(10):\n",
        "  protein_model, substrate_model, optimizer_protein, optimizer_substrate = get_default_models()\n",
        "  trained_protein_model = train_model(train_data_loader, test_data_loader, device, protein_model, optimizer_protein, model_type='protein', epochs=25, print_out=False)\n",
        "  trained_substrate_model = train_model(train_data_loader, test_data_loader, device, substrate_model, optimizer_substrate, model_type='substrate', epochs=12, print_out=False)\n",
        "  results.append(evaluate_ensemble(trained_protein_model, trained_substrate_model, test_data_loader))"
      ],
      "metadata": {
        "colab": {
          "base_uri": "https://localhost:8080/"
        },
        "id": "WqBo-lIe9B7v",
        "outputId": "8b10bb30-e5a7-4bf4-c355-648cd34ecc1b"
      },
      "execution_count": null,
      "outputs": [
        {
          "output_type": "stream",
          "name": "stdout",
          "text": [
            "Ensemble Test Loss: 0.8731732964515686\n",
            "R2 Score: 0.3911641965356264\n",
            "Ensemble Test Loss: 0.880124568939209\n",
            "R2 Score: 0.3863172916154194\n",
            "Ensemble Test Loss: 0.8712475299835205\n",
            "R2 Score: 0.3925069332639025\n",
            "Ensemble Test Loss: 0.8697540163993835\n",
            "R2 Score: 0.39354830571419297\n",
            "Ensemble Test Loss: 0.8780992031097412\n",
            "R2 Score: 0.3877294649666092\n",
            "Ensemble Test Loss: 0.8552940487861633\n",
            "R2 Score: 0.40363077235335965\n",
            "Ensemble Test Loss: 0.8543993830680847\n",
            "R2 Score: 0.4042546088332528\n",
            "Ensemble Test Loss: 0.8999168872833252\n",
            "R2 Score: 0.3725167054321158\n",
            "Ensemble Test Loss: 0.8770474195480347\n",
            "R2 Score: 0.38846288092199255\n",
            "Ensemble Test Loss: 0.8940473794937134\n",
            "R2 Score: 0.3766093209504331\n"
          ]
        }
      ]
    },
    {
      "cell_type": "code",
      "source": [
        "import statistics\n",
        "print(\"10 times avg test results\")\n",
        "print(\"Mean:\", statistics.mean(results))\n",
        "print(\"Standard Deviation: \", statistics.stdev(results))"
      ],
      "metadata": {
        "colab": {
          "base_uri": "https://localhost:8080/"
        },
        "id": "7_x9k6vW9RCr",
        "outputId": "665595a8-a43a-4dc1-dd4e-a011fc19e723"
      },
      "execution_count": null,
      "outputs": [
        {
          "output_type": "stream",
          "name": "stdout",
          "text": [
            "10 times avg test results\n",
            "Mean: 0.38967404805869044\n",
            "Standard Deviation:  0.01007866945838221\n"
          ]
        }
      ]
    },
    {
      "cell_type": "markdown",
      "source": [
        "# XG Boost"
      ],
      "metadata": {
        "id": "X6sXULsgKdXL"
      }
    },
    {
      "cell_type": "code",
      "source": [
        "!pip install scikit-learn\n",
        "!pip install xgboost\n",
        "\n",
        "import xgboost as xgb\n",
        "from sklearn.datasets import load_iris\n",
        "from sklearn.model_selection import train_test_split\n",
        "from sklearn.metrics import accuracy_score\n",
        "\n"
      ],
      "metadata": {
        "colab": {
          "base_uri": "https://localhost:8080/"
        },
        "id": "1ZfOE8SbKZrO",
        "outputId": "06102723-4cc6-4a18-a30e-c10ed63c728d"
      },
      "execution_count": null,
      "outputs": [
        {
          "output_type": "stream",
          "name": "stdout",
          "text": [
            "Requirement already satisfied: scikit-learn in /usr/local/lib/python3.10/dist-packages (1.3.2)\n",
            "Requirement already satisfied: numpy<2.0,>=1.17.3 in /usr/local/lib/python3.10/dist-packages (from scikit-learn) (1.26.4)\n",
            "Requirement already satisfied: scipy>=1.5.0 in /usr/local/lib/python3.10/dist-packages (from scikit-learn) (1.13.1)\n",
            "Requirement already satisfied: joblib>=1.1.1 in /usr/local/lib/python3.10/dist-packages (from scikit-learn) (1.4.2)\n",
            "Requirement already satisfied: threadpoolctl>=2.0.0 in /usr/local/lib/python3.10/dist-packages (from scikit-learn) (3.5.0)\n",
            "Requirement already satisfied: xgboost in /usr/local/lib/python3.10/dist-packages (2.1.1)\n",
            "Requirement already satisfied: numpy in /usr/local/lib/python3.10/dist-packages (from xgboost) (1.26.4)\n",
            "Collecting nvidia-nccl-cu12 (from xgboost)\n",
            "  Downloading nvidia_nccl_cu12-2.22.3-py3-none-manylinux2014_x86_64.whl.metadata (1.8 kB)\n",
            "Requirement already satisfied: scipy in /usr/local/lib/python3.10/dist-packages (from xgboost) (1.13.1)\n",
            "Downloading nvidia_nccl_cu12-2.22.3-py3-none-manylinux2014_x86_64.whl (190.9 MB)\n",
            "\u001b[2K   \u001b[90m━━━━━━━━━━━━━━━━━━━━━━━━━━━━━━━━━━━━━━━━\u001b[0m \u001b[32m190.9/190.9 MB\u001b[0m \u001b[31m6.4 MB/s\u001b[0m eta \u001b[36m0:00:00\u001b[0m\n",
            "\u001b[?25hInstalling collected packages: nvidia-nccl-cu12\n",
            "\u001b[31mERROR: pip's dependency resolver does not currently take into account all the packages that are installed. This behaviour is the source of the following dependency conflicts.\n",
            "torch 2.3.1+cu121 requires nvidia-cublas-cu12==12.1.3.1; platform_system == \"Linux\" and platform_machine == \"x86_64\", which is not installed.\n",
            "torch 2.3.1+cu121 requires nvidia-cuda-cupti-cu12==12.1.105; platform_system == \"Linux\" and platform_machine == \"x86_64\", which is not installed.\n",
            "torch 2.3.1+cu121 requires nvidia-cuda-nvrtc-cu12==12.1.105; platform_system == \"Linux\" and platform_machine == \"x86_64\", which is not installed.\n",
            "torch 2.3.1+cu121 requires nvidia-cuda-runtime-cu12==12.1.105; platform_system == \"Linux\" and platform_machine == \"x86_64\", which is not installed.\n",
            "torch 2.3.1+cu121 requires nvidia-cudnn-cu12==8.9.2.26; platform_system == \"Linux\" and platform_machine == \"x86_64\", which is not installed.\n",
            "torch 2.3.1+cu121 requires nvidia-cufft-cu12==11.0.2.54; platform_system == \"Linux\" and platform_machine == \"x86_64\", which is not installed.\n",
            "torch 2.3.1+cu121 requires nvidia-curand-cu12==10.3.2.106; platform_system == \"Linux\" and platform_machine == \"x86_64\", which is not installed.\n",
            "torch 2.3.1+cu121 requires nvidia-cusolver-cu12==11.4.5.107; platform_system == \"Linux\" and platform_machine == \"x86_64\", which is not installed.\n",
            "torch 2.3.1+cu121 requires nvidia-cusparse-cu12==12.1.0.106; platform_system == \"Linux\" and platform_machine == \"x86_64\", which is not installed.\n",
            "torch 2.3.1+cu121 requires nvidia-nvtx-cu12==12.1.105; platform_system == \"Linux\" and platform_machine == \"x86_64\", which is not installed.\n",
            "torch 2.3.1+cu121 requires nvidia-nccl-cu12==2.20.5; platform_system == \"Linux\" and platform_machine == \"x86_64\", but you have nvidia-nccl-cu12 2.22.3 which is incompatible.\u001b[0m\u001b[31m\n",
            "\u001b[0mSuccessfully installed nvidia-nccl-cu12-2.22.3\n"
          ]
        }
      ]
    },
    {
      "cell_type": "code",
      "source": [
        "import xgboost as xgb\n",
        "from sklearn.datasets import load_iris\n",
        "from sklearn.model_selection import train_test_split\n",
        "from sklearn.metrics import accuracy_score, mean_squared_error, r2_score\n",
        "\n",
        "\n",
        "X_train = []\n",
        "y_train = []\n",
        "for item in cleaned_complete_data_train:\n",
        "  # print(item['esm_embedding'], item['fingerprint'][0])\n",
        "  combined = np.concatenate((item['esm_embedding'], item['fingerprint'][0]))\n",
        "  X_train.append(combined)\n",
        "  y_train.append(item['log10_kcat'])\n",
        "\n",
        "# for item in cleaned_complete_data_test[0:400]:\n",
        "#   combined = np.concatenate((item['esm_embedding'], item['fingerprint'][0]))\n",
        "#   X_train.append(combined)\n",
        "#   y_train.append(item['log10_kcat'])\n",
        "\n",
        "X_test = []\n",
        "y_test = []\n",
        "for item in cleaned_complete_data_test:\n",
        "  combined = np.concatenate((item['esm_embedding'], item['fingerprint'][0]))\n",
        "  X_test.append(combined)\n",
        "  y_test.append(item['log10_kcat'])\n",
        "\n",
        "\n",
        "\n",
        "# Convert the dataset into DMatrix format\n",
        "dtrain = xgb.DMatrix(X_train, label=y_train)\n",
        "dtest = xgb.DMatrix(X_test, label=y_test)\n",
        "\n",
        "# Set the parameters for the XGBoost model\n",
        "params = {\n",
        "    'objective': 'reg:squarederror',  # regression objective\n",
        "    'max_depth': 9,  # maximum depth of the trees\n",
        "    'eta': 0.1,  # learning rate\n",
        "    'eval_metric': 'rmse'  # evaluation metric\n",
        "}\n",
        "\n",
        "# Train the XGBoost model\n",
        "num_rounds = 100\n",
        "xgb_model = xgb.train(params, dtrain, num_rounds)\n",
        "\n",
        "# Make predictions on the test set\n",
        "y_pred = xgb_model.predict(dtest)\n",
        "\n",
        "# Evaluate the model\n",
        "rmse = mean_squared_error(y_test, y_pred, squared=False)\n",
        "print(f'RMSE: {rmse:.2f}')\n",
        "r2_scoring = r2_score(y_test, y_pred)\n",
        "print(f'R2 Score: {r2_scoring:.2f}')"
      ],
      "metadata": {
        "colab": {
          "base_uri": "https://localhost:8080/"
        },
        "id": "-Lct7Tp-O3TV",
        "outputId": "6998d023-27c0-4b40-bf42-0923eac20ceb"
      },
      "execution_count": null,
      "outputs": [
        {
          "output_type": "stream",
          "name": "stdout",
          "text": [
            "RMSE: 0.95\n",
            "R2 Score: 0.37\n"
          ]
        }
      ]
    },
    {
      "cell_type": "code",
      "source": [
        "import torch\n",
        "import torch.nn.functional as F\n",
        "from sklearn.metrics import r2_score\n",
        "import xgboost as xgb\n",
        "import numpy as np\n",
        "\n",
        "def evaluate_three_way_ensemble(model1, model2, xgb_model, test_data_loader, device):\n",
        "    model1.eval()\n",
        "    model2.eval()\n",
        "\n",
        "    total_test_loss = 0\n",
        "    all_outputs = []\n",
        "    all_targets = []\n",
        "\n",
        "    with torch.no_grad():\n",
        "        for mol_batch, prot_batch, esm_embedding, fingerprint, targets in test_data_loader_big:\n",
        "            targets = torch.tensor(targets).float().unsqueeze(1).to(device)\n",
        "\n",
        "            # Get outputs from the PyTorch models\n",
        "            output1 = model1(prot_batch, esm_embedding)\n",
        "            output2 = model2(mol_batch, fingerprint.float())\n",
        "\n",
        "            # Prepare data for XGBoost\n",
        "            combined_features = np.concatenate((esm_embedding.cpu().numpy(), fingerprint.cpu().numpy()), axis=1)\n",
        "            xgb_input = xgb.DMatrix(combined_features)\n",
        "            output3 = xgb_model.predict(xgb_input)\n",
        "            output3 = torch.tensor(output3).float().unsqueeze(1).to(device)\n",
        "\n",
        "            # Ensemble prediction by averaging outputs\n",
        "            output = ((output1 + output2)/2 + output3) / 2\n",
        "\n",
        "            if output is not None:\n",
        "                loss = F.mse_loss(output, targets)\n",
        "                total_test_loss += loss.item()\n",
        "                all_outputs.extend(output.cpu().numpy())\n",
        "                all_targets.extend(targets.cpu().numpy())\n",
        "\n",
        "    average_test_loss = total_test_loss / len(test_data_loader)\n",
        "\n",
        "    # Calculate R2 score\n",
        "    r2 = r2_score(all_targets, all_outputs)\n",
        "\n",
        "    # print(f\"Three-Way Ensemble R2 Score: {r2}\")\n",
        "    return r2\n",
        "# Example usage\n",
        "evaluate_three_way_ensemble(trained_protein_model, trained_substrate_model, xgb_model, test_data_loader, device)\n"
      ],
      "metadata": {
        "colab": {
          "base_uri": "https://localhost:8080/"
        },
        "id": "qZvZpVJd2Kl2",
        "outputId": "4f5c5a9a-14bc-41e4-f37c-9b66d5d66faf"
      },
      "execution_count": null,
      "outputs": [
        {
          "output_type": "execute_result",
          "data": {
            "text/plain": [
              "0.4081797753787356"
            ]
          },
          "metadata": {},
          "execution_count": 30
        }
      ]
    },
    {
      "cell_type": "markdown",
      "source": [
        "# 10 training runs statistics"
      ],
      "metadata": {
        "id": "hfThM9tSpbHT"
      }
    },
    {
      "cell_type": "code",
      "source": [
        "def get_default_models():\n",
        "\n",
        "  protein_model = ProteinGATModel(\n",
        "      in_channels=protein_in_channels,\n",
        "      out_channels=out_channels,\n",
        "      esm_embedding_dim=esm_embedding_dim,\n",
        "      hidden_dim=protein_hidden_dim,\n",
        "      final_out_dim=final_out_dim\n",
        "  )\n",
        "\n",
        "  substrate_model = SubstrateGATModel(\n",
        "      in_channels=substrate_in_channels,\n",
        "      out_channels=out_channels,\n",
        "      substrate_embedding_dim=substrate_embedding_dim,\n",
        "      hidden_dim=molecule_hidden_dim,\n",
        "      final_out_dim=final_out_dim\n",
        "  )\n",
        "\n",
        "  protein_model = protein_model.to(device)\n",
        "  substrate_model = substrate_model.to(device)\n",
        "\n",
        "  optimizer_protein = torch.optim.Adam(protein_model.parameters(), lr=0.0005, weight_decay=0.003)\n",
        "  optimizer_substrate = torch.optim.Adam(substrate_model.parameters(), lr=0.0005, weight_decay=0.003)\n",
        "\n",
        "  return protein_model, substrate_model, optimizer_protein, optimizer_substrate"
      ],
      "metadata": {
        "id": "7yWx8oMWp3gd"
      },
      "execution_count": null,
      "outputs": []
    },
    {
      "cell_type": "code",
      "source": [
        "results = []\n",
        "for i in range(10):\n",
        "  protein_model, substrate_model, optimizer_protein, optimizer_substrate = get_default_models()\n",
        "  trained_protein_model = train_model(train_data_loader, test_data_loader, device, protein_model, optimizer_protein, model_type='protein', epochs=25, print_out=False)\n",
        "  trained_substrate_model = train_model(train_data_loader, test_data_loader, device, substrate_model, optimizer_substrate, model_type='substrate', epochs=12, print_out=False)\n",
        "  results.append(evaluate_three_way_ensemble(trained_protein_model, trained_substrate_model, xgb_model, test_data_loader, device))"
      ],
      "metadata": {
        "id": "1wM_s5Fipj1S"
      },
      "execution_count": null,
      "outputs": []
    },
    {
      "cell_type": "code",
      "source": [
        "import statistics\n",
        "print(\"10 times avg test results\")\n",
        "print(\"Mean:\", statistics.mean(results))\n",
        "print(\"Standard Deviation: \", statistics.stdev(results))"
      ],
      "metadata": {
        "colab": {
          "base_uri": "https://localhost:8080/"
        },
        "id": "PhoU8_1G0Gtf",
        "outputId": "e45db71c-d788-47f5-ad5b-3dfeaef2ad4d"
      },
      "execution_count": null,
      "outputs": [
        {
          "output_type": "stream",
          "name": "stdout",
          "text": [
            "10 times avg test results\n",
            "Mean: 0.4159693759815282\n",
            "Standard Deviation:  0.004941309170043397\n"
          ]
        }
      ]
    }
  ],
  "metadata": {
    "accelerator": "GPU",
    "colab": {
      "gpuType": "T4",
      "provenance": []
    },
    "kernelspec": {
      "display_name": "Python 3",
      "name": "python3"
    },
    "language_info": {
      "name": "python"
    }
  },
  "nbformat": 4,
  "nbformat_minor": 0
}